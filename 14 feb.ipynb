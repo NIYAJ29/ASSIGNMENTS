{
 "cells": [
  {
   "cell_type": "markdown",
   "id": "718c8b56-d946-4853-b4aa-3637aa6a8163",
   "metadata": {},
   "source": [
    "Q1. What is multithreading in python? hy is it used? Name the module used to handle threads in python"
   ]
  },
  {
   "cell_type": "markdown",
   "id": "be0145e6-bb39-40d5-b9db-aa249e917e60",
   "metadata": {},
   "source": [
    "Multithreading in Python is a technique used to run multiple threads (smaller units of a process) simultaneously within the same program, allowing for concurrent execution of multiple tasks. In other words, a program can be designed to have multiple threads of execution that run in parallel, which can result in improved performance and responsiveness.\n",
    "\n",
    "Multithreading is used in situations where a program needs to perform multiple tasks simultaneously, or where a task can be divided into smaller sub-tasks that can be executed concurrently. Examples include I/O-bound tasks (e.g. downloading data from the internet) or CPU-bound tasks (e.g. image processing).\n",
    "\n",
    "In Python, the \"threading\" module is used to handle threads."
   ]
  },
  {
   "cell_type": "markdown",
   "id": "893ea41b-6fae-4b92-aa68-096bbc2a5f4e",
   "metadata": {},
   "source": [
    "Q2.Why threading module used? Write the use of the following functions\n",
    "1. activeCount()\n",
    "2. currentThread()\n",
    "3. enumerate()"
   ]
  },
  {
   "cell_type": "markdown",
   "id": "f231992f-7beb-490d-b24e-21f403fe2dd7",
   "metadata": {},
   "source": [
    "This module provides a way to create, manage and manipulate threads in a Python program. With the \"threading\" module, you can create new threads, start and stop threads, and communicate between threads. It is a built-in module, so it comes with the standard Python installation and does not require any additional installation or setup.\n",
    "\n",
    "1. activeCount(): This function is used to return the number of currently active threads in the program. It is useful for debugging and monitoring the program's performance.\n",
    "\n",
    "2. currentThread(): This function is used to return a reference to the current thread object. It is useful for identifying and manipulating the current thread, for example, to set thread-specific data or to terminate the thread.\n",
    "\n",
    "3. enumerate(): This function is used to return a list of all the thread objects that are currently active in the program. It is useful for debugging and monitoring the program's performance, as well as for manipulating individual threads or groups of threads. The returned list contains all threads, including the main thread, which has the name \"MainThread\"."
   ]
  },
  {
   "cell_type": "markdown",
   "id": "ab912017-2e6a-4201-91e9-5dbb41887076",
   "metadata": {},
   "source": [
    "Q3. Explain the following functions\n",
    "1. run()\n",
    "2. start()\n",
    "3. join()\n",
    "4. isAlive()"
   ]
  },
  {
   "cell_type": "markdown",
   "id": "fbbd86e3-c549-4829-a111-69c76f2c5e12",
   "metadata": {},
   "source": [
    "1.run(): This function is called when a thread is started using the \"start()\" method. It is used to define the behavior of the thread when it is running. The \"run()\" method should be overridden in a subclass to define the specific behavior of the thread. When the \"start()\" method is called, it creates a new thread and calls the \"run()\" method of that thread to execute the desired behavior.\n",
    "\n",
    "2.start(): This function is used to start a new thread of execution. It creates a new thread and calls the \"run()\" method of that thread to execute the desired behavior. The \"start()\" method does not block the calling thread, but instead returns immediately, allowing the new thread to run concurrently with the calling thread.\n",
    "\n",
    "3.join(): This function is used to block the calling thread until the thread it is called on has finished execution. When the \"join()\" method is called on a thread, the calling thread blocks and waits for the target thread to finish executing. This is useful for coordinating the execution of multiple threads and for ensuring that a thread has finished its work before continuing with the program.\n",
    "\n",
    "4.isAlive(): This function is used to check whether a thread is currently running or not. It returns a boolean value indicating whether the thread is still executing or has finished its work. This function is useful for checking the status of a thread and for coordinating the execution of multiple threads. If the returned value is True, the thread is still executing, and if it is False, the thread has finished executing."
   ]
  },
  {
   "cell_type": "markdown",
   "id": "8e8c13be-cb8e-48ce-b275-dcc0b82ac4ca",
   "metadata": {},
   "source": [
    "Q4. Write a python program to create two threads. Thread one must print the list of squares and thread two must print the list of cubes."
   ]
  },
  {
   "cell_type": "code",
   "execution_count": 1,
   "id": "63041e01-072c-4ebe-a890-05bf50e1b460",
   "metadata": {},
   "outputs": [
    {
     "name": "stdout",
     "output_type": "stream",
     "text": [
      "1 squared is 1\n",
      "2 squared is 4\n",
      "3 squared is 9\n",
      "4 squared is 16\n",
      "5 squared is 25\n",
      "6 squared is 36\n",
      "7 squared is 49\n",
      "8 squared is 64\n",
      "9 squared is 81\n",
      "10 squared is 100\n",
      "1 cubed is 1\n",
      "2 cubed is 8\n",
      "3 cubed is 27\n",
      "4 cubed is 64\n",
      "5 cubed is 125\n",
      "6 cubed is 216\n",
      "7 cubed is 343\n",
      "8 cubed is 512\n",
      "9 cubed is 729\n",
      "10 cubed is 1000\n"
     ]
    }
   ],
   "source": [
    "import threading\n",
    "\n",
    "def print_squares():\n",
    "    for i in range(1, 11):\n",
    "        print(f\"{i} squared is {i**2}\")\n",
    "\n",
    "def print_cubes():\n",
    "    for i in range(1, 11):\n",
    "        print(f\"{i} cubed is {i**3}\")\n",
    "\n",
    "if __name__ == \"__main__\":\n",
    "    # Create two threads\n",
    "    thread1 = threading.Thread(target=print_squares)\n",
    "    thread2 = threading.Thread(target=print_cubes)\n",
    "\n",
    "    # Start the threads\n",
    "    thread1.start()\n",
    "    thread2.start()\n",
    "\n",
    "    # Wait for the threads to finish\n",
    "    thread1.join()\n",
    "    thread2.join()\n",
    "\n",
    "    # The main thread will not exit until both threads have finished"
   ]
  },
  {
   "cell_type": "markdown",
   "id": "7fb13e97-a654-400d-89dc-84414aa4d1fa",
   "metadata": {},
   "source": [
    "Q5. State advantages and disadvantages of multithreading."
   ]
  },
  {
   "cell_type": "markdown",
   "id": "ac7e5f39-9814-4ffe-a3dd-4afaa5106747",
   "metadata": {},
   "source": [
    "Advantages of Multithreading:\n",
    "\n",
    "1. Improved performance: Multithreading can improve the performance of a program by allowing it to execute multiple tasks simultaneously.\n",
    "\n",
    "2. Increased responsiveness: Multithreading can make a program more responsive by allowing it to continue executing other tasks while waiting for slow I/O operations to complete.\n",
    "\n",
    "3. Better resource utilization: Multithreading can make better use of system resources, such as CPU time and memory, by allowing multiple threads to share these resources.\n",
    "\n",
    "4. Easier to write concurrent code: Multithreading provides an easier and more natural way to write concurrent code, as it allows you to break a task into smaller sub-tasks that can be executed concurrently.\n",
    "\n",
    "\n",
    "Disadvantages of Multithreading:\n",
    "\n",
    "1. Complexity: Multithreading can add complexity to a program, making it harder to design and debug. It can be difficult to ensure that multiple threads don't interfere with each other or access the same resources at the same time.\n",
    "\n",
    "2. Increased overhead: Multithreading can add overhead to a program, as it requires additional resources to manage the threads and the synchronization between them. This can lead to decreased performance in some cases.\n",
    "\n",
    "3. Deadlocks and race conditions: Multithreading can introduce subtle bugs in a program, such as deadlocks and race conditions, that can be difficult to detect and fix.\n",
    "\n",
    "4. Platform-dependent: Multithreading is platform-dependent, and different platforms have different implementations of the threading model. This can lead to portability issues when writing multithreaded code."
   ]
  },
  {
   "cell_type": "markdown",
   "id": "cf613707-cc0f-4d04-9109-2220f764473b",
   "metadata": {},
   "source": [
    "Q6. Explain deadlocks and race conditions."
   ]
  },
  {
   "cell_type": "markdown",
   "id": "c204cc54-fd49-4568-9502-319e9aca4905",
   "metadata": {},
   "source": [
    "deadlock and race conditions are two common problems that can occur in multithreaded programs.\n",
    "\n",
    "1. Deadlocks:\n",
    "\n",
    "Deadlock is a situation that occurs when two or more threads are waiting for each other to release resources, resulting in a situation where none of the threads can proceed. A deadlock can occur when multiple threads try to acquire locks on resources in a different order, and as a result, they end up blocking each other. Deadlocks can be difficult to detect and fix because they occur when the program reaches a state where it cannot make progress. To avoid deadlocks, it is important to ensure that threads always acquire locks on resources in a consistent order.\n",
    "\n",
    "2. Race conditions:\n",
    "\n",
    "A race condition is a situation where two or more threads access a shared resource at the same time, and the outcome of the program depends on the order in which the threads execute. Race conditions can lead to unexpected behavior and bugs in a program because the order in which the threads execute is not deterministic. For example, if two threads try to increment the same variable at the same time, the final value of the variable will depend on the order in which the threads execute. To avoid race conditions, it is important to ensure that access to shared resources is synchronized properly using locks or other synchronization mechanisms."
   ]
  },
  {
   "cell_type": "code",
   "execution_count": null,
   "id": "12193383-1e04-4120-b85c-28896ac8b6fa",
   "metadata": {},
   "outputs": [],
   "source": []
  }
 ],
 "metadata": {
  "kernelspec": {
   "display_name": "Python 3 (ipykernel)",
   "language": "python",
   "name": "python3"
  },
  "language_info": {
   "codemirror_mode": {
    "name": "ipython",
    "version": 3
   },
   "file_extension": ".py",
   "mimetype": "text/x-python",
   "name": "python",
   "nbconvert_exporter": "python",
   "pygments_lexer": "ipython3",
   "version": "3.10.8"
  }
 },
 "nbformat": 4,
 "nbformat_minor": 5
}
