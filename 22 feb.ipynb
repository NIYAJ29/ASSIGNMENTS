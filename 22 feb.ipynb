{
 "cells": [
  {
   "cell_type": "code",
   "execution_count": 1,
   "id": "3f9bab16-1416-4cef-9a10-e731e03ec6e8",
   "metadata": {},
   "outputs": [],
   "source": [
    "import requests\n",
    "from bs4 import BeautifulSoup as bs\n",
    "from urllib.request import urlopen\n",
    "import logging"
   ]
  },
  {
   "cell_type": "markdown",
   "id": "37e0a215-de2b-4efd-b720-e1c9b89132b4",
   "metadata": {},
   "source": [
    "Q1.  Write a python program to extract the video URL of the first five videos."
   ]
  },
  {
   "cell_type": "code",
   "execution_count": 2,
   "id": "b69b6bf0-659b-4b4c-b16e-d885e080c3b8",
   "metadata": {},
   "outputs": [],
   "source": [
    "youtube_url = 'https://www.youtube.com/@PW-Foundation/videos'"
   ]
  },
  {
   "cell_type": "code",
   "execution_count": 3,
   "id": "69a9a09c-2758-4294-9c96-ff83f993166e",
   "metadata": {},
   "outputs": [
    {
     "data": {
      "text/plain": [
       "'https://www.youtube.com/@PW-Foundation/videos'"
      ]
     },
     "execution_count": 3,
     "metadata": {},
     "output_type": "execute_result"
    }
   ],
   "source": [
    "youtube_url"
   ]
  },
  {
   "cell_type": "code",
   "execution_count": 4,
   "id": "743e534c-9e43-4c9d-b0b0-3f7b676847fe",
   "metadata": {},
   "outputs": [],
   "source": [
    "youtube_page = requests.get(youtube_url)"
   ]
  },
  {
   "cell_type": "code",
   "execution_count": 5,
   "id": "847c459c-c636-48b1-a96f-c4328d99184a",
   "metadata": {},
   "outputs": [],
   "source": [
    "youtube_html = bs(youtube_page.text, 'html.parser')"
   ]
  },
  {
   "cell_type": "code",
   "execution_count": null,
   "id": "3fe92336-7f3e-4073-9528-4270b09a1308",
   "metadata": {},
   "outputs": [],
   "source": []
  },
  {
   "cell_type": "code",
   "execution_count": 8,
   "id": "5f962fd3-644d-4191-8dfc-0e2d3d1ae7f9",
   "metadata": {},
   "outputs": [
    {
     "data": {
      "text/plain": [
       "[]"
      ]
     },
     "execution_count": 8,
     "metadata": {},
     "output_type": "execute_result"
    }
   ],
   "source": [
    "youtube_html.find_all('div', {'class': 'style-scope ytd-rich-grid-row'})"
   ]
  },
  {
   "cell_type": "code",
   "execution_count": null,
   "id": "261be7ed-de41-4934-aa40-7539262d332e",
   "metadata": {},
   "outputs": [],
   "source": []
  },
  {
   "cell_type": "code",
   "execution_count": 7,
   "id": "3ff9c7bd-ef58-4695-9e70-e6c2ca69f81f",
   "metadata": {},
   "outputs": [
    {
     "data": {
      "text/plain": [
       "'https://www.youtube.com/watch?v=nX5ONgCdLcc&t=2s'"
      ]
     },
     "execution_count": 7,
     "metadata": {},
     "output_type": "execute_result"
    }
   ],
   "source": [
    "'https://www.youtube.com' + '/watch?v=nX5ONgCdLcc&t=2s'"
   ]
  },
  {
   "cell_type": "code",
   "execution_count": null,
   "id": "1ad756ff-ce3a-4dfa-8dd2-23fb1b4e2338",
   "metadata": {},
   "outputs": [],
   "source": []
  }
 ],
 "metadata": {
  "kernelspec": {
   "display_name": "Python 3 (ipykernel)",
   "language": "python",
   "name": "python3"
  },
  "language_info": {
   "codemirror_mode": {
    "name": "ipython",
    "version": 3
   },
   "file_extension": ".py",
   "mimetype": "text/x-python",
   "name": "python",
   "nbconvert_exporter": "python",
   "pygments_lexer": "ipython3",
   "version": "3.10.8"
  }
 },
 "nbformat": 4,
 "nbformat_minor": 5
}
