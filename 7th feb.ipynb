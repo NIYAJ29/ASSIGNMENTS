{
 "cells": [
  {
   "cell_type": "code",
   "execution_count": 9,
   "id": "2e82a7f2-5b8d-4cab-85e4-a3fd6d3a1736",
   "metadata": {},
   "outputs": [
    {
     "name": "stdin",
     "output_type": "stream",
     "text": [
      "Enter password:  kULad@!$12\n"
     ]
    },
    {
     "name": "stdout",
     "output_type": "stream",
     "text": [
      "Valid Password\n"
     ]
    }
   ],
   "source": [
    "#1\n",
    "import re\n",
    "\n",
    "def validate_password(password):\n",
    "    # Check for length\n",
    "    if len(password) != 10:\n",
    "        return \"Invalid Password\"\n",
    "    \n",
    "    # Check for at least two uppercase letters and two lowercase letters\n",
    "    upper_letters = re.compile(r'[A-Z]{2,}')\n",
    "    lower_letters = re.compile(r'[a-z]{2,}')\n",
    "    if not upper_letters.search(password) or not lower_letters.search(password):\n",
    "        return \"Invalid Password\"\n",
    "    \n",
    "    # Check for at least one number and three special characters\n",
    "    numbers = re.compile(r'\\d')\n",
    "    special_chars = re.compile(r'[@$!%*?&]{3,}')\n",
    "    if not numbers.search(password) or not special_chars.search(password):\n",
    "        return \"Invalid Password\"\n",
    "    \n",
    "    # If all checks pass, return \"Valid Password\"\n",
    "    return \"Valid Password\"\n",
    "\n",
    "# Taking password input from user\n",
    "password = input(\"Enter password: \")\n",
    "print(validate_password(password))"
   ]
  },
  {
   "cell_type": "code",
   "execution_count": 14,
   "id": "832e7fa4-1771-4096-9fa3-0274dedb4922",
   "metadata": {},
   "outputs": [
    {
     "data": {
      "text/plain": [
       "['guava', 'grapes']"
      ]
     },
     "execution_count": 14,
     "metadata": {},
     "output_type": "execute_result"
    }
   ],
   "source": [
    "# 2 Check if the string starts with a particular letter.\n",
    "\n",
    "w = ['mango', 'orange', 'banana', 'stawbery', 'guava', 'grapes']\n",
    "\n",
    "list(filter(lambda word : word.startswith('g'), w))"
   ]
  },
  {
   "cell_type": "code",
   "execution_count": 16,
   "id": "f8c25f0a-1af8-4d72-8c27-50e032007b18",
   "metadata": {},
   "outputs": [
    {
     "data": {
      "text/plain": [
       "['123', '456', '5', '45']"
      ]
     },
     "execution_count": 16,
     "metadata": {},
     "output_type": "execute_result"
    }
   ],
   "source": [
    "# 2 Check if the string is numeric.\n",
    "\n",
    "n = ['123', '456', 'niyaj', '5', 'jkl', '45']\n",
    "\n",
    "list(filter(lambda numeric : numeric.isnumeric(), n))"
   ]
  },
  {
   "cell_type": "code",
   "execution_count": 21,
   "id": "daef335c-cc4a-4d5e-97fc-b87b735e8451",
   "metadata": {},
   "outputs": [
    {
     "data": {
      "text/plain": [
       "[('grapes', 1000), ('mango', 99), ('orange', 80)]"
      ]
     },
     "execution_count": 21,
     "metadata": {},
     "output_type": "execute_result"
    }
   ],
   "source": [
    "# 2 Sort a list of tuples having fruit names and their quantity. [(\"mango\",99),(\"orange\",80), (\"grapes\", 1000).\n",
    "\n",
    "f = [(\"mango\",99),(\"orange\",80), (\"grapes\", 1000)]\n",
    "list(sorted(f, key = lambda x : x[1], reverse = True))"
   ]
  },
  {
   "cell_type": "code",
   "execution_count": 27,
   "id": "3e9e3122-854c-467b-a065-d8d9cf61c020",
   "metadata": {},
   "outputs": [
    {
     "data": {
      "text/plain": [
       "[0, 1, 4, 9, 16, 25, 36, 49, 64, 81, 100]"
      ]
     },
     "execution_count": 27,
     "metadata": {},
     "output_type": "execute_result"
    }
   ],
   "source": [
    "# 2 Find the squares of numbers from 1 to 10.\n",
    "\n",
    "list(x**2 for x in range(0,11))"
   ]
  },
  {
   "cell_type": "code",
   "execution_count": 29,
   "id": "2cec0510-f9a3-416c-8a80-c4be8fc601bb",
   "metadata": {},
   "outputs": [
    {
     "data": {
      "text/plain": [
       "[0.0,\n",
       " 1.0,\n",
       " 1.2599210498948732,\n",
       " 1.4422495703074083,\n",
       " 1.5874010519681994,\n",
       " 1.7099759466766968,\n",
       " 1.8171205928321397,\n",
       " 1.912931182772389,\n",
       " 2.0,\n",
       " 2.080083823051904,\n",
       " 2.154434690031884]"
      ]
     },
     "execution_count": 29,
     "metadata": {},
     "output_type": "execute_result"
    }
   ],
   "source": [
    "# 2 Find the cube root of numbers from 1 to 10.\n",
    "\n",
    "list(x**(1/3) for x in range(0,11))"
   ]
  },
  {
   "cell_type": "code",
   "execution_count": 30,
   "id": "47da95c9-5c18-4276-9f24-fe64df542918",
   "metadata": {},
   "outputs": [
    {
     "data": {
      "text/plain": [
       "[2, 4, 6, 8, 10]"
      ]
     },
     "execution_count": 30,
     "metadata": {},
     "output_type": "execute_result"
    }
   ],
   "source": [
    "# 2 Check if a given number is even.\n",
    "\n",
    "l = [1,2,3,4,5,6,9,8,7,10,15]\n",
    "\n",
    "list(filter(lambda x : x%2 == 0, l))"
   ]
  },
  {
   "cell_type": "code",
   "execution_count": 31,
   "id": "7a7235c9-7abd-4ca5-9e91-03694190d461",
   "metadata": {},
   "outputs": [
    {
     "data": {
      "text/plain": [
       "[1, 3, 5, 7, 9]"
      ]
     },
     "execution_count": 31,
     "metadata": {},
     "output_type": "execute_result"
    }
   ],
   "source": [
    "# 2 Filter odd numbers from the given list.\n",
    "\n",
    "k = [1,2,3,4,5,6,7,8,9,10]\n",
    "\n",
    "list(filter(lambda y : y%2 != 0, k))"
   ]
  },
  {
   "cell_type": "code",
   "execution_count": 35,
   "id": "25b862a6-72c5-4714-ad47-ddf8b38cf9ae",
   "metadata": {},
   "outputs": [
    {
     "name": "stdout",
     "output_type": "stream",
     "text": [
      "postive number :  [1, 2, 3, 4, 5, 6]\n",
      "negtive number :  [-1, -2, -3, -4, -5]\n"
     ]
    }
   ],
   "source": [
    "# 2 Sort a list of integers into positive and negative integers lists.\n",
    "\n",
    "o = [1,2,3,4,5,6,-1,-2,-3,-4,-5,0]\n",
    "\n",
    "l1 = list(filter(lambda v : v > 0 , o))\n",
    "l2 = list(filter(lambda v : v < 0 , o))\n",
    "\n",
    "print('postive number : ', l1)\n",
    "print('negtive number : ', l2)"
   ]
  },
  {
   "cell_type": "code",
   "execution_count": null,
   "id": "bc208a6c-7341-4826-8bc4-35ac7d14cd9e",
   "metadata": {},
   "outputs": [],
   "source": []
  }
 ],
 "metadata": {
  "kernelspec": {
   "display_name": "Python 3 (ipykernel)",
   "language": "python",
   "name": "python3"
  },
  "language_info": {
   "codemirror_mode": {
    "name": "ipython",
    "version": 3
   },
   "file_extension": ".py",
   "mimetype": "text/x-python",
   "name": "python",
   "nbconvert_exporter": "python",
   "pygments_lexer": "ipython3",
   "version": "3.10.8"
  }
 },
 "nbformat": 4,
 "nbformat_minor": 5
}
