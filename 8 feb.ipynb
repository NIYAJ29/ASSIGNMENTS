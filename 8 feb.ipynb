{
 "cells": [
  {
   "cell_type": "markdown",
   "id": "112c05d8-60a2-4569-9501-a670b939b905",
   "metadata": {},
   "source": [
    "1.Abstraction is a process of hiding the internal details and showing only the necessary information to the user. It is a key concept in Object-Oriented Programming (OOP) and provides a way to simplify the complexity of a system by separating its behavior and data.\n",
    "\n",
    "In Python, abstraction is achieved by defining classes and objects. A class defines the behavior and attributes of a group of similar objects, while an object represents a specific instance of that class."
   ]
  },
  {
   "cell_type": "code",
   "execution_count": 1,
   "id": "63bcfc9d-e9fa-4784-bd9e-2589a1eb1c45",
   "metadata": {},
   "outputs": [
    {
     "name": "stdout",
     "output_type": "stream",
     "text": [
      "Starting the engine of Toyota Camry\n"
     ]
    }
   ],
   "source": [
    "class Car:\n",
    "    def __init__(self, make, model, year, color):\n",
    "        self.make = make\n",
    "        self.model = model\n",
    "        self.year = year\n",
    "        self.color = color\n",
    "\n",
    "    def start_engine(self):\n",
    "        print(\"Starting the engine of\", self.make, self.model)\n",
    "\n",
    "my_car = Car(\"Toyota\", \"Camry\", 2020, \"red\")\n",
    "\n",
    "# The user only sees the start_engine method and does not need to know about the internal details of the class.\n",
    "my_car.start_engine()"
   ]
  },
  {
   "cell_type": "markdown",
   "id": "94eaa29d-d43c-40ba-a3ef-be3f8a7731fe",
   "metadata": {},
   "source": [
    "2.Abstraction refers to the process of hiding complex details from the user and only exposing relevant information. It helps simplify the complexity of a system by showing only the necessary information to the user.\n",
    "\n",
    "Encapsulation refers to the process of wrapping data and behavior inside a single unit or object. This protects the data from external access and modification, and ensures that the data and behavior are tightly coupled."
   ]
  },
  {
   "cell_type": "code",
   "execution_count": 4,
   "id": "2b7f7ea0-16aa-42c0-a580-d5710e0985a7",
   "metadata": {},
   "outputs": [
    {
     "name": "stdout",
     "output_type": "stream",
     "text": [
      "Starting the engine of Toyota Camry\n"
     ]
    },
    {
     "ename": "AttributeError",
     "evalue": "'Car' object has no attribute '__make'",
     "output_type": "error",
     "traceback": [
      "\u001b[0;31m---------------------------------------------------------------------------\u001b[0m",
      "\u001b[0;31mAttributeError\u001b[0m                            Traceback (most recent call last)",
      "Cell \u001b[0;32mIn[4], line 17\u001b[0m\n\u001b[1;32m     14\u001b[0m my_car\u001b[38;5;241m.\u001b[39mstart_engine()\n\u001b[1;32m     16\u001b[0m \u001b[38;5;66;03m# Encapsulation: The user cannot directly access or modify the internal data of the class.\u001b[39;00m\n\u001b[0;32m---> 17\u001b[0m \u001b[38;5;28mprint\u001b[39m(\u001b[43mmy_car\u001b[49m\u001b[38;5;241;43m.\u001b[39;49m\u001b[43m__make\u001b[49m) \u001b[38;5;66;03m# AttributeError: 'Car' object has no attribute '__make'\u001b[39;00m\n",
      "\u001b[0;31mAttributeError\u001b[0m: 'Car' object has no attribute '__make'"
     ]
    }
   ],
   "source": [
    "class Car:\n",
    "    def __init__(self, make, model, year, color):\n",
    "        self.__make = make\n",
    "        self.__model = model\n",
    "        self.__year = year\n",
    "        self.__color = color\n",
    "\n",
    "    def start_engine(self):\n",
    "        print(\"Starting the engine of\", self.__make, self.__model)\n",
    "\n",
    "my_car = Car(\"Toyota\", \"Camry\", 2020, \"red\")\n",
    "\n",
    "# Abstraction: The user only sees the start_engine method and does not need to know about the internal details of the class.\n",
    "my_car.start_engine()\n",
    "\n",
    "# Encapsulation: The user cannot directly access or modify the internal data of the class.\n",
    "print(my_car.__make) # AttributeError: 'Car' object has no attribute '__make'"
   ]
  },
  {
   "cell_type": "markdown",
   "id": "5f93f3bb-7fb4-4a19-9bb4-7e444484f5d5",
   "metadata": {},
   "source": [
    "In this example, the class Car defines the behavior and attributes of a car. The start_engine method shows only the necessary information to the user through abstraction. The user cannot directly access or modify the internal data of the class due to encapsulation, as the internal data is private and can only be accessed through methods defined in the class."
   ]
  },
  {
   "cell_type": "markdown",
   "id": "98a6c59d-90c0-42c4-9ea8-0d546a6084e6",
   "metadata": {},
   "source": [
    "3.The abc module in Python is used to define abstract base classes. An abstract base class is a class that defines an interface, but provides no implementation. Subclasses of an abstract base class are expected to provide an implementation for the methods defined in the abstract base class.\n",
    "\n",
    "The purpose of abstract base classes is to provide a way to enforce a common interface among a set of related classes. By defining an abstract base class, you can ensure that all subclasses have a common set of methods, even if the implementation of those methods is different."
   ]
  },
  {
   "cell_type": "code",
   "execution_count": 7,
   "id": "96e7f103-4d69-44d8-a490-b8e52e85d222",
   "metadata": {},
   "outputs": [
    {
     "name": "stdout",
     "output_type": "stream",
     "text": [
      "300\n"
     ]
    }
   ],
   "source": [
    "import abc\n",
    "\n",
    "class Shape(metaclass=abc.ABCMeta):\n",
    "    @abc.abstractmethod\n",
    "    def area(self):\n",
    "        pass\n",
    "\n",
    "class Rectangle(Shape):\n",
    "    def __init__(self, width, height):\n",
    "        self.width = width\n",
    "        self.height = height\n",
    "    \n",
    "    def area(self):\n",
    "        return self.width * self.height\n",
    "\n",
    "# The Shape class cannot be instantiated because it is an abstract base class\n",
    "#shape = Shape() # TypeError: Can't instantiate abstract class Shape with abstract methods area\n",
    "\n",
    "# The Rectangle class can be instantiated because it provides an implementation for the area method\n",
    "rectangle = Rectangle(15, 20)\n",
    "print(rectangle.area()) # 200"
   ]
  },
  {
   "cell_type": "markdown",
   "id": "f6039c9e-9247-4803-a5ad-6d462c075826",
   "metadata": {},
   "source": [
    "4.Data abstraction can be achieved in several ways:\n",
    "\n",
    "Using Classes and Objects: One way to achieve data abstraction is to define classes and objects in Object-Oriented Programming (OOP). Classes define the behavior and attributes of a group of similar objects, while objects represent a specific instance of that class. By encapsulating the data and behavior within objects, you can hide the internal details from the user and only expose relevant information.\n",
    "\n",
    "Using Private Members: Another way to achieve data abstraction is to use private members. In Python, you can declare private members by prefixing their names with two underscores (__). Private members are only accessible within the class and are not visible to external objects. This protects the data from external access and modification and ensures that the data is tightly coupled with the behavior.\n",
    "\n",
    "Using Accessor and Mutator Methods: Data abstraction can also be achieved by using accessor and mutator methods. Accessor methods allow you to retrieve the value of an object's private members, while mutator methods allow you to change the value of an object's private members. By using accessor and mutator methods, you can control how external objects can access and modify the data of an object."
   ]
  },
  {
   "cell_type": "code",
   "execution_count": 10,
   "id": "e18edc14-b9f4-4257-a9be-42807e3764e9",
   "metadata": {},
   "outputs": [
    {
     "name": "stdout",
     "output_type": "stream",
     "text": [
      "15032\n"
     ]
    }
   ],
   "source": [
    "class BankAccount:\n",
    "    def __init__(self, account_number, balance):\n",
    "        self.__account_number = account_number\n",
    "        self.__balance = balance\n",
    "\n",
    "    def deposit(self, amount):\n",
    "        self.__balance += amount\n",
    "\n",
    "    def withdraw(self, amount):\n",
    "        if self.__balance >= amount:\n",
    "            self.__balance -= amount\n",
    "            return True\n",
    "        else:\n",
    "            return False\n",
    "\n",
    "    def get_balance(self):\n",
    "        return self.__balance\n",
    "\n",
    "# The user only sees the deposit, withdraw, and get_balance methods and does not need to know about the internal details of the class.\n",
    "my_account = BankAccount(123456789, 2000)\n",
    "my_account.deposit(14596)\n",
    "my_account.withdraw(1564)\n",
    "print(my_account.get_balance()) "
   ]
  },
  {
   "cell_type": "markdown",
   "id": "8c70b893-c349-4414-8477-7684506cf7de",
   "metadata": {},
   "source": [
    "5.No, you cannot create an instance of an abstract class. An abstract class is a class that defines an interface, but provides no implementation. It is intended to be used as a base class for other classes to inherit from. The purpose of an abstract class is to define a common interface for a set of related classes, but it is not intended to be instantiated on its own."
   ]
  },
  {
   "cell_type": "code",
   "execution_count": 11,
   "id": "b906cddd-b1b6-401d-8d2c-afe2cac6dea7",
   "metadata": {},
   "outputs": [],
   "source": [
    "import abc\n",
    "\n",
    "class Shape(metaclass=abc.ABCMeta):\n",
    "    @abc.abstractmethod\n",
    "    def area(self):\n",
    "        pass"
   ]
  },
  {
   "cell_type": "markdown",
   "id": "6dc6a0b3-aa74-405e-bd63-e0c1c4fab643",
   "metadata": {},
   "source": [
    "In this example, the 'Shape' class is defined as an abstract base class using the abc module. The 'area' method is marked as an abstract method using the abc.abstractmethod decorator. This means that the Shape class cannot be instantiated because it is an abstract base class."
   ]
  },
  {
   "cell_type": "code",
   "execution_count": 12,
   "id": "6a62328a-15e3-4c9c-8d2b-a1864c5e4f74",
   "metadata": {},
   "outputs": [
    {
     "ename": "TypeError",
     "evalue": "Can't instantiate abstract class Shape with abstract method area",
     "output_type": "error",
     "traceback": [
      "\u001b[0;31m---------------------------------------------------------------------------\u001b[0m",
      "\u001b[0;31mTypeError\u001b[0m                                 Traceback (most recent call last)",
      "Cell \u001b[0;32mIn[12], line 2\u001b[0m\n\u001b[1;32m      1\u001b[0m \u001b[38;5;66;03m# Shape is an abstract class and cannot be instantiated\u001b[39;00m\n\u001b[0;32m----> 2\u001b[0m shape \u001b[38;5;241m=\u001b[39m \u001b[43mShape\u001b[49m\u001b[43m(\u001b[49m\u001b[43m)\u001b[49m \u001b[38;5;66;03m# TypeError: Can't instantiate abstract class Shape with abstract methods area\u001b[39;00m\n",
      "\u001b[0;31mTypeError\u001b[0m: Can't instantiate abstract class Shape with abstract method area"
     ]
    }
   ],
   "source": [
    "# Shape is an abstract class and cannot be instantiated\n",
    "shape = Shape() # TypeError: Can't instantiate abstract class Shape with abstract methods area"
   ]
  },
  {
   "cell_type": "markdown",
   "id": "708c1abb-51ed-47c4-9cab-998859510501",
   "metadata": {},
   "source": [
    "To use an abstract class, you need to define a concrete subclass that provides an implementation for the abstract methods. The concrete subclass can then be instantiated: refer to example of Q 3"
   ]
  },
  {
   "cell_type": "code",
   "execution_count": null,
   "id": "f2e6555a-aeef-43cd-9d5a-58fe0b69ca77",
   "metadata": {},
   "outputs": [],
   "source": []
  }
 ],
 "metadata": {
  "kernelspec": {
   "display_name": "Python 3 (ipykernel)",
   "language": "python",
   "name": "python3"
  },
  "language_info": {
   "codemirror_mode": {
    "name": "ipython",
    "version": 3
   },
   "file_extension": ".py",
   "mimetype": "text/x-python",
   "name": "python",
   "nbconvert_exporter": "python",
   "pygments_lexer": "ipython3",
   "version": "3.10.8"
  }
 },
 "nbformat": 4,
 "nbformat_minor": 5
}
