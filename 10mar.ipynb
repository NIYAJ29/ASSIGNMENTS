{
 "cells": [
  {
   "cell_type": "markdown",
   "id": "b9112471-1d14-4e80-b680-3451f07ec396",
   "metadata": {},
   "source": [
    "Q1: What is Estimation Statistics? Explain point estimate and interval estimate."
   ]
  },
  {
   "cell_type": "markdown",
   "id": "9388acfc-3af9-4795-a1bd-4656c5e21b90",
   "metadata": {},
   "source": [
    "Estimation statistics is a branch of statistics that deals with making inferences about the population parameters based on sample data. The goal of estimation is to provide an estimate of an unknown parameter of a population based on a sample from that population.\n",
    "\n",
    "Point Estimate:\n",
    "A point estimate is a single value that is used to approximate the value of an unknown parameter of a population. It is calculated using a sample statistic, such as the sample mean or sample proportion. The point estimate gives an approximate value of the population parameter but does not provide any information about the accuracy or precision of the estimate.\n",
    "\n",
    "Interval Estimate:\n",
    "An interval estimate, on the other hand, provides a range of values that is likely to contain the unknown population parameter. An interval estimate is calculated using a sample statistic and a margin of error, which is based on the variability of the sample data and the desired level of confidence. The margin of error determines the width of the interval, and the confidence level specifies the probability that the interval contains the true population parameter.\n",
    "\n",
    "For example, if we want to estimate the average height of all people in a country, we can take a sample of people and calculate the sample mean height. This sample mean would be our point estimate. To get an interval estimate, we would calculate a confidence interval around the sample mean. This confidence interval would give us a range of heights that we can be confident will contain the true population mean height."
   ]
  },
  {
   "cell_type": "markdown",
   "id": "22b6ef05-6466-4a12-871b-3e9278b9e1c4",
   "metadata": {},
   "source": [
    "Q2. Write a Python function to estimate the population mean using a sample mean and standard\n",
    "deviation."
   ]
  },
  {
   "cell_type": "code",
   "execution_count": 1,
   "id": "aeabfd8f-4c46-43f2-86bc-b65ea38502d3",
   "metadata": {},
   "outputs": [],
   "source": [
    "import math\n",
    "\n",
    "def estimate_population_mean(sample_mean, sample_std, sample_size):\n",
    "    std_error_mean = sample_std/ math.sqrt(sample_size)\n",
    "    \n",
    "    #calculate marrgin of error with 95 % confidence level\n",
    "    margin_error = 1.96 * std_error_mean\n",
    "    \n",
    "    \n",
    "    upper_bound = sample_mean + margin_error\n",
    "    lower_bound = sample_mean - margin_error\n",
    "    \n",
    "    return (sample_mean, upper_bound, lower_bound)\n",
    "    \n",
    "    \n",
    "    "
   ]
  },
  {
   "cell_type": "markdown",
   "id": "a990dc7d-48b2-4e02-a880-c66183b29f0b",
   "metadata": {},
   "source": [
    "Q3: What is Hypothesis testing? Why is it used? State the importance of Hypothesis testing."
   ]
  },
  {
   "cell_type": "markdown",
   "id": "e372ef2b-4b8a-46c6-a235-4c108ae67202",
   "metadata": {},
   "source": [
    "Hypothesis testing is a statistical method used to determine whether a given hypothesis about a population parameter is likely to be true or false. The hypothesis is typically stated as two opposing statements, called the null hypothesis and alternative hypothesis. The null hypothesis represents the status quo, while the alternative hypothesis represents the claim being tested.\n",
    "\n",
    "The importance of hypothesis testing lies in its ability to make data-driven decisions based on evidence from sample data. By testing a hypothesis, we can determine whether a claim about a population parameter is supported by the data or not. This can help in making informed decisions in various fields, such as healthcare, finance, and engineering.\n",
    "\n",
    "Hypothesis testing can also help in identifying potential errors in data analysis and research design. By setting up a null hypothesis and testing it, we can assess whether the observed results are likely to be due to chance or not. This can help in identifying potential biases or flaws in the data or research design."
   ]
  },
  {
   "cell_type": "markdown",
   "id": "0c457b80-a3f3-4f21-8f9a-3240c7c9ae7c",
   "metadata": {},
   "source": [
    "Q4. Create a hypothesis that states whether the average weight of male college students is greater than\n",
    "the average weight of female college students."
   ]
  },
  {
   "cell_type": "markdown",
   "id": "b20464c1-23b3-4b93-8b32-f57caddcec0e",
   "metadata": {},
   "source": [
    "Null Hypothesis (H0): The average weight of male college students is equal to or less than the average weight of female college students.\n",
    "\n",
    "Alternative Hypothesis (Ha): The average weight of male college students is greater than the average weight of female college students.\n",
    "\n",
    "Symbolically,\n",
    "\n",
    "H0: μ_male <= μ_female\n",
    "\n",
    "Ha: μ_male > μ_female\n",
    "\n",
    "Where,\n",
    "\n",
    "μ_male: population mean weight of male college students\n",
    "\n",
    "μ_female: population mean weight of female college students"
   ]
  },
  {
   "cell_type": "markdown",
   "id": "b1be566b-d99e-408b-9189-25d35f4db954",
   "metadata": {},
   "source": [
    "Q5. Write a Python script to conduct a hypothesis test on the difference between two population means,\n",
    "given a sample from each population."
   ]
  },
  {
   "cell_type": "code",
   "execution_count": 6,
   "id": "694ce48a-4f6e-442c-baea-3b13d56c105a",
   "metadata": {},
   "outputs": [
    {
     "name": "stdout",
     "output_type": "stream",
     "text": [
      "Mean of sample 1 :  11.704521047120421\n",
      "mean of sample 2 :  12.872175490133884\n",
      "std deviation of sample 1 :  2.2222740404275223\n",
      "std deviation of sample 2 :  1.9179052839746675\n",
      "T test and P value :  -2.3546007951040555 and 0.021436831705897226\n"
     ]
    }
   ],
   "source": [
    "import numpy as np\n",
    "from scipy import stats\n",
    "\n",
    "sample1 = np.random.normal(11,2,size=30)\n",
    "sample2 = np.random.normal(13,2,size= 40)\n",
    "\n",
    "sample1_mean = np.mean(sample1)\n",
    "sample2_mean = np.mean(sample2)\n",
    "sample1_std = np.std(sample1, ddof=1)\n",
    "sample2_std = np.std(sample2, ddof=1)\n",
    "\n",
    "\n",
    "t_test, p_value = stats.ttest_ind(sample1, sample2, equal_var = True)\n",
    "\n",
    "print('Mean of sample 1 : ', sample1_mean)\n",
    "print('mean of sample 2 : ', sample2_mean)\n",
    "print('std deviation of sample 1 : ', sample1_std)\n",
    "print('std deviation of sample 2 : ', sample2_std )\n",
    "\n",
    "print('T statistic and P value : ', t_test,'and', p_value)\n",
    "\n"
   ]
  },
  {
   "cell_type": "markdown",
   "id": "9868bd84-3d10-4ec4-ba86-2279ffb8f870",
   "metadata": {},
   "source": [
    "Q6: What is a null and alternative hypothesis? Give some examples."
   ]
  },
  {
   "cell_type": "markdown",
   "id": "760819fe-3d70-4d35-9d89-08022c6f973d",
   "metadata": {},
   "source": [
    "In hypothesis testing, the null hypothesis (H0) is a statement that represents the status quo or the default assumption. The alternative hypothesis (Ha) is a statement that represents the claim being tested against the null hypothesis. The two hypotheses are mutually exclusive and exhaustive, meaning that if one is true, the other must be false.\n",
    "\n",
    "Here are some examples of null and alternative hypotheses:\n",
    "\n",
    "Example 1: A company claims that their new product is more effective than the existing product.\n",
    "\n",
    "Null Hypothesis: The new product is not more effective than the existing product.\n",
    "\n",
    "Alternative Hypothesis: The new product is more effective than the existing product.\n",
    "\n",
    "Example 2: A researcher wants to test if a new drug reduces blood pressure more than a placebo.\n",
    "\n",
    "Null Hypothesis: The new drug does not reduce blood pressure more than the placebo.\n",
    "\n",
    "Alternative Hypothesis: The new drug reduces blood pressure more than the placebo.\n",
    "\n",
    "Example 3: A school principal believes that the average IQ of their students is above the national average of 100.\n",
    "\n",
    "Null Hypothesis: The average IQ of the students is not above the national average of 100.\n",
    "\n",
    "Alternative Hypothesis: The average IQ of the students is above the national average of 100."
   ]
  },
  {
   "cell_type": "markdown",
   "id": "936af035-f49d-481d-8c68-9bde1be30cc3",
   "metadata": {},
   "source": [
    "Q7: Write down the steps involved in hypothesis testing."
   ]
  },
  {
   "cell_type": "markdown",
   "id": "bf8c08fc-c208-4a79-8069-2e0da34becf9",
   "metadata": {},
   "source": [
    "Here are the general steps involved in hypothesis testing:\n",
    "\n",
    "1. State the null and alternative hypotheses: The null hypothesis (H0) represents the status quo or the default assumption, while the alternative hypothesis (Ha) represents the claim being tested against the null hypothesis.\n",
    "\n",
    "2. Determine the level of significance (alpha): The level of significance (alpha) is the maximum probability of rejecting the null hypothesis when it is true. Typically, alpha is set at 0.05 or 0.01.\n",
    "\n",
    "3. Choose the appropriate test statistic: The test statistic is a measure of how far the sample result is from the expected result under the null hypothesis. The choice of test statistic depends on the nature of the problem and the type of data being analyzed.\n",
    "\n",
    "4. Calculate the test statistic: The test statistic is calculated using the sample data and the chosen test statistic formula.\n",
    "\n",
    "5. Determine the p-value: The p-value is the probability of obtaining a test statistic at least as extreme as the observed value, assuming that the null hypothesis is true.\n",
    "\n",
    "6. Compare the p-value with the level of significance: If the p-value is less than or equal to the level of significance (p-value <= alpha), the null hypothesis is rejected in favor of the alternative hypothesis. Otherwise, the null hypothesis is not rejected.\n",
    "\n",
    "7. Interpret the results: If the null hypothesis is rejected, it means that the evidence supports the alternative hypothesis. If the null hypothesis is not rejected, it means that the evidence is not strong enough to reject the null hypothesis.\n",
    "\n",
    "8. Draw conclusions: Based on the results, draw conclusions and make decisions about the research question or problem being investigated."
   ]
  },
  {
   "cell_type": "markdown",
   "id": "f62c129e-e9bc-4b25-86d4-5306ac1bdc85",
   "metadata": {},
   "source": [
    "Q8. Define p-value and explain its significance in hypothesis testing."
   ]
  },
  {
   "cell_type": "markdown",
   "id": "42b28e11-b772-4cba-a8f8-65b41ee37c64",
   "metadata": {},
   "source": [
    "In hypothesis testing, the p-value is the probability of obtaining a test statistic at least as extreme as the observed value, assuming that the null hypothesis is true. It measures the strength of evidence against the null hypothesis, and a small p-value indicates strong evidence against the null hypothesis.\n",
    "\n",
    "The significance of the p-value in hypothesis testing is that it helps in determining whether to reject or fail to reject the null hypothesis. Typically, if the p-value is less than or equal to the level of significance (alpha), the null hypothesis is rejected in favor of the alternative hypothesis. This means that the observed result is unlikely to have occurred by chance alone, and supports the alternative hypothesis.\n",
    "\n",
    "On the other hand, if the p-value is greater than the level of significance, the null hypothesis is not rejected. This means that the observed result is not unlikely to have occurred by chance alone, and there is insufficient evidence to support the alternative hypothesis."
   ]
  },
  {
   "cell_type": "markdown",
   "id": "c2d06e6d-7e1b-405d-83c6-dbdcfc578398",
   "metadata": {},
   "source": [
    "Q9. Generate a Student's t-distribution plot using Python's matplotlib library, with the degrees of freedom\n",
    "parameter set to 10."
   ]
  },
  {
   "cell_type": "code",
   "execution_count": 8,
   "id": "218016b7-778c-4540-8235-7c1f3fcfcba5",
   "metadata": {},
   "outputs": [
    {
     "data": {
      "image/png": "[encoded data removed]",
      "text/plain": [
       "<Figure size 640x480 with 1 Axes>"
      ]
     },
     "metadata": {},
     "output_type": "display_data"
    }
   ],
   "source": [
    "import matplotlib.pyplot as plt\n",
    "\n",
    "dof = 10\n",
    "x = np.linspace(-5,5,500)\n",
    "y = stats.t.pdf(x,dof)\n",
    "\n",
    "\n",
    "plt.plot(x,y)\n",
    "plt.xlabel('X')\n",
    "plt.ylabel('probability density')\n",
    "plt.title('students t-distribution (dof =10)')\n",
    "plt.show()"
   ]
  },
  {
   "cell_type": "markdown",
   "id": "ce2c28bf-a76c-4d35-8d0d-14e075989752",
   "metadata": {},
   "source": [
    "Q10. Write a Python program to calculate the two-sample t-test for independent samples, given two\n",
    "random samples of equal size and a null hypothesis that the population means are equal."
   ]
  },
  {
   "cell_type": "code",
   "execution_count": 10,
   "id": "4de1175d-c6a5-4ece-86bc-c672cf493187",
   "metadata": {},
   "outputs": [
    {
     "name": "stdout",
     "output_type": "stream",
     "text": [
      "T statistic :  0.10569320484161794\n",
      "P value :  0.9159327716466845\n"
     ]
    }
   ],
   "source": [
    "s1 = np.random.normal(5,2,100)\n",
    "s2 = np.random.normal(4.5,2,100)\n",
    "\n",
    "t_test, p_value = stats.ttest_ind(s1,s2, equal_var=True)\n",
    "\n",
    "print('T statistic : ', t_test)\n",
    "print('P value : ', p_value)"
   ]
  },
  {
   "cell_type": "markdown",
   "id": "a681f997-f56f-495f-b87b-cb33b45f0355",
   "metadata": {},
   "source": [
    "Q11: What is Student’s t distribution? When to use the t-Distribution."
   ]
  },
  {
   "cell_type": "markdown",
   "id": "50aa42a1-761d-45b2-ad26-e14c139efe11",
   "metadata": {},
   "source": [
    "Student's t-distribution is a probability distribution that is used in hypothesis testing when the sample size is small and the population standard deviation is unknown. The distribution is named after William Gosset, who wrote under the pseudonym \"Student\" while working at the Guinness brewery in Dublin, Ireland.\n",
    "\n",
    "The t-distribution is similar to the standard normal distribution, but with heavier tails. The shape of the distribution depends on the degrees of freedom, which is defined as the sample size minus one. As the degrees of freedom increase, the t-distribution approaches the standard normal distribution.\n",
    "\n",
    "The t-distribution is used when the sample size is small and the population standard deviation is unknown. This often arises in practice when we have a limited amount of data and we want to make inferences about the population from which the data were drawn. In such cases, we use the t-distribution to estimate the standard error of the sample mean, which is a measure of the variability of the sample means that would be obtained from repeated samples of the same size from the population."
   ]
  },
  {
   "cell_type": "markdown",
   "id": "f088a23b-8866-451b-b1d0-fcf208099afb",
   "metadata": {},
   "source": [
    "Q12: What is t-statistic? State the formula for t-statistic.\n"
   ]
  },
  {
   "cell_type": "markdown",
   "id": "4617a47a-3228-4c64-92e8-4ccd539e73bc",
   "metadata": {},
   "source": [
    "The t-statistic is a test statistic used in hypothesis testing when the population standard deviation is unknown and must be estimated from the sample data. It measures the difference between the sample mean and the null hypothesis mean in units of the standard error of the mean.\n",
    "\n",
    "The formula for the t-statistic is:\n",
    "\n",
    "t = (x̄ - μ) / (s / √n)\n",
    "\n",
    "where:\n",
    "\n",
    "x̄ is the sample mean\n",
    "\n",
    "μ is the null hypothesis mean\n",
    "\n",
    "s is the sample standard deviation\n",
    "\n",
    "n is the sample size\n",
    "\n",
    "The t-statistic measures the difference between the sample mean and the null hypothesis mean in units of the standard error of the mean, which is estimated by dividing the sample standard deviation by the square root of the sample size."
   ]
  },
  {
   "cell_type": "markdown",
   "id": "5096ff8b-e2eb-4da1-8b2d-32fd6b2a4265",
   "metadata": {},
   "source": [
    "Q13. A coffee shop owner wants to estimate the average daily revenue for their shop. They take a random\n",
    "sample of 50 days and find the sample mean revenue to be 500 dollars with a standard deviation of 50 dollars.\n",
    "Estimate the population mean revenue with a 95% confidence interval."
   ]
  },
  {
   "cell_type": "markdown",
   "id": "0cedd8bf-9409-4644-9380-a06817a2118c",
   "metadata": {},
   "source": [
    "To estimate the population mean revenue with a 95% confidence interval, we can use the following formula:\n",
    "\n",
    "mu = x̄ ± t*(s/√n)\n",
    "\n",
    "mu = $500 ± t*(50/√50)\n",
    "\n",
    "The degrees of freedom for this problem is n-1 = 50-1 = 49. Using a t-distribution table or calculator with a confidence level of 95% and 49 degrees of freedom, we find the critical value of t to be approximately 2.009.\n",
    "\n",
    "Plugging this value into the formula, we get:\n",
    "\n",
    "mu = $500 ± 2.009*(50/√50)\n",
    "\n",
    "Simplifying the expression, we get:\n",
    "\n",
    "mu = $500 ± 14.14\n",
    "\n",
    "Therefore, the 95% confidence interval for the population mean revenue is ( 485.86 dollars, 514.14 dollars). We can be 95% confident that the true population mean revenue falls within this interval"
   ]
  },
  {
   "cell_type": "markdown",
   "id": "b2f760a9-18c8-4ba2-8fba-f83d1a20f764",
   "metadata": {},
   "source": [
    "Q14. A researcher hypothesizes that a new drug will decrease blood pressure by 10 mmHg. They conduct a\n",
    "clinical trial with 100 patients and find that the sample mean decrease in blood pressure is 8 mmHg with a\n",
    "standard deviation of 3 mmHg. Test the hypothesis with a significance level of 0.05."
   ]
  },
  {
   "cell_type": "markdown",
   "id": "d50c879f-f044-4561-ae65-417f974e96da",
   "metadata": {},
   "source": [
    "To test the hypothesis that the new drug decreases blood pressure by 10 mmHg, we can use a one-sample t-test with the following null and alternative hypotheses:\n",
    "\n",
    "Null hypothesis: The true mean decrease in blood pressure is not significantly different from 10 mmHg.\n",
    "\n",
    "Alternative hypothesis: The true mean decrease in blood pressure is significantly less than 10 mmHg.\n",
    "\n",
    "We can use a significance level of 0.05, which corresponds to a 95% confidence level.\n",
    "\n",
    "The test statistic for a one-sample t-test is given by:\n",
    "\n",
    "t = (x̄ - μ) / (s / √n)\n",
    "\n",
    "\n",
    "t = (8 - 10) / (3 / √100) = -6.66\n",
    "\n",
    "The degrees of freedom for this problem is n-1 = 100-1 = 99. Using a t-distribution table or calculator with 99 degrees of freedom, we find the critical value of t for a one-tailed test with a significance level of 0.05 to be approximately -1.660.\n",
    "\n",
    "Since the calculated t-value (-6.66) is less than the critical t-value (-1.660), we can reject the null hypothesis and conclude that the new drug significantly decreases blood pressure by more than 10 mmHg at a significance level of 0.05."
   ]
  },
  {
   "cell_type": "markdown",
   "id": "826cefc5-5ea8-431e-8df1-c0363fb448da",
   "metadata": {},
   "source": [
    "Q15. An electronics company produces a certain type of product with a mean weight of 5 pounds and a\n",
    "standard deviation of 0.5 pounds. A random sample of 25 products is taken, and the sample mean weight\n",
    "is found to be 4.8 pounds. Test the hypothesis that the true mean weight of the products is less than 5\n",
    "pounds with a significance level of 0.01."
   ]
  },
  {
   "cell_type": "markdown",
   "id": "df65743e-4206-409b-b409-3b8b6b7eb3c1",
   "metadata": {},
   "source": [
    "To test the hypothesis that the true mean weight of the products is less than 5 pounds, we can use a one-sample t-test with the following null and alternative hypotheses:\n",
    "\n",
    "Null hypothesis: The true mean weight of the products is not significantly less than 5 pounds.\n",
    "\n",
    "Alternative hypothesis: The true mean weight of the products is significantly less than 5 pounds.\n",
    "\n",
    "We can use a significance level of 0.01, which corresponds to a 99% confidence level.\n",
    "\n",
    "The test statistic for a one-sample t-test is given by:\n",
    "\n",
    "t = (x̄ - μ) / (s / √n)\n",
    "\n",
    "\n",
    "t = (4.8 - 5) / (0.5 / √25) = -2.00\n",
    "\n",
    "The degrees of freedom for this problem is n-1 = 25-1 = 24. Using a t-distribution table or calculator with 24 degrees of freedom, we find the critical value of t for a one-tailed test with a significance level of 0.01 to be approximately -2.492.\n",
    "\n",
    "Since the calculated t-value (-2.00) is greater than the critical t-value (-2.492), we fail to reject the null hypothesis and conclude that there is not enough evidence to suggest that the true mean weight of the products is significantly less than 5 pounds at a significance level of 0.01."
   ]
  },
  {
   "cell_type": "markdown",
   "id": "586ea1d3-5f26-44fd-a284-c6e6cc8a371c",
   "metadata": {},
   "source": [
    "Q16. Two groups of students are given different study materials to prepare for a test. The first group (n1 =\n",
    "30) has a mean score of 80 with a standard deviation of 10, and the second group (n2 = 40) has a mean\n",
    "score of 75 with a standard deviation of 8. Test the hypothesis that the population means for the two\n",
    "groups are equal with a significance level of 0.01."
   ]
  },
  {
   "cell_type": "markdown",
   "id": "39e44546-9037-49e9-a055-bc0657f9ec1a",
   "metadata": {},
   "source": [
    "To test the hypothesis that the population means for the two groups are equal, we can use a two-sample t-test with the following null and alternative hypotheses:\n",
    "\n",
    "Null hypothesis: The population means for the two groups are equal.\n",
    "Alternative hypothesis: The population means for the two groups are not equal.\n",
    "We can use a significance level of 0.01, which corresponds to a 99% confidence level.\n",
    "\n",
    "The test statistic for a two-sample t-test is given by:\n",
    "\n",
    "t = (x̄1 - x̄2) / se\n",
    "\n",
    "where:\n",
    "\n",
    "x̄1 and x̄2 are the sample means of the two groups\n",
    "se is the standard error of the difference between the means, given by:\n",
    "se = √((s1^2 / n1) + (s2^2 / n2))\n",
    "\n",
    "where:\n",
    "\n",
    "s1 and s2 are the sample standard deviations of the two groups\n",
    "n1 and n2 are the sample sizes of the two groups\n",
    "Substituting the values given in the problem, we get:\n",
    "\n",
    "se = √((10^2 / 30) + (8^2 / 40)) = 2.326\n",
    "\n",
    "t = (80 - 75) / 2.326 = 2.15\n",
    "\n",
    "The degrees of freedom for this problem is given by:\n",
    "\n",
    "df = (s1^2 / n1 + s2^2 / n2)^2 / ((s1^2 / n1)^2 / (n1 - 1) + (s2^2 / n2)^2 / (n2 - 1))\n",
    "\n",
    "Substituting the values given in the problem, we get:\n",
    "\n",
    "df = (10^2 / 30 + 8^2 / 40)^2 / ((10^2 / 30)^2 / 29 + (8^2 / 40)^2 / 39) = 64.67 (rounded to the nearest integer)\n",
    "\n",
    "Using a t-distribution table or calculator with 64 degrees of freedom and a significance level of 0.01 for a two-tailed test, we find the critical t-value to be approximately ±2.660.\n",
    "\n",
    "Since the calculated t-value (2.15) does not exceed the critical t-value (2.660) in absolute value, we fail to reject the null hypothesis and conclude that there is not enough evidence to suggest that the population means for the two groups are different at a significance level of 0.01"
   ]
  },
  {
   "cell_type": "markdown",
   "id": "ce2b6e3b-21b0-4f6a-9055-eb572ecd128a",
   "metadata": {},
   "source": [
    "Q17. A marketing company wants to estimate the average number of ads watched by viewers during a TV\n",
    "program. They take a random sample of 50 viewers and find that the sample mean is 4 with a standard\n",
    "deviation of 1.5. Estimate the population mean with a 99% confidence interval."
   ]
  },
  {
   "cell_type": "markdown",
   "id": "33f87159-fbcf-455b-b084-8898c21bc4c2",
   "metadata": {},
   "source": [
    "To estimate the population mean with a 99% confidence interval, we can use the following formula:\n",
    "\n",
    "Confidence interval = sample mean ± (critical value x standard error)\n",
    "\n",
    "where the critical value is obtained from the t-distribution table based on the level of significance and degrees of freedom, and the standard error is calculated as the standard deviation divided by the square root of the sample size.\n",
    "\n",
    "Here, we have a sample size of 50, so the degrees of freedom will be 50 - 1 = 49. The critical value for a 99% confidence level and 49 degrees of freedom is 2.68 (obtained from the t-distribution table). The standard error can be calculated as:\n",
    "\n",
    "Standard error = standard deviation / √sample size\n",
    "= 1.5 / √50\n",
    "= 0.2121\n",
    "\n",
    "Therefore, the 99% confidence interval can be calculated as:\n",
    "\n",
    "Confidence interval = 4 ± (2.68 x 0.2121)\n",
    "= 4 ± 0.5694\n",
    "= (3.4306, 4.5694)\n",
    "\n",
    "So we can say with 99% confidence that the true population mean lies within the interval of (3.4306, 4.5694).\n",
    "\n",
    "\n",
    "\n",
    "\n",
    "\n"
   ]
  },
  {
   "cell_type": "code",
   "execution_count": null,
   "id": "b7ea7397-bf2b-4322-86d5-1b476fa1bb68",
   "metadata": {},
   "outputs": [],
   "source": []
  }
 ],
 "metadata": {
  "kernelspec": {
   "display_name": "Python 3 (ipykernel)",
   "language": "python",
   "name": "python3"
  },
  "language_info": {
   "codemirror_mode": {
    "name": "ipython",
    "version": 3
   },
   "file_extension": ".py",
   "mimetype": "text/x-python",
   "name": "python",
   "nbconvert_exporter": "python",
   "pygments_lexer": "ipython3",
   "version": "3.10.8"
  }
 },
 "nbformat": 4,
 "nbformat_minor": 5
}
