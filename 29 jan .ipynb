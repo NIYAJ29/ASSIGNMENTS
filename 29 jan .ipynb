{
 "cells": [
  {
   "cell_type": "code",
   "execution_count": null,
   "id": "c5b57dee-7661-4a80-8897-3daee0a5ec14",
   "metadata": {},
   "outputs": [],
   "source": [
    "1. Gudio Van Rossum"
   ]
  },
  {
   "cell_type": "code",
   "execution_count": null,
   "id": "e7e06997-8d82-42e1-a6b7-c30c0898efc4",
   "metadata": {},
   "outputs": [],
   "source": [
    "2.Python is a multi-paradigm programming language. Object-oriented programming and structured programming fully supported, and many of their \n",
    "features support functional programming and aspect-oriented programming (including metaprogramming and metaobjects)."
   ]
  },
  {
   "cell_type": "code",
   "execution_count": null,
   "id": "34d187d4-838a-4734-b6bf-29a09339025b",
   "metadata": {},
   "outputs": [],
   "source": [
    "3. Yes, Python is a case-sensitive language, i.e., it treats uppercase and lowercase characters differently. This applies to identifiers too.\n",
    "You must avoid using the same name with different cases while naming identifiers"
   ]
  },
  {
   "cell_type": "code",
   "execution_count": null,
   "id": "453635db-f3ac-4964-b642-560c783f523f",
   "metadata": {},
   "outputs": [],
   "source": [
    "4. .py, .pyi"
   ]
  },
  {
   "cell_type": "code",
   "execution_count": null,
   "id": "fb22d2ed-b903-44c0-b6f3-57f4f1eb77a9",
   "metadata": {},
   "outputs": [],
   "source": [
    "5. Python is a interperted programming language."
   ]
  },
  {
   "cell_type": "code",
   "execution_count": null,
   "id": "ad932764-b008-4998-9acc-be756a2fa6a9",
   "metadata": {},
   "outputs": [],
   "source": [
    "6.Indentation is used to define a block of code in python."
   ]
  },
  {
   "cell_type": "code",
   "execution_count": null,
   "id": "c8e5f08a-e22c-419b-9dce-f96c73b144bd",
   "metadata": {},
   "outputs": [],
   "source": [
    "7.#"
   ]
  },
  {
   "cell_type": "code",
   "execution_count": null,
   "id": "a6e45dd0-4d2f-4dc9-a8ee-de6b8fd0ae95",
   "metadata": {},
   "outputs": [],
   "source": [
    "8.sys. version method, python_version() function, Python -V command"
   ]
  },
  {
   "cell_type": "code",
   "execution_count": null,
   "id": "6d05d31e-c68b-415c-9e2a-d7d2189e4c32",
   "metadata": {},
   "outputs": [],
   "source": [
    "9.lambda"
   ]
  },
  {
   "cell_type": "code",
   "execution_count": null,
   "id": "e76744a4-c70a-4c9d-a0b3-f1db4b74bc47",
   "metadata": {},
   "outputs": [],
   "source": [
    "10.prefferd installer program"
   ]
  },
  {
   "cell_type": "code",
   "execution_count": null,
   "id": "4c7fa259-8b42-4759-8a2c-03a5721bb347",
   "metadata": {},
   "outputs": [],
   "source": [
    "11. print, type, sorted, input, abs, max, pow"
   ]
  },
  {
   "cell_type": "code",
   "execution_count": null,
   "id": "f094752e-ad9e-41ee-b2f2-1703d50137d0",
   "metadata": {},
   "outputs": [],
   "source": [
    "12. 79 characters"
   ]
  },
  {
   "cell_type": "code",
   "execution_count": null,
   "id": "e94f83d5-1caa-4c4e-9303-cc3dad17ccea",
   "metadata": {},
   "outputs": [],
   "source": [
    "13. Data science.\n",
    "Scientific and mathematical computing.\n",
    "Web development.\n",
    "Finance and trading.\n",
    "System automation and administration.\n",
    "Computer graphics.\n",
    "Basic game development.\n",
    "Security and penetration testing."
   ]
  },
  {
   "cell_type": "code",
   "execution_count": null,
   "id": "5657e969-5392-4598-8154-ae0ae22ab7a1",
   "metadata": {},
   "outputs": [],
   "source": [
    "14. Memory management in Python involves a private heap containing all Python objects and data structures."
   ]
  },
  {
   "cell_type": "code",
   "execution_count": null,
   "id": "e7a36059-fd7f-4517-b2f8-f31585c8292b",
   "metadata": {},
   "outputs": [],
   "source": [
    "15. Select Version of Python to Install\n",
    "    Download Python Executable Installer\n",
    "    Run Executable Installer\n",
    "    Verify Python is installed on Windows\n",
    "    Verify Pip was installed"
   ]
  },
  {
   "cell_type": "code",
   "execution_count": null,
   "id": "5b3f0f3a-2aba-4e00-b6a4-20b6a222b0fd",
   "metadata": {},
   "outputs": [],
   "source": [
    "16. YES"
   ]
  }
 ],
 "metadata": {
  "kernelspec": {
   "display_name": "Python 3 (ipykernel)",
   "language": "python",
   "name": "python3"
  },
  "language_info": {
   "codemirror_mode": {
    "name": "ipython",
    "version": 3
   },
   "file_extension": ".py",
   "mimetype": "text/x-python",
   "name": "python",
   "nbconvert_exporter": "python",
   "pygments_lexer": "ipython3",
   "version": "3.10.8"
  }
 },
 "nbformat": 4,
 "nbformat_minor": 5
}
