{
 "cells": [
  {
   "cell_type": "code",
   "execution_count": 17,
   "id": "05181e3f-db7f-4ea1-b58f-b4bc9262ed86",
   "metadata": {},
   "outputs": [],
   "source": [
    "# 1\n",
    "# def keyword id used to create function\n",
    "def oddnum():\n",
    "    return list(range(1,26,2))\n",
    "    "
   ]
  },
  {
   "cell_type": "code",
   "execution_count": 18,
   "id": "739e7249-40e8-45dd-8f98-ccf8e290b6ce",
   "metadata": {},
   "outputs": [
    {
     "data": {
      "text/plain": [
       "[1, 3, 5, 7, 9, 11, 13, 15, 17, 19, 21, 23, 25]"
      ]
     },
     "execution_count": 18,
     "metadata": {},
     "output_type": "execute_result"
    }
   ],
   "source": [
    "oddnum()"
   ]
  },
  {
   "cell_type": "code",
   "execution_count": null,
   "id": "03495a98-c111-448d-a26e-0c456eb09fb6",
   "metadata": {},
   "outputs": [],
   "source": [
    "#2\n",
    "# *args and **kwargs are used as arguments in a function definition.\n",
    "# *args is used to send a non-keyworded variable length argument list to the function.\n",
    "#It allows you to pass an arbitrary number of arguments to a function. The arguments passed to the function are collected into a tuple.\n",
    "\n",
    "#**kwargs allows you to pass keyworded variable length of arguments to a function. You can pass keyworded arguments to a function,\n",
    "#where the parameter name is associated with the argument value passed. The arguments passed to the function are collected into a dictionary.\n",
    "\n",
    "#Using *args and **kwargs in a function definition allows you to handle an arbitrary number of arguments and keyword arguments,\n",
    "#giving you more flexibility in how you use your functions.\n"
   ]
  },
  {
   "cell_type": "code",
   "execution_count": 29,
   "id": "9ca88aac-3bf3-4618-ad13-4646c954e07c",
   "metadata": {},
   "outputs": [
    {
     "name": "stdout",
     "output_type": "stream",
     "text": [
      "(1, 4, 56, 3, 6, 7, 2)\n"
     ]
    }
   ],
   "source": [
    "# args example\n",
    "def give_argument(*args):\n",
    "    return args\n",
    "print( give_argument(1,4,56,3,6,7,2))"
   ]
  },
  {
   "cell_type": "code",
   "execution_count": 30,
   "id": "9b34e4f5-503f-48d8-8195-e09550f43a2d",
   "metadata": {},
   "outputs": [
    {
     "name": "stdout",
     "output_type": "stream",
     "text": [
      "{'a': [1, 2, 3, 4, 5], 'b': 'niyaj', 'c': 456.6}\n"
     ]
    }
   ],
   "source": [
    "# kwars example\n",
    "def give_dict(**kwargs):\n",
    "    return kwargs\n",
    "print(give_dict(a = [1,2,3,4,5], b = \"niyaj\", c = 456.6 ))"
   ]
  },
  {
   "cell_type": "code",
   "execution_count": 1,
   "id": "d0dd158f-48e4-48a4-9267-a60fd8c1cf37",
   "metadata": {},
   "outputs": [
    {
     "name": "stdout",
     "output_type": "stream",
     "text": [
      "2\n",
      "4\n",
      "6\n",
      "8\n",
      "10\n"
     ]
    }
   ],
   "source": [
    "# 3\n",
    "# An iterator in Python is an object that implements two methods, __iter__() and __next__(), and can be used with a for loop\n",
    "# or the next() function to iterate over its elements one by one. The __iter__() method returns the iterator object, and the __next__()\n",
    "# method returns the next element in the iteration, until there are no more elements to return, in which case it raises the StopIteration\n",
    "# exception. An example of an iterator in Python is a list,which can be iterated over using a for loop.\n",
    "nlist = [2, 4, 6, 8, 10, 12, 14, 16, 18, 20]\n",
    "list_iterator = iter(nlist)\n",
    "\n",
    "for i in range(5):\n",
    "    print(next(list_iterator))"
   ]
  },
  {
   "cell_type": "code",
   "execution_count": 11,
   "id": "defc5ec0-51ef-404f-962e-938598627349",
   "metadata": {},
   "outputs": [
    {
     "name": "stdout",
     "output_type": "stream",
     "text": [
      "0\n",
      "1\n",
      "1\n",
      "2\n",
      "3\n",
      "5\n",
      "8\n",
      "13\n",
      "21\n",
      "34\n"
     ]
    }
   ],
   "source": [
    "# 4\n",
    "#  a generator is a function that returns an iterator that produces a sequence of values when iterated over.Generators are useful when we want\n",
    "# to produce a large sequence of values, but we don't want to store all of them in memory at once.The yield statement returns a generator object\n",
    "# to the one who calls the function which contains yield,instead of simply returning a value\n",
    "def test_fibonacci(n):\n",
    "    a,b = 0,1\n",
    "    for i in range(n):\n",
    "        yield a\n",
    "        a,b = b, a+b\n",
    "for i in test_fibonacci(10):\n",
    "    print(i)"
   ]
  },
  {
   "cell_type": "code",
   "execution_count": 9,
   "id": "ccd5e3f5-1ff9-4e36-b847-637a4aff648d",
   "metadata": {},
   "outputs": [
    {
     "name": "stdout",
     "output_type": "stream",
     "text": [
      "[2, 3, 5, 7, 11, 13, 17, 19, 23, 29, 31, 37, 41, 43, 47, 53, 59, 61, 67, 71, 73, 79, 83, 89, 97, 101, 103, 107, 109, 113, 127, 131, 137, 139, 149, 151, 157, 163, 167, 173, 179, 181, 191, 193, 197, 199, 211, 223, 227, 229, 233, 239, 241, 251, 257, 263, 269, 271, 277, 281, 283, 293, 307, 311, 313, 317, 331, 337, 347, 349, 353, 359, 367, 373, 379, 383, 389, 397, 401, 409, 419, 421, 431, 433, 439, 443, 449, 457, 461, 463, 467, 479, 487, 491, 499, 503, 509, 521, 523, 541, 547, 557, 563, 569, 571, 577, 587, 593, 599, 601, 607, 613, 617, 619, 631, 641, 643, 647, 653, 659, 661, 673, 677, 683, 691, 701, 709, 719, 727, 733, 739, 743, 751, 757, 761, 769, 773, 787, 797, 809, 811, 821, 823, 827, 829, 839, 853, 857, 859, 863, 877, 881, 883, 887, 907, 911, 919, 929, 937, 941, 947, 953, 967, 971, 977, 983, 991, 997]\n",
      " \n",
      "2 3 5 7 11 13 17 19 23 29 31 37 41 43 47 53 59 61 67 71 "
     ]
    }
   ],
   "source": [
    "#5\n",
    "def primeN(k = 1000):\n",
    "    for i in range (2, k+1):\n",
    "        if i == 2:\n",
    "            yield i\n",
    "        else :\n",
    "            for j in range (2, i//2+1):\n",
    "                if i % j == 0 :\n",
    "                    break\n",
    "            else:\n",
    "                yield i\n",
    "                    \n",
    "m = primeN()\n",
    "print(list(m))\n",
    "print(' ')\n",
    "x = primeN()\n",
    "for i in range(1,21):\n",
    "    print(next(x), end = ' ')\n",
    "                    "
   ]
  },
  {
   "cell_type": "code",
   "execution_count": 2,
   "id": "34da5c37-5579-46ec-8a26-b34179fd39f0",
   "metadata": {},
   "outputs": [
    {
     "name": "stdout",
     "output_type": "stream",
     "text": [
      "0\n",
      "1\n",
      "1\n",
      "2\n",
      "3\n",
      "5\n",
      "8\n",
      "13\n",
      "21\n",
      "34\n"
     ]
    }
   ],
   "source": [
    "# 6\n",
    "fibonacci = 10\n",
    "x,y = 0,1\n",
    "k = 0\n",
    "\n",
    "while k < fibonacci :\n",
    "    print (x)\n",
    "    z = x+y\n",
    "    x = y\n",
    "    y = z\n",
    "    k = k+1\n",
    "\n"
   ]
  },
  {
   "cell_type": "code",
   "execution_count": 4,
   "id": "e29d9e54-7773-4c9e-97cc-438e526db911",
   "metadata": {},
   "outputs": [
    {
     "name": "stdout",
     "output_type": "stream",
     "text": [
      "['p', 'w', 's', 'k', 'i', 'l', 'l', 's']\n"
     ]
    }
   ],
   "source": [
    "# 7\n",
    "s = \"pwskills\"\n",
    "l = [l for l in s]\n",
    "print(l)"
   ]
  },
  {
   "cell_type": "code",
   "execution_count": 12,
   "id": "0121825a-1018-4ef9-ab30-cc5947a90253",
   "metadata": {},
   "outputs": [
    {
     "name": "stdin",
     "output_type": "stream",
     "text": [
      "Enter a number:  12321\n"
     ]
    },
    {
     "name": "stdout",
     "output_type": "stream",
     "text": [
      "The number is a palindrome.\n"
     ]
    }
   ],
   "source": [
    "# 8\n",
    "def is_PD(number):\n",
    "    original_number = number\n",
    "    reverse = 0\n",
    "    while number > 0:\n",
    "        last_digit = number % 10\n",
    "        reverse = reverse * 10 + last_digit\n",
    "        number = number // 10\n",
    "    return original_number == reverse\n",
    "\n",
    "number = int(input(\"Enter a number: \"))\n",
    "if is_PD(number):\n",
    "    print(\"The number is a palindrome.\")\n",
    "else:\n",
    "    print(\"The number is not a palindrome.\")"
   ]
  },
  {
   "cell_type": "code",
   "execution_count": 10,
   "id": "9de47533-238a-45aa-81da-ce3890d48cfa",
   "metadata": {},
   "outputs": [
    {
     "name": "stdout",
     "output_type": "stream",
     "text": [
      "[1, 2, 3, 4, 5, 6, 7, 8, 9, 10, 11, 12, 13, 14, 15, 16, 17, 18, 19, 20, 21, 22, 23, 24, 25, 26, 27, 28, 29, 30, 31, 32, 33, 34, 35, 36, 37, 38, 39, 40, 41, 42, 43, 44, 45, 46, 47, 48, 49, 50, 51, 52, 53, 54, 55, 56, 57, 58, 59, 60, 61, 62, 63, 64, 65, 66, 67, 68, 69, 70, 71, 72, 73, 74, 75, 76, 77, 78, 79, 80, 81, 82, 83, 84, 85, 86, 87, 88, 89, 90, 91, 92, 93, 94, 95, 96, 97, 98, 99, 100]\n"
     ]
    }
   ],
   "source": [
    "#9\n",
    "odd_n = [n for n in range(1,101) if x/z != 0]\n",
    "print(odd_n)"
   ]
  },
  {
   "cell_type": "code",
   "execution_count": null,
   "id": "d2c869be-621d-42d4-b1f3-747f31e812c4",
   "metadata": {},
   "outputs": [],
   "source": []
  }
 ],
 "metadata": {
  "kernelspec": {
   "display_name": "Python 3 (ipykernel)",
   "language": "python",
   "name": "python3"
  },
  "language_info": {
   "codemirror_mode": {
    "name": "ipython",
    "version": 3
   },
   "file_extension": ".py",
   "mimetype": "text/x-python",
   "name": "python",
   "nbconvert_exporter": "python",
   "pygments_lexer": "ipython3",
   "version": "3.10.8"
  }
 },
 "nbformat": 4,
 "nbformat_minor": 5
}
