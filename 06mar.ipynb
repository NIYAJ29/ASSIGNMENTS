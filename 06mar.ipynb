{
 "cells": [
  {
   "cell_type": "markdown",
   "id": "51cc57f3-138c-40d6-80a4-0745697c5308",
   "metadata": {},
   "source": [
    "Q1. What is Statistics?"
   ]
  },
  {
   "cell_type": "markdown",
   "id": "957f1fd5-e9e9-4c34-9312-7ecc4a9a6d55",
   "metadata": {},
   "source": [
    "Statistics is a science of collecting, organinizing and analazing for decision making processes."
   ]
  },
  {
   "cell_type": "markdown",
   "id": "18c25c85-6bc8-49d8-aeca-133d5ffb4e9e",
   "metadata": {},
   "source": [
    "Q2. Define the different types of statistics and give an example of when each type might be used."
   ]
  },
  {
   "cell_type": "markdown",
   "id": "171bf1d4-cb31-4393-bb55-5c53470da3b7",
   "metadata": {},
   "source": [
    "There are two types of statistics Descriptive and Inferential:\n",
    "    \n",
    "Descriptive Statistics: Descriptive statistics involves the collection, organization, and presentation of data in a way that provides insight into the characteristics of the data set. It involves the use of measures such as mean, median, mode, standard deviation, variance, range, quartiles, and percentiles.\n",
    "Example: Suppose you want to determine the average height of students in a class. You would collect data on the height of each student, calculate the mean height of the students, and use descriptive statistics to describe the distribution of heights.\n",
    "\n",
    "Inferential Statistics: Inferential statistics involves using a sample to draw conclusions about a larger population. It involves making inferences about the characteristics of a population based on data collected from a sample.\n",
    "Example: Suppose you want to determine the average height of students in a school. It may be impractical to measure the height of every student in the school, so you might take a random sample of students and use inferential statistics to make an estimate of the average height of all the students in the school.\n",
    "\n"
   ]
  },
  {
   "cell_type": "markdown",
   "id": "126542ca-3755-45ef-8688-3c041474da59",
   "metadata": {},
   "source": [
    "Q3. What are the different types of data and how do they differ from each other? Provide an example of\n",
    "each type of data."
   ]
  },
  {
   "cell_type": "markdown",
   "id": "e9d62f12-eee4-4911-8c7b-edb3721f1469",
   "metadata": {},
   "source": [
    "There are four main types of data: nominal, ordinal, interval, and ratio.\n",
    "\n",
    "Nominal Data: Nominal data is data that consists of names, labels, or categories that have no inherent order or numerical value. Nominal data can be qualitative or categorical.\n",
    "Example: Hair color, gender, and favorite color are all examples of nominal data.\n",
    "\n",
    "Ordinal Data: Ordinal data is data that can be put in order or rank, but the difference between each data point is not necessarily equal.\n",
    "Example: A survey that asks respondents to rate their satisfaction with a product or service on a scale of 1 to 5 is an example of ordinal data. While the ratings can be ranked, the difference between a rating of 1 and 2 may not be the same as the difference between a rating of 4 and 5.\n",
    "\n",
    "Interval Data: Interval data is data that has a numerical value and a consistent unit of measurement, and the difference between each data point is equal. However, interval data does not have a true zero point.\n",
    "Example: Temperature measured in degrees Celsius or Fahrenheit is an example of interval data. While the difference between 10°C and 20°C is the same as the difference between 20°C and 30°C, a temperature of 0°C does not indicate the complete absence of heat.\n",
    "\n",
    "Ratio Data: Ratio data is data that has a numerical value, a consistent unit of measurement, the difference between each data point is equal, and it has a true zero point.\n",
    "Example: Weight, height, and income are examples of ratio data. A weight of 0 kg or a height of 0 cm indicates a complete absence of weight or height, and a salary of $0 indicates the absence of income."
   ]
  },
  {
   "cell_type": "markdown",
   "id": "50a54cc5-f11c-4257-9811-1f57c97a8f80",
   "metadata": {},
   "source": [
    "Q4. Categorise the following datasets with respect to quantitative and qualitative data types:\n",
    "\n",
    "(i) Grading in exam: A+, A, B+, B, C+, C, D, E\n",
    "\n",
    "(ii) Colour of mangoes: yellow, green, orange, red\n",
    "\n",
    "(iii) Height data of a class: [178.9, 179, 179.5, 176, 177.2, 178.3, 175.8,...]\n",
    "\n",
    "(iv) Number of mangoes exported by a farm: [500, 600, 478, 672, ...]"
   ]
  },
  {
   "cell_type": "markdown",
   "id": "ce80d9ed-3780-4ff2-995a-0cd0721347bf",
   "metadata": {},
   "source": [
    "1 - qualitative \n",
    "\n",
    "2 - Qualitative\n",
    "\n",
    "3 - Quantitative\n",
    "\n",
    "4 - quantitative\n"
   ]
  },
  {
   "cell_type": "markdown",
   "id": "fee5c79c-b74f-479a-a7a0-40efc24fab0b",
   "metadata": {},
   "source": [
    "Q5. Explain the concept of levels of measurement and give an example of a variable for each level."
   ]
  },
  {
   "cell_type": "markdown",
   "id": "564412fb-8123-4686-9ba1-534eec4f5bba",
   "metadata": {},
   "source": [
    "The levels of measurement, also known as scales of measurement, are a way of categorizing variables based on the mathematical properties of the data. The four levels of measurement are nominal, ordinal, interval, and ratio.\n",
    "\n",
    "Nominal Level: The nominal level of measurement is used to classify variables into categories that have no inherent order or numerical value. Nominal variables are categorical data and cannot be quantified.\n",
    "Example: Gender, eye color, and country of birth are examples of nominal variables.\n",
    "\n",
    "Ordinal Level: The ordinal level of measurement is used to rank or order variables, but the difference between each data point is not necessarily equal.\n",
    "Example: Survey responses that ask respondents to rank their satisfaction on a scale from \"very dissatisfied\" to \"very satisfied\" is an example of ordinal variables.\n",
    "\n",
    "Interval Level: The interval level of measurement is used to measure variables where the difference between each data point is equal. However, there is no true zero point.\n",
    "Example: Temperature measured in degrees Celsius is an example of interval variables.\n",
    "\n",
    "Ratio Level: The ratio level of measurement is used to measure variables where the difference between each data point is equal and there is a true zero point.\n",
    "Example: Height, weight, and income are examples of ratio variables"
   ]
  },
  {
   "cell_type": "markdown",
   "id": "0b99a84e-6e76-448e-b80d-144be285a380",
   "metadata": {},
   "source": [
    "Q6. Why is it important to understand the level of measurement when analyzing data? Provide an\n",
    "example to illustrate your answer."
   ]
  },
  {
   "cell_type": "markdown",
   "id": "ca6ee9aa-e982-48a0-a56f-55a065c407ac",
   "metadata": {},
   "source": [
    "It is important to understand the level of measurement when analyzing data because it affects the types of statistical analyses that can be performed on the data. The level of measurement determines which mathematical operations can be applied to the data and what type of conclusions can be drawn from the analysis.\n",
    "\n",
    "For example, if we have nominal data such as the favorite color of a group of people, we can count the number of people who prefer each color, but we cannot calculate a mean or median. Similarly, if we have ordinal data such as a satisfaction rating, we can rank the responses, but we cannot calculate the exact difference between each response.\n",
    "\n",
    "On the other hand, if we have interval or ratio data, such as the temperature or weight, we can calculate the mean, median, standard deviation, and other statistical measures."
   ]
  },
  {
   "cell_type": "markdown",
   "id": "8b1a451e-615a-495d-b0d9-e303eedc6652",
   "metadata": {},
   "source": [
    "Q7. How nominal data type is different from ordinal data type."
   ]
  },
  {
   "cell_type": "markdown",
   "id": "6af856f3-2d60-4baa-b17a-1711445f8d32",
   "metadata": {},
   "source": [
    "Nominal data is data that consists of names, labels, or categories that have no inherent order or numerical value. Nominal data can be qualitative or categorical, but it cannot be ranked or ordered. For example, hair color, gender, and favorite color are all examples of nominal data.\n",
    "\n",
    "Ordinal data, on the other hand, is data that can be put in order or rank, but the difference between each data point is not necessarily equal. Ordinal data retains the properties of nominal data but also has a meaningful order or ranking. For example, a survey that asks respondents to rate their satisfaction with a product or service on a scale of 1 to 5 is an example of ordinal data. While the ratings can be ranked, the difference between a rating of 1 and 2 may not be the same as the difference between a rating of 4 and 5."
   ]
  },
  {
   "cell_type": "markdown",
   "id": "bd19a4a6-a2bb-463f-a504-40528c8a936c",
   "metadata": {},
   "source": [
    "Q8. Which type of plot can be used to display data in terms of range?"
   ]
  },
  {
   "cell_type": "markdown",
   "id": "708cad5a-65eb-47f2-bd56-73cc946b46f4",
   "metadata": {},
   "source": [
    "A box plot, also known as a box and whisker plot, can be used to display data in terms of range. A box plot is a graphical representation of the distribution of a set of data through five statistics: the minimum value, the first quartile (Q1), the median, the third quartile (Q3), and the maximum value. The box in the plot represents the interquartile range (IQR), which is the range of the middle 50% of the data. The whiskers of the plot extend from the box to the minimum and maximum values, or to a specified range."
   ]
  },
  {
   "cell_type": "markdown",
   "id": "7587cd3b-0099-4364-bbc6-dd78b9638843",
   "metadata": {},
   "source": [
    "Q9. Describe the difference between descriptive and inferential statistics. Give an example of each\n",
    "type of statistics and explain how they are used."
   ]
  },
  {
   "cell_type": "markdown",
   "id": "5a37a3cb-651d-49d9-959f-61d0d623602b",
   "metadata": {},
   "source": [
    "Descriptive statistics is the branch of statistics that deals with summarizing and describing the basic features of a set of data. Descriptive statistics are used to provide a clear and concise summary of the data and to identify patterns or trends within the data. Descriptive statistics can be used to calculate measures of central tendency (such as mean, median, and mode), measures of variability (such as range, variance, and standard deviation), and measures of distribution (such as frequency distributions and histograms).\n",
    "\n",
    "Example: A researcher is interested in studying the heights of a group of individuals. The researcher collects height data from a sample of 100 individuals and calculates the mean and standard deviation of the heights. This is an example of descriptive statistics as it provides a summary of the characteristics of the sample data.\n",
    "\n",
    "Inferential statistics, on the other hand, is the branch of statistics that deals with making predictions or generalizations about a population based on sample data. Inferential statistics are used to test hypotheses, make predictions, and draw conclusions about the population based on the sample data. Inferential statistics involve using probability theory to estimate the likelihood that the sample data is representative of the population.\n",
    "\n",
    "Example: A political pollster is interested in estimating the proportion of voters in a city who support a particular candidate. The pollster takes a random sample of 500 voters and calculates the proportion of supporters in the sample. The pollster then uses inferential statistics to estimate the proportion of supporters in the population and to determine the margin of error associated with the estimate."
   ]
  },
  {
   "cell_type": "markdown",
   "id": "aa938230-221f-4559-af3f-df03ddd722d2",
   "metadata": {},
   "source": [
    "Q10. What are some common measures of central tendency and variability used in statistics? Explain\n",
    "how each measure can be used to describe a dataset."
   ]
  },
  {
   "cell_type": "markdown",
   "id": "e7d277f0-3c67-4899-ae29-54cf43c5b85f",
   "metadata": {},
   "source": [
    "Measures of central tendency:\n",
    "\n",
    "Mean: The arithmetic mean is the sum of all values in the dataset divided by the number of values. The mean is the most common measure of central tendency and represents the average value of the dataset.\n",
    "\n",
    "Median: The median is the middle value in a dataset when it is ordered from smallest to largest. The median is a robust measure of central tendency and is less affected by extreme values in the dataset than the mean.\n",
    "\n",
    "Mode: The mode is the most frequently occurring value in the dataset. The mode is useful for identifying the most common value in the dataset.\n",
    "\n",
    "Measures of variability:\n",
    "\n",
    "Range: The range is the difference between the maximum and minimum values in the dataset. The range provides a measure of the spread of the dataset.\n",
    "\n",
    "Variance: The variance is the average of the squared deviations from the mean. The variance measures how much the data points vary from the mean.\n",
    "\n",
    "Standard deviation: The standard deviation is the square root of the variance. The standard deviation is a common measure of variability and provides a measure of the spread of the data that is in the same units as the original data."
   ]
  },
  {
   "cell_type": "code",
   "execution_count": null,
   "id": "c62e708c-7c46-42b2-9233-301a4da91600",
   "metadata": {},
   "outputs": [],
   "source": []
  }
 ],
 "metadata": {
  "kernelspec": {
   "display_name": "Python 3 (ipykernel)",
   "language": "python",
   "name": "python3"
  },
  "language_info": {
   "codemirror_mode": {
    "name": "ipython",
    "version": 3
   },
   "file_extension": ".py",
   "mimetype": "text/x-python",
   "name": "python",
   "nbconvert_exporter": "python",
   "pygments_lexer": "ipython3",
   "version": "3.10.8"
  }
 },
 "nbformat": 4,
 "nbformat_minor": 5
}
