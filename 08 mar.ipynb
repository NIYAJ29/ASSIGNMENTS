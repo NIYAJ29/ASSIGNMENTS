{
 "cells": [
  {
   "cell_type": "markdown",
   "id": "d64b213b-bd46-48c5-ae9f-fd11bc4e393c",
   "metadata": {},
   "source": [
    "Q1. What is the Probability density function?"
   ]
  },
  {
   "cell_type": "markdown",
   "id": "c10f4fbd-94a9-46a6-be3b-7622321e9694",
   "metadata": {},
   "source": [
    "In probability theory, the probability density function (PDF) is a function that describes the relative likelihood or probability of a random variable taking on a certain value. Specifically, the PDF is a function that describes the probability of a continuous random variable falling within a certain range of values, as opposed to the probability of a discrete random variable taking on a specific value.\n",
    "\n",
    "The PDF is often denoted by f(x), where x is the random variable. The value of the PDF at a particular value of x represents the likelihood of the random variable taking on that value. The total area under the curve of the PDF is equal to 1, which means that the probability of the random variable taking on any value in its range is 1."
   ]
  },
  {
   "cell_type": "markdown",
   "id": "f6d036bd-77d5-475b-9b46-4c61cc533fd0",
   "metadata": {},
   "source": [
    "Q2. What are the types of Probability distribution?"
   ]
  },
  {
   "cell_type": "markdown",
   "id": "41c460d1-02f7-4618-b541-68dc406c40ab",
   "metadata": {},
   "source": [
    "Discrete probability distributions: A discrete distribution is a distribution in which the possible values of the random variable are countable and finite, and each possible value has a nonzero probability of occurring. Examples of discrete probability distributions include the binomial distribution, the Poisson distribution, and the hypergeometric distribution.\n",
    "\n",
    "Continuous probability distributions: A continuous distribution is a distribution in which the possible values of the random variable are uncountable and infinite, and the probability of the random variable taking on a specific value is zero. Instead, the probability is defined over intervals of values. Examples of continuous probability distributions include the normal distribution, the exponential distribution, and the beta distribution.\n",
    "\n",
    "Multivariate probability distributions: A multivariate distribution is a distribution in which there are multiple random variables involved. Examples of multivariate probability distributions include the multivariate normal distribution and the multivariate t-distribution.\n",
    "\n",
    "Mixed probability distributions: A mixed distribution is a distribution that combines both discrete and continuous probability distributions. An example of a mixed distribution is the normal mixture model, which combines a discrete distribution with a continuous distribution to model data with both discrete and continuous components.\n",
    "\n",
    "Empirical probability distributions: An empirical distribution is a distribution that is derived from actual data, rather than a theoretical model. Empirical distributions can be used to make inferences about the underlying population from which the data was sampled."
   ]
  },
  {
   "cell_type": "markdown",
   "id": "86689443-0b11-415a-8e2a-dd22c8cd7b78",
   "metadata": {},
   "source": [
    "Q3. Write a Python function to calculate the probability density function of a normal distribution with\n",
    "given mean and standard deviation at a given point."
   ]
  },
  {
   "cell_type": "code",
   "execution_count": 1,
   "id": "17a9a43b-38da-431b-98bb-e0b58987e9a8",
   "metadata": {},
   "outputs": [
    {
     "name": "stdout",
     "output_type": "stream",
     "text": [
      "0.24197072451914337\n"
     ]
    }
   ],
   "source": [
    "import math\n",
    "\n",
    "def normal_pdf(x, mu, sigma):\n",
    "    \"\"\"\n",
    "    Returns the value of the probability density function of a normal distribution\n",
    "    with mean mu and standard deviation sigma at the point x.\n",
    "    \"\"\"\n",
    "    coeff = 1.0 / (sigma * math.sqrt(2 * math.pi))\n",
    "    exponent = math.exp(-(x - mu)**2 / (2 * sigma**2))\n",
    "    pdf_value = coeff * exponent\n",
    "    return pdf_value\n",
    "\n",
    "pdf_value = normal_pdf(1, 0, 1)\n",
    "print(pdf_value)"
   ]
  },
  {
   "cell_type": "markdown",
   "id": "03a85891-5533-4dbc-a39d-d6b9356c08c7",
   "metadata": {},
   "source": [
    "Q4. What are the properties of Binomial distribution? Give two examples of events where binomial\n",
    "distribution can be applied."
   ]
  },
  {
   "cell_type": "markdown",
   "id": "34280537-5091-4c7a-ac98-7c2f8196d0d4",
   "metadata": {},
   "source": [
    "The binomial distribution is a discrete probability distribution that models the number of successes in a fixed number of independent trials, where each trial has a fixed probability of success.\n",
    "\n",
    "The properties of the binomial distribution are:\n",
    "\n",
    "The trials are independent.\n",
    "There are a fixed number of trials.\n",
    "Each trial has only two possible outcomes, success or failure.\n",
    "The probability of success is constant for each trial.\n",
    "The random variable of interest is the number of successes in the fixed number of trials.\n",
    "Two examples of events where the binomial distribution can be applied are:\n",
    "\n",
    "Flipping a coin: Suppose you flip a fair coin 10 times, and you want to know the probability of getting exactly 5 heads. This is a binomial distribution, where the number of trials is 10, the probability of success (getting heads) is 0.5, and the number of successes you are interested in is 5.\n",
    "\n",
    "Quality control: Suppose a company produces light bulbs, and the probability of a bulb being defective is 0.01. If a sample of 100 bulbs is taken, the number of defective bulbs in the sample can be modeled as a binomial distribution, where the number of trials is 100, the probability of success (a bulb being defective) is 0.01, and the number of defective bulbs you are interested in is the random variable. The binomial distribution can be used to calculate the probability of finding a certain number of defective bulbs in the sample."
   ]
  },
  {
   "cell_type": "markdown",
   "id": "a8da9365-5737-4fa6-9bbb-931d526b2e71",
   "metadata": {},
   "source": [
    "Q5. Generate a random sample of size 1000 from a binomial distribution with probability of success 0.4\n",
    "and plot a histogram of the results using matplotlib."
   ]
  },
  {
   "cell_type": "code",
   "execution_count": 10,
   "id": "d64e2731-cab2-4a4f-a6a2-e56110cff7a9",
   "metadata": {},
   "outputs": [
    {
     "data": {
      "text/plain": [
       "Text(0.5, 1.0, 'histogram of binomial distribution')"
      ]
     },
     "execution_count": 10,
     "metadata": {},
     "output_type": "execute_result"
    },
    {
     "data": {
      "image/png": "[encoded data removed]",
      "text/plain": [
       "<Figure size 640x480 with 1 Axes>"
      ]
     },
     "metadata": {},
     "output_type": "display_data"
    }
   ],
   "source": [
    "import numpy as np\n",
    "import matplotlib.pyplot as plt\n",
    "\n",
    "sample_size = 1000\n",
    "sucess = 0.4\n",
    "binomial = np.random.binomial(n=1, p=sucess, size=sample_size)\n",
    "\n",
    "plt.hist(binomial, bins=2, range = [0,1])\n",
    "plt.xlabel('sucess(1) and failure(0)')\n",
    "plt.ylabel('frequency')\n",
    "plt.title('histogram of binomial distribution')\n",
    "\n",
    "\n"
   ]
  },
  {
   "cell_type": "markdown",
   "id": "4604b7e2-53f9-4288-bbef-dd62b5fa3a85",
   "metadata": {},
   "source": [
    "Q6. Write a Python function to calculate the cumulative distribution function of a Poisson distribution\n",
    "with given mean at a given point.\n"
   ]
  },
  {
   "cell_type": "code",
   "execution_count": 13,
   "id": "6fa2aa80-ab34-4cc7-9418-01be0953fd75",
   "metadata": {},
   "outputs": [
    {
     "name": "stdout",
     "output_type": "stream",
     "text": [
      "0.42319008112684353\n"
     ]
    }
   ],
   "source": [
    "def poisson_cdf(k,mu):\n",
    "    \"\"\"\n",
    "    Returns the value of the cumulative distribution function of a Poisson\n",
    "    distribution with mean mu at the point k.\n",
    "    \"\"\"\n",
    "    \n",
    "    cdf_value = 0.0\n",
    "    for i in range(k+1):\n",
    "        cdf_value += math.exp(-mu) * mu**i / math.factorial(i)\n",
    "        \n",
    "    return cdf_value\n",
    "\n",
    "cdf_value = poisson_cdf(2,3)\n",
    "print(cdf_value)"
   ]
  },
  {
   "cell_type": "markdown",
   "id": "f089161d-3b26-4713-a4de-b19902644502",
   "metadata": {},
   "source": [
    "Q7. How Binomial distribution different from Poisson distribution?\n"
   ]
  },
  {
   "cell_type": "markdown",
   "id": "7fa52ded-5113-45a0-b20f-67039646008f",
   "metadata": {},
   "source": [
    "Number of Trials: The binomial distribution models the number of successes in a fixed number of independent trials, while the Poisson distribution models the number of occurrences of an event in a fixed amount of time or space.\n",
    "\n",
    "Probability of Success: The binomial distribution assumes a fixed probability of success for each trial, while the Poisson distribution assumes a small probability of occurrence for each unit of time or space.\n",
    "\n",
    "Type of Random Variable: The binomial distribution models a discrete random variable, while the Poisson distribution models a count random variable.\n",
    "\n",
    "Limitations: The binomial distribution is limited to situations where the number of trials is fixed and the events are independent. The Poisson distribution is limited to situations where the occurrences are rare and random, and the time or space interval is fixed.\n",
    "\n",
    "Shape of Distribution: The binomial distribution is usually symmetric and bell-shaped, while the Poisson distribution is usually skewed and has a longer tail on the right."
   ]
  },
  {
   "cell_type": "markdown",
   "id": "2aafa703-a54e-4061-9596-93592ab7f01b",
   "metadata": {},
   "source": [
    "Q8. Generate a random sample of size 1000 from a Poisson distribution with mean 5 and calculate the\n",
    "sample mean and variance.\n"
   ]
  },
  {
   "cell_type": "code",
   "execution_count": 16,
   "id": "619951c8-d8f4-4579-9c63-509d3b585e1a",
   "metadata": {},
   "outputs": [
    {
     "name": "stdout",
     "output_type": "stream",
     "text": [
      "sample mean of poisson sample :  5.011\n",
      "sample variance of poisson sample :  4.962878999999999\n"
     ]
    }
   ],
   "source": [
    "sample_size = 1000\n",
    "mu = 5\n",
    "\n",
    "poisson_sample = np.random.poisson(mu, size = sample_size)\n",
    "\n",
    "sample_mean = np.mean(poisson_sample)\n",
    "sample_variance = np.var(poisson_sample)\n",
    "\n",
    "print('sample mean of poisson sample : ', sample_mean)\n",
    "print('sample variance of poisson sample : ', sample_variance)"
   ]
  },
  {
   "cell_type": "markdown",
   "id": "48e0126d-b964-4034-843f-1ba22402215e",
   "metadata": {},
   "source": [
    "Q9. How mean and variance are related in Binomial distribution and Poisson distribution?\n"
   ]
  },
  {
   "cell_type": "markdown",
   "id": "1fc42d45-993c-417c-a67a-1cd729f1b606",
   "metadata": {},
   "source": [
    "In the binomial distribution, the mean and variance are related as follows:\n",
    "\n",
    "mean = np (where n is the number of trials and p is the probability of success in each trial)\n",
    "variance = np(1-p)\n",
    "\n",
    "In the Poisson distribution, the mean and variance are equal, and are given by:\n",
    "\n",
    "mean = variance = lambda (where lambda is the average number of occurrences per unit of time or space)\n",
    "\n",
    "This means that the Poisson distribution is a special case of the binomial distribution, where the number of trials is very large and the probability of success is very small. In this case, the mean of the binomial distribution (np) approaches a constant value (lambda), and the variance of the binomial distribution (np(1-p)) approaches the same value (lambda) as the mean. Thus, the Poisson distribution is often used as an approximation to the binomial distribution in situations where the number of trials is large and the probability of success is small.\n",
    "\n",
    "In summary, the mean and variance are related differently in the binomial distribution and Poisson distribution. In the binomial distribution, the variance depends on both the number of trials and the probability of success, while in the Poisson distribution, the variance is equal to the mean and depends only on the average number of occurrences per unit of time or space."
   ]
  },
  {
   "cell_type": "markdown",
   "id": "5fe8ff71-0a4c-46b9-9e66-bc5535e34687",
   "metadata": {},
   "source": [
    "Q10. In normal distribution with respect to mean position, where does the least frequent data appear?"
   ]
  },
  {
   "cell_type": "markdown",
   "id": "d4c89fd0-f1c1-4c3f-a3c5-c2ca51845f4f",
   "metadata": {},
   "source": [
    "In a normal distribution, the least frequent data points appear in the tails of the distribution, which are the regions farthest away from the mean. The frequency of data points decreases rapidly as you move away from the mean, with the frequency dropping off more sharply as you move farther away from the mean.\n",
    "\n",
    "The standard deviation of the distribution determines the spread or width of the distribution, and the empirical rule states that about 68% of the data points will fall within one standard deviation of the mean, about 95% of the data points will fall within two standard deviations of the mean, and about 99.7% of the data points will fall within three standard deviations of the mean. This means that the least frequent data points, which are those that are more than three standard deviations away from the mean, will occur with a frequency of less than 0.3% in a normal distribution.\n",
    "\n",
    "To summarize, the least frequent data points in a normal distribution appear in the tails of the distribution, which are the regions farthest away from the mean, and the frequency of data points decreases rapidly as you move away from the mean."
   ]
  },
  {
   "cell_type": "code",
   "execution_count": null,
   "id": "7c4772ac-3b96-4e0f-8c5e-481ca2de4254",
   "metadata": {},
   "outputs": [],
   "source": []
  }
 ],
 "metadata": {
  "kernelspec": {
   "display_name": "Python 3 (ipykernel)",
   "language": "python",
   "name": "python3"
  },
  "language_info": {
   "codemirror_mode": {
    "name": "ipython",
    "version": 3
   },
   "file_extension": ".py",
   "mimetype": "text/x-python",
   "name": "python",
   "nbconvert_exporter": "python",
   "pygments_lexer": "ipython3",
   "version": "3.10.8"
  }
 },
 "nbformat": 4,
 "nbformat_minor": 5
}
