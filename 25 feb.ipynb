{
 "cells": [
  {
   "cell_type": "code",
   "execution_count": 3,
   "id": "af5bc2bf-a275-4955-a1eb-be8ec76a46d8",
   "metadata": {},
   "outputs": [
    {
     "data": {
      "text/html": [
       "<div>\n",
       "<style scoped>\n",
       "    .dataframe tbody tr th:only-of-type {\n",
       "        vertical-align: middle;\n",
       "    }\n",
       "\n",
       "    .dataframe tbody tr th {\n",
       "        vertical-align: top;\n",
       "    }\n",
       "\n",
       "    .dataframe thead th {\n",
       "        text-align: right;\n",
       "    }\n",
       "</style>\n",
       "<table border=\"1\" class=\"dataframe\">\n",
       "  <thead>\n",
       "    <tr style=\"text-align: right;\">\n",
       "      <th></th>\n",
       "      <th>course_name</th>\n",
       "      <th>duration</th>\n",
       "    </tr>\n",
       "  </thead>\n",
       "  <tbody>\n",
       "    <tr>\n",
       "      <th>0</th>\n",
       "      <td>Data Science</td>\n",
       "      <td>2</td>\n",
       "    </tr>\n",
       "    <tr>\n",
       "      <th>1</th>\n",
       "      <td>Machine Learning</td>\n",
       "      <td>3</td>\n",
       "    </tr>\n",
       "    <tr>\n",
       "      <th>2</th>\n",
       "      <td>Big Data</td>\n",
       "      <td>6</td>\n",
       "    </tr>\n",
       "    <tr>\n",
       "      <th>3</th>\n",
       "      <td>Data Engineer</td>\n",
       "      <td>4</td>\n",
       "    </tr>\n",
       "  </tbody>\n",
       "</table>\n",
       "</div>"
      ],
      "text/plain": [
       "        course_name  duration\n",
       "0      Data Science         2\n",
       "1  Machine Learning         3\n",
       "2          Big Data         6\n",
       "3     Data Engineer         4"
      ]
     },
     "execution_count": 3,
     "metadata": {},
     "output_type": "execute_result"
    }
   ],
   "source": [
    "#Consider following code to answer further questions:\n",
    "import pandas as pd\n",
    "course_name = ['Data Science', 'Machine Learning', 'Big Data', 'Data Engineer']\n",
    "duration = [2,3,6,4]\n",
    "df = pd.DataFrame(data = {'course_name' : course_name, 'duration' : duration})\n",
    "df"
   ]
  },
  {
   "cell_type": "markdown",
   "id": "22f8a0b1-683c-447d-a19a-77d5b18652ab",
   "metadata": {},
   "source": [
    "Q1. Write a code to print the data present in the second row of the dataframe, df."
   ]
  },
  {
   "cell_type": "code",
   "execution_count": 11,
   "id": "e1ac263e-4932-49b4-ba04-fcc11d41cc92",
   "metadata": {},
   "outputs": [
    {
     "data": {
      "text/html": [
       "<div>\n",
       "<style scoped>\n",
       "    .dataframe tbody tr th:only-of-type {\n",
       "        vertical-align: middle;\n",
       "    }\n",
       "\n",
       "    .dataframe tbody tr th {\n",
       "        vertical-align: top;\n",
       "    }\n",
       "\n",
       "    .dataframe thead th {\n",
       "        text-align: right;\n",
       "    }\n",
       "</style>\n",
       "<table border=\"1\" class=\"dataframe\">\n",
       "  <thead>\n",
       "    <tr style=\"text-align: right;\">\n",
       "      <th></th>\n",
       "      <th>course_name</th>\n",
       "      <th>duration</th>\n",
       "    </tr>\n",
       "  </thead>\n",
       "  <tbody>\n",
       "    <tr>\n",
       "      <th>1</th>\n",
       "      <td>Machine Learning</td>\n",
       "      <td>3</td>\n",
       "    </tr>\n",
       "  </tbody>\n",
       "</table>\n",
       "</div>"
      ],
      "text/plain": [
       "        course_name  duration\n",
       "1  Machine Learning         3"
      ]
     },
     "execution_count": 11,
     "metadata": {},
     "output_type": "execute_result"
    }
   ],
   "source": [
    "df[['course_name','duration']][1:2]"
   ]
  },
  {
   "cell_type": "markdown",
   "id": "df60aadb-a684-4dda-90cc-600ebd10627b",
   "metadata": {},
   "source": [
    "Q2. What is the difference between the functions loc and iloc in pandas.DataFrame?"
   ]
  },
  {
   "cell_type": "markdown",
   "id": "fc38ab9a-77fe-4c26-904e-dd9074abdcd0",
   "metadata": {},
   "source": [
    "loc and iloc are two different ways of selecting data from a Pandas DataFrame based on row and column labels or indices, respectively.\n",
    "\n",
    "The loc function is used for label-based indexing, which means that you select data based on the labels of rows and columns. The syntax for using loc is as follows:    df.loc[row_label, column_label]\n",
    "Here, row_label and column_label are the labels of the row(s) and column(s) you want to select. You can use a single label or a list of labels to select multiple rows or columns.\n",
    "\n",
    "The iloc function, on the other hand, is used for integer-based indexing, which means that you select data based on the integer positions of rows and columns. The syntax for using iloc is as follows:   df.iloc[row_index, column_index] \n",
    "Here, row_index and column_index are the integer positions of the row(s) and column(s) you want to select. You can use a single integer or a range of integers to select multiple rows or columns."
   ]
  },
  {
   "cell_type": "markdown",
   "id": "300784a2-6cae-46bc-ad3d-a4ef4c6e83e5",
   "metadata": {},
   "source": [
    "Q3. Reindex the given dataframe using a variable, reindex = [3,0,1,2] and store it in the variable, new_df\n",
    "then find the output for both new_df.loc[2] and new_df.iloc[2].Did you observe any difference in both the outputs? If so then explain it."
   ]
  },
  {
   "cell_type": "code",
   "execution_count": 15,
   "id": "cb89154c-e356-4084-9d73-807febea1573",
   "metadata": {},
   "outputs": [],
   "source": [
    "new_df = df.reindex([3,0,1,2])"
   ]
  },
  {
   "cell_type": "code",
   "execution_count": 19,
   "id": "c470d10a-ab82-4654-85ad-b60af66cc824",
   "metadata": {},
   "outputs": [
    {
     "data": {
      "text/html": [
       "<div>\n",
       "<style scoped>\n",
       "    .dataframe tbody tr th:only-of-type {\n",
       "        vertical-align: middle;\n",
       "    }\n",
       "\n",
       "    .dataframe tbody tr th {\n",
       "        vertical-align: top;\n",
       "    }\n",
       "\n",
       "    .dataframe thead th {\n",
       "        text-align: right;\n",
       "    }\n",
       "</style>\n",
       "<table border=\"1\" class=\"dataframe\">\n",
       "  <thead>\n",
       "    <tr style=\"text-align: right;\">\n",
       "      <th></th>\n",
       "      <th>course_name</th>\n",
       "      <th>duration</th>\n",
       "    </tr>\n",
       "  </thead>\n",
       "  <tbody>\n",
       "    <tr>\n",
       "      <th>3</th>\n",
       "      <td>Data Engineer</td>\n",
       "      <td>4</td>\n",
       "    </tr>\n",
       "    <tr>\n",
       "      <th>0</th>\n",
       "      <td>Data Science</td>\n",
       "      <td>2</td>\n",
       "    </tr>\n",
       "    <tr>\n",
       "      <th>1</th>\n",
       "      <td>Machine Learning</td>\n",
       "      <td>3</td>\n",
       "    </tr>\n",
       "    <tr>\n",
       "      <th>2</th>\n",
       "      <td>Big Data</td>\n",
       "      <td>6</td>\n",
       "    </tr>\n",
       "  </tbody>\n",
       "</table>\n",
       "</div>"
      ],
      "text/plain": [
       "        course_name  duration\n",
       "3     Data Engineer         4\n",
       "0      Data Science         2\n",
       "1  Machine Learning         3\n",
       "2          Big Data         6"
      ]
     },
     "execution_count": 19,
     "metadata": {},
     "output_type": "execute_result"
    }
   ],
   "source": [
    "new_df"
   ]
  },
  {
   "cell_type": "code",
   "execution_count": 17,
   "id": "011fec9c-467e-44ed-9fd2-15ad9086e950",
   "metadata": {},
   "outputs": [
    {
     "data": {
      "text/plain": [
       "course_name    Big Data\n",
       "duration              6\n",
       "Name: 2, dtype: object"
      ]
     },
     "execution_count": 17,
     "metadata": {},
     "output_type": "execute_result"
    }
   ],
   "source": [
    "new_df.loc[2]"
   ]
  },
  {
   "cell_type": "code",
   "execution_count": 18,
   "id": "84311058-4f77-4e10-8481-1960da48757d",
   "metadata": {},
   "outputs": [
    {
     "data": {
      "text/plain": [
       "course_name    Machine Learning\n",
       "duration                      3\n",
       "Name: 1, dtype: object"
      ]
     },
     "execution_count": 18,
     "metadata": {},
     "output_type": "execute_result"
    }
   ],
   "source": [
    "new_df.iloc[2]"
   ]
  },
  {
   "cell_type": "markdown",
   "id": "909a5ad2-25af-41af-a851-9a9916f67015",
   "metadata": {},
   "source": [
    "yes there is difference in the output of loc and iloc\n",
    "\n",
    "in loc data is selected ob the bases of already labled index but in iloc data is selected on the bases of default integer indexing."
   ]
  },
  {
   "cell_type": "code",
   "execution_count": 20,
   "id": "a3848a23-5b6a-4da7-acc3-36b4e67972b5",
   "metadata": {},
   "outputs": [],
   "source": [
    "#Consider the below code to answer further questions:\n",
    "\n",
    "import pandas as pd\n",
    "import numpy as np\n",
    "columns = ['column_1', 'column_2', 'column_3', 'column_4', 'column_5', 'column_6']\n",
    "indices = [1,2,3,4,5,6]\n",
    "#Creating a dataframe:\n",
    "df1 = pd.DataFrame(np.random.rand(6,6), columns = columns, index = indices)\n"
   ]
  },
  {
   "cell_type": "markdown",
   "id": "180c7054-aed4-4c5f-99ec-ca52d6b6500d",
   "metadata": {},
   "source": [
    "Q4. Write a code to find the following statistical measurements for the above dataframe df1:\n",
    "(i) mean of each and every column present in the dataframe.\n",
    "(ii) standard deviation of column, ‘column_2’"
   ]
  },
  {
   "cell_type": "code",
   "execution_count": 22,
   "id": "8bdedf50-7936-4dfc-b8ac-c14e6f5225da",
   "metadata": {},
   "outputs": [
    {
     "data": {
      "text/html": [
       "<div>\n",
       "<style scoped>\n",
       "    .dataframe tbody tr th:only-of-type {\n",
       "        vertical-align: middle;\n",
       "    }\n",
       "\n",
       "    .dataframe tbody tr th {\n",
       "        vertical-align: top;\n",
       "    }\n",
       "\n",
       "    .dataframe thead th {\n",
       "        text-align: right;\n",
       "    }\n",
       "</style>\n",
       "<table border=\"1\" class=\"dataframe\">\n",
       "  <thead>\n",
       "    <tr style=\"text-align: right;\">\n",
       "      <th></th>\n",
       "      <th>column_1</th>\n",
       "      <th>column_2</th>\n",
       "      <th>column_3</th>\n",
       "      <th>column_4</th>\n",
       "      <th>column_5</th>\n",
       "      <th>column_6</th>\n",
       "    </tr>\n",
       "  </thead>\n",
       "  <tbody>\n",
       "    <tr>\n",
       "      <th>1</th>\n",
       "      <td>0.672585</td>\n",
       "      <td>0.811469</td>\n",
       "      <td>0.678270</td>\n",
       "      <td>0.220779</td>\n",
       "      <td>0.902024</td>\n",
       "      <td>0.973975</td>\n",
       "    </tr>\n",
       "    <tr>\n",
       "      <th>2</th>\n",
       "      <td>0.534544</td>\n",
       "      <td>0.870855</td>\n",
       "      <td>0.923478</td>\n",
       "      <td>0.973397</td>\n",
       "      <td>0.337560</td>\n",
       "      <td>0.838236</td>\n",
       "    </tr>\n",
       "    <tr>\n",
       "      <th>3</th>\n",
       "      <td>0.125979</td>\n",
       "      <td>0.493616</td>\n",
       "      <td>0.158134</td>\n",
       "      <td>0.541420</td>\n",
       "      <td>0.427574</td>\n",
       "      <td>0.993395</td>\n",
       "    </tr>\n",
       "    <tr>\n",
       "      <th>4</th>\n",
       "      <td>0.960696</td>\n",
       "      <td>0.770443</td>\n",
       "      <td>0.708909</td>\n",
       "      <td>0.045404</td>\n",
       "      <td>0.736473</td>\n",
       "      <td>0.014383</td>\n",
       "    </tr>\n",
       "    <tr>\n",
       "      <th>5</th>\n",
       "      <td>0.047328</td>\n",
       "      <td>0.652773</td>\n",
       "      <td>0.982852</td>\n",
       "      <td>0.716285</td>\n",
       "      <td>0.510961</td>\n",
       "      <td>0.078467</td>\n",
       "    </tr>\n",
       "    <tr>\n",
       "      <th>6</th>\n",
       "      <td>0.954273</td>\n",
       "      <td>0.156089</td>\n",
       "      <td>0.790532</td>\n",
       "      <td>0.270792</td>\n",
       "      <td>0.512087</td>\n",
       "      <td>0.983627</td>\n",
       "    </tr>\n",
       "  </tbody>\n",
       "</table>\n",
       "</div>"
      ],
      "text/plain": [
       "   column_1  column_2  column_3  column_4  column_5  column_6\n",
       "1  0.672585  0.811469  0.678270  0.220779  0.902024  0.973975\n",
       "2  0.534544  0.870855  0.923478  0.973397  0.337560  0.838236\n",
       "3  0.125979  0.493616  0.158134  0.541420  0.427574  0.993395\n",
       "4  0.960696  0.770443  0.708909  0.045404  0.736473  0.014383\n",
       "5  0.047328  0.652773  0.982852  0.716285  0.510961  0.078467\n",
       "6  0.954273  0.156089  0.790532  0.270792  0.512087  0.983627"
      ]
     },
     "execution_count": 22,
     "metadata": {},
     "output_type": "execute_result"
    }
   ],
   "source": [
    "df1"
   ]
  },
  {
   "cell_type": "code",
   "execution_count": 28,
   "id": "e0ae0372-8954-44a0-8d0a-a6fd4520bcf7",
   "metadata": {},
   "outputs": [
    {
     "data": {
      "text/plain": [
       "column_1    0.549234\n",
       "column_2    0.625874\n",
       "column_3    0.707029\n",
       "column_4    0.461346\n",
       "column_5    0.571113\n",
       "column_6    0.647014\n",
       "dtype: float64"
      ]
     },
     "execution_count": 28,
     "metadata": {},
     "output_type": "execute_result"
    }
   ],
   "source": [
    "df1.mean()"
   ]
  },
  {
   "cell_type": "code",
   "execution_count": 30,
   "id": "94508b58-9c47-408a-bdb5-61ae4f92e170",
   "metadata": {},
   "outputs": [
    {
     "data": {
      "text/plain": [
       "0.2661860527123433"
      ]
     },
     "execution_count": 30,
     "metadata": {},
     "output_type": "execute_result"
    }
   ],
   "source": [
    "df1['column_2'].std()"
   ]
  },
  {
   "cell_type": "markdown",
   "id": "d7b09f1d-ebbf-45a3-a2dc-e0ddb63e6f69",
   "metadata": {},
   "source": [
    "Q5. Replace the data present in the second row of column, ‘column_2’ by a string variable then find the\n",
    "mean of column, column_2.\n",
    "If you are getting errors in executing it then explain why."
   ]
  },
  {
   "cell_type": "code",
   "execution_count": 40,
   "id": "70fb8f67-6b58-4aa0-aa10-15292152653f",
   "metadata": {},
   "outputs": [],
   "source": [
    "df1['column_2'].loc[2] = 'niyaj'"
   ]
  },
  {
   "cell_type": "code",
   "execution_count": 41,
   "id": "610847f6-df69-4d58-97ec-db956a9653ac",
   "metadata": {},
   "outputs": [
    {
     "data": {
      "text/html": [
       "<div>\n",
       "<style scoped>\n",
       "    .dataframe tbody tr th:only-of-type {\n",
       "        vertical-align: middle;\n",
       "    }\n",
       "\n",
       "    .dataframe tbody tr th {\n",
       "        vertical-align: top;\n",
       "    }\n",
       "\n",
       "    .dataframe thead th {\n",
       "        text-align: right;\n",
       "    }\n",
       "</style>\n",
       "<table border=\"1\" class=\"dataframe\">\n",
       "  <thead>\n",
       "    <tr style=\"text-align: right;\">\n",
       "      <th></th>\n",
       "      <th>column_1</th>\n",
       "      <th>column_2</th>\n",
       "      <th>column_3</th>\n",
       "      <th>column_4</th>\n",
       "      <th>column_5</th>\n",
       "      <th>column_6</th>\n",
       "    </tr>\n",
       "  </thead>\n",
       "  <tbody>\n",
       "    <tr>\n",
       "      <th>1</th>\n",
       "      <td>0.672585</td>\n",
       "      <td>0.811469</td>\n",
       "      <td>0.678270</td>\n",
       "      <td>0.220779</td>\n",
       "      <td>0.902024</td>\n",
       "      <td>0.973975</td>\n",
       "    </tr>\n",
       "    <tr>\n",
       "      <th>2</th>\n",
       "      <td>0.534544</td>\n",
       "      <td>niyaj</td>\n",
       "      <td>0.923478</td>\n",
       "      <td>0.973397</td>\n",
       "      <td>0.337560</td>\n",
       "      <td>0.838236</td>\n",
       "    </tr>\n",
       "    <tr>\n",
       "      <th>3</th>\n",
       "      <td>0.125979</td>\n",
       "      <td>0.493616</td>\n",
       "      <td>0.158134</td>\n",
       "      <td>0.541420</td>\n",
       "      <td>0.427574</td>\n",
       "      <td>0.993395</td>\n",
       "    </tr>\n",
       "    <tr>\n",
       "      <th>4</th>\n",
       "      <td>0.960696</td>\n",
       "      <td>0.770443</td>\n",
       "      <td>0.708909</td>\n",
       "      <td>0.045404</td>\n",
       "      <td>0.736473</td>\n",
       "      <td>0.014383</td>\n",
       "    </tr>\n",
       "    <tr>\n",
       "      <th>5</th>\n",
       "      <td>0.047328</td>\n",
       "      <td>0.652773</td>\n",
       "      <td>0.982852</td>\n",
       "      <td>0.716285</td>\n",
       "      <td>0.510961</td>\n",
       "      <td>0.078467</td>\n",
       "    </tr>\n",
       "    <tr>\n",
       "      <th>6</th>\n",
       "      <td>0.954273</td>\n",
       "      <td>0.156089</td>\n",
       "      <td>0.790532</td>\n",
       "      <td>0.270792</td>\n",
       "      <td>0.512087</td>\n",
       "      <td>0.983627</td>\n",
       "    </tr>\n",
       "  </tbody>\n",
       "</table>\n",
       "</div>"
      ],
      "text/plain": [
       "   column_1  column_2  column_3  column_4  column_5  column_6\n",
       "1  0.672585  0.811469  0.678270  0.220779  0.902024  0.973975\n",
       "2  0.534544     niyaj  0.923478  0.973397  0.337560  0.838236\n",
       "3  0.125979  0.493616  0.158134  0.541420  0.427574  0.993395\n",
       "4  0.960696  0.770443  0.708909  0.045404  0.736473  0.014383\n",
       "5  0.047328  0.652773  0.982852  0.716285  0.510961  0.078467\n",
       "6  0.954273  0.156089  0.790532  0.270792  0.512087  0.983627"
      ]
     },
     "execution_count": 41,
     "metadata": {},
     "output_type": "execute_result"
    }
   ],
   "source": [
    "df1"
   ]
  },
  {
   "cell_type": "code",
   "execution_count": 42,
   "id": "9b075d29-fbe7-46e6-83c1-0c93490d3d23",
   "metadata": {},
   "outputs": [
    {
     "ename": "TypeError",
     "evalue": "unsupported operand type(s) for +: 'float' and 'str'",
     "output_type": "error",
     "traceback": [
      "\u001b[0;31m---------------------------------------------------------------------------\u001b[0m",
      "\u001b[0;31mTypeError\u001b[0m                                 Traceback (most recent call last)",
      "Cell \u001b[0;32mIn[42], line 1\u001b[0m\n\u001b[0;32m----> 1\u001b[0m \u001b[43mdf1\u001b[49m\u001b[43m[\u001b[49m\u001b[38;5;124;43m'\u001b[39;49m\u001b[38;5;124;43mcolumn_2\u001b[39;49m\u001b[38;5;124;43m'\u001b[39;49m\u001b[43m]\u001b[49m\u001b[38;5;241;43m.\u001b[39;49m\u001b[43mmean\u001b[49m\u001b[43m(\u001b[49m\u001b[43m)\u001b[49m\n",
      "File \u001b[0;32m/opt/conda/lib/python3.10/site-packages/pandas/core/generic.py:11847\u001b[0m, in \u001b[0;36mNDFrame._add_numeric_operations.<locals>.mean\u001b[0;34m(self, axis, skipna, level, numeric_only, **kwargs)\u001b[0m\n\u001b[1;32m  11829\u001b[0m \u001b[38;5;129m@doc\u001b[39m(\n\u001b[1;32m  11830\u001b[0m     _num_doc,\n\u001b[1;32m  11831\u001b[0m     desc\u001b[38;5;241m=\u001b[39m\u001b[38;5;124m\"\u001b[39m\u001b[38;5;124mReturn the mean of the values over the requested axis.\u001b[39m\u001b[38;5;124m\"\u001b[39m,\n\u001b[0;32m   (...)\u001b[0m\n\u001b[1;32m  11845\u001b[0m     \u001b[38;5;241m*\u001b[39m\u001b[38;5;241m*\u001b[39mkwargs,\n\u001b[1;32m  11846\u001b[0m ):\n\u001b[0;32m> 11847\u001b[0m     \u001b[38;5;28;01mreturn\u001b[39;00m \u001b[43mNDFrame\u001b[49m\u001b[38;5;241;43m.\u001b[39;49m\u001b[43mmean\u001b[49m\u001b[43m(\u001b[49m\u001b[38;5;28;43mself\u001b[39;49m\u001b[43m,\u001b[49m\u001b[43m \u001b[49m\u001b[43maxis\u001b[49m\u001b[43m,\u001b[49m\u001b[43m \u001b[49m\u001b[43mskipna\u001b[49m\u001b[43m,\u001b[49m\u001b[43m \u001b[49m\u001b[43mlevel\u001b[49m\u001b[43m,\u001b[49m\u001b[43m \u001b[49m\u001b[43mnumeric_only\u001b[49m\u001b[43m,\u001b[49m\u001b[43m \u001b[49m\u001b[38;5;241;43m*\u001b[39;49m\u001b[38;5;241;43m*\u001b[39;49m\u001b[43mkwargs\u001b[49m\u001b[43m)\u001b[49m\n",
      "File \u001b[0;32m/opt/conda/lib/python3.10/site-packages/pandas/core/generic.py:11401\u001b[0m, in \u001b[0;36mNDFrame.mean\u001b[0;34m(self, axis, skipna, level, numeric_only, **kwargs)\u001b[0m\n\u001b[1;32m  11393\u001b[0m \u001b[38;5;28;01mdef\u001b[39;00m \u001b[38;5;21mmean\u001b[39m(\n\u001b[1;32m  11394\u001b[0m     \u001b[38;5;28mself\u001b[39m,\n\u001b[1;32m  11395\u001b[0m     axis: Axis \u001b[38;5;241m|\u001b[39m \u001b[38;5;28;01mNone\u001b[39;00m \u001b[38;5;241m|\u001b[39m lib\u001b[38;5;241m.\u001b[39mNoDefault \u001b[38;5;241m=\u001b[39m lib\u001b[38;5;241m.\u001b[39mno_default,\n\u001b[0;32m   (...)\u001b[0m\n\u001b[1;32m  11399\u001b[0m     \u001b[38;5;241m*\u001b[39m\u001b[38;5;241m*\u001b[39mkwargs,\n\u001b[1;32m  11400\u001b[0m ) \u001b[38;5;241m-\u001b[39m\u001b[38;5;241m>\u001b[39m Series \u001b[38;5;241m|\u001b[39m \u001b[38;5;28mfloat\u001b[39m:\n\u001b[0;32m> 11401\u001b[0m     \u001b[38;5;28;01mreturn\u001b[39;00m \u001b[38;5;28;43mself\u001b[39;49m\u001b[38;5;241;43m.\u001b[39;49m\u001b[43m_stat_function\u001b[49m\u001b[43m(\u001b[49m\n\u001b[1;32m  11402\u001b[0m \u001b[43m        \u001b[49m\u001b[38;5;124;43m\"\u001b[39;49m\u001b[38;5;124;43mmean\u001b[39;49m\u001b[38;5;124;43m\"\u001b[39;49m\u001b[43m,\u001b[49m\u001b[43m \u001b[49m\u001b[43mnanops\u001b[49m\u001b[38;5;241;43m.\u001b[39;49m\u001b[43mnanmean\u001b[49m\u001b[43m,\u001b[49m\u001b[43m \u001b[49m\u001b[43maxis\u001b[49m\u001b[43m,\u001b[49m\u001b[43m \u001b[49m\u001b[43mskipna\u001b[49m\u001b[43m,\u001b[49m\u001b[43m \u001b[49m\u001b[43mlevel\u001b[49m\u001b[43m,\u001b[49m\u001b[43m \u001b[49m\u001b[43mnumeric_only\u001b[49m\u001b[43m,\u001b[49m\u001b[43m \u001b[49m\u001b[38;5;241;43m*\u001b[39;49m\u001b[38;5;241;43m*\u001b[39;49m\u001b[43mkwargs\u001b[49m\n\u001b[1;32m  11403\u001b[0m \u001b[43m    \u001b[49m\u001b[43m)\u001b[49m\n",
      "File \u001b[0;32m/opt/conda/lib/python3.10/site-packages/pandas/core/generic.py:11353\u001b[0m, in \u001b[0;36mNDFrame._stat_function\u001b[0;34m(self, name, func, axis, skipna, level, numeric_only, **kwargs)\u001b[0m\n\u001b[1;32m  11343\u001b[0m     warnings\u001b[38;5;241m.\u001b[39mwarn(\n\u001b[1;32m  11344\u001b[0m         \u001b[38;5;124m\"\u001b[39m\u001b[38;5;124mUsing the level keyword in DataFrame and Series aggregations is \u001b[39m\u001b[38;5;124m\"\u001b[39m\n\u001b[1;32m  11345\u001b[0m         \u001b[38;5;124m\"\u001b[39m\u001b[38;5;124mdeprecated and will be removed in a future version. Use groupby \u001b[39m\u001b[38;5;124m\"\u001b[39m\n\u001b[0;32m   (...)\u001b[0m\n\u001b[1;32m  11348\u001b[0m         stacklevel\u001b[38;5;241m=\u001b[39mfind_stack_level(),\n\u001b[1;32m  11349\u001b[0m     )\n\u001b[1;32m  11350\u001b[0m     \u001b[38;5;28;01mreturn\u001b[39;00m \u001b[38;5;28mself\u001b[39m\u001b[38;5;241m.\u001b[39m_agg_by_level(\n\u001b[1;32m  11351\u001b[0m         name, axis\u001b[38;5;241m=\u001b[39maxis, level\u001b[38;5;241m=\u001b[39mlevel, skipna\u001b[38;5;241m=\u001b[39mskipna, numeric_only\u001b[38;5;241m=\u001b[39mnumeric_only\n\u001b[1;32m  11352\u001b[0m     )\n\u001b[0;32m> 11353\u001b[0m \u001b[38;5;28;01mreturn\u001b[39;00m \u001b[38;5;28;43mself\u001b[39;49m\u001b[38;5;241;43m.\u001b[39;49m\u001b[43m_reduce\u001b[49m\u001b[43m(\u001b[49m\n\u001b[1;32m  11354\u001b[0m \u001b[43m    \u001b[49m\u001b[43mfunc\u001b[49m\u001b[43m,\u001b[49m\u001b[43m \u001b[49m\u001b[43mname\u001b[49m\u001b[38;5;241;43m=\u001b[39;49m\u001b[43mname\u001b[49m\u001b[43m,\u001b[49m\u001b[43m \u001b[49m\u001b[43maxis\u001b[49m\u001b[38;5;241;43m=\u001b[39;49m\u001b[43maxis\u001b[49m\u001b[43m,\u001b[49m\u001b[43m \u001b[49m\u001b[43mskipna\u001b[49m\u001b[38;5;241;43m=\u001b[39;49m\u001b[43mskipna\u001b[49m\u001b[43m,\u001b[49m\u001b[43m \u001b[49m\u001b[43mnumeric_only\u001b[49m\u001b[38;5;241;43m=\u001b[39;49m\u001b[43mnumeric_only\u001b[49m\n\u001b[1;32m  11355\u001b[0m \u001b[43m\u001b[49m\u001b[43m)\u001b[49m\n",
      "File \u001b[0;32m/opt/conda/lib/python3.10/site-packages/pandas/core/series.py:4816\u001b[0m, in \u001b[0;36mSeries._reduce\u001b[0;34m(self, op, name, axis, skipna, numeric_only, filter_type, **kwds)\u001b[0m\n\u001b[1;32m   4812\u001b[0m     \u001b[38;5;28;01mraise\u001b[39;00m \u001b[38;5;167;01mNotImplementedError\u001b[39;00m(\n\u001b[1;32m   4813\u001b[0m         \u001b[38;5;124mf\u001b[39m\u001b[38;5;124m\"\u001b[39m\u001b[38;5;124mSeries.\u001b[39m\u001b[38;5;132;01m{\u001b[39;00mname\u001b[38;5;132;01m}\u001b[39;00m\u001b[38;5;124m does not implement \u001b[39m\u001b[38;5;132;01m{\u001b[39;00mkwd_name\u001b[38;5;132;01m}\u001b[39;00m\u001b[38;5;124m.\u001b[39m\u001b[38;5;124m\"\u001b[39m\n\u001b[1;32m   4814\u001b[0m     )\n\u001b[1;32m   4815\u001b[0m \u001b[38;5;28;01mwith\u001b[39;00m np\u001b[38;5;241m.\u001b[39merrstate(\u001b[38;5;28mall\u001b[39m\u001b[38;5;241m=\u001b[39m\u001b[38;5;124m\"\u001b[39m\u001b[38;5;124mignore\u001b[39m\u001b[38;5;124m\"\u001b[39m):\n\u001b[0;32m-> 4816\u001b[0m     \u001b[38;5;28;01mreturn\u001b[39;00m \u001b[43mop\u001b[49m\u001b[43m(\u001b[49m\u001b[43mdelegate\u001b[49m\u001b[43m,\u001b[49m\u001b[43m \u001b[49m\u001b[43mskipna\u001b[49m\u001b[38;5;241;43m=\u001b[39;49m\u001b[43mskipna\u001b[49m\u001b[43m,\u001b[49m\u001b[43m \u001b[49m\u001b[38;5;241;43m*\u001b[39;49m\u001b[38;5;241;43m*\u001b[39;49m\u001b[43mkwds\u001b[49m\u001b[43m)\u001b[49m\n",
      "File \u001b[0;32m/opt/conda/lib/python3.10/site-packages/pandas/core/nanops.py:93\u001b[0m, in \u001b[0;36mdisallow.__call__.<locals>._f\u001b[0;34m(*args, **kwargs)\u001b[0m\n\u001b[1;32m     91\u001b[0m \u001b[38;5;28;01mtry\u001b[39;00m:\n\u001b[1;32m     92\u001b[0m     \u001b[38;5;28;01mwith\u001b[39;00m np\u001b[38;5;241m.\u001b[39merrstate(invalid\u001b[38;5;241m=\u001b[39m\u001b[38;5;124m\"\u001b[39m\u001b[38;5;124mignore\u001b[39m\u001b[38;5;124m\"\u001b[39m):\n\u001b[0;32m---> 93\u001b[0m         \u001b[38;5;28;01mreturn\u001b[39;00m \u001b[43mf\u001b[49m\u001b[43m(\u001b[49m\u001b[38;5;241;43m*\u001b[39;49m\u001b[43margs\u001b[49m\u001b[43m,\u001b[49m\u001b[43m \u001b[49m\u001b[38;5;241;43m*\u001b[39;49m\u001b[38;5;241;43m*\u001b[39;49m\u001b[43mkwargs\u001b[49m\u001b[43m)\u001b[49m\n\u001b[1;32m     94\u001b[0m \u001b[38;5;28;01mexcept\u001b[39;00m \u001b[38;5;167;01mValueError\u001b[39;00m \u001b[38;5;28;01mas\u001b[39;00m e:\n\u001b[1;32m     95\u001b[0m     \u001b[38;5;66;03m# we want to transform an object array\u001b[39;00m\n\u001b[1;32m     96\u001b[0m     \u001b[38;5;66;03m# ValueError message to the more typical TypeError\u001b[39;00m\n\u001b[1;32m     97\u001b[0m     \u001b[38;5;66;03m# e.g. this is normally a disallowed function on\u001b[39;00m\n\u001b[1;32m     98\u001b[0m     \u001b[38;5;66;03m# object arrays that contain strings\u001b[39;00m\n\u001b[1;32m     99\u001b[0m     \u001b[38;5;28;01mif\u001b[39;00m is_object_dtype(args[\u001b[38;5;241m0\u001b[39m]):\n",
      "File \u001b[0;32m/opt/conda/lib/python3.10/site-packages/pandas/core/nanops.py:155\u001b[0m, in \u001b[0;36mbottleneck_switch.__call__.<locals>.f\u001b[0;34m(values, axis, skipna, **kwds)\u001b[0m\n\u001b[1;32m    153\u001b[0m         result \u001b[38;5;241m=\u001b[39m alt(values, axis\u001b[38;5;241m=\u001b[39maxis, skipna\u001b[38;5;241m=\u001b[39mskipna, \u001b[38;5;241m*\u001b[39m\u001b[38;5;241m*\u001b[39mkwds)\n\u001b[1;32m    154\u001b[0m \u001b[38;5;28;01melse\u001b[39;00m:\n\u001b[0;32m--> 155\u001b[0m     result \u001b[38;5;241m=\u001b[39m \u001b[43malt\u001b[49m\u001b[43m(\u001b[49m\u001b[43mvalues\u001b[49m\u001b[43m,\u001b[49m\u001b[43m \u001b[49m\u001b[43maxis\u001b[49m\u001b[38;5;241;43m=\u001b[39;49m\u001b[43maxis\u001b[49m\u001b[43m,\u001b[49m\u001b[43m \u001b[49m\u001b[43mskipna\u001b[49m\u001b[38;5;241;43m=\u001b[39;49m\u001b[43mskipna\u001b[49m\u001b[43m,\u001b[49m\u001b[43m \u001b[49m\u001b[38;5;241;43m*\u001b[39;49m\u001b[38;5;241;43m*\u001b[39;49m\u001b[43mkwds\u001b[49m\u001b[43m)\u001b[49m\n\u001b[1;32m    157\u001b[0m \u001b[38;5;28;01mreturn\u001b[39;00m result\n",
      "File \u001b[0;32m/opt/conda/lib/python3.10/site-packages/pandas/core/nanops.py:418\u001b[0m, in \u001b[0;36m_datetimelike_compat.<locals>.new_func\u001b[0;34m(values, axis, skipna, mask, **kwargs)\u001b[0m\n\u001b[1;32m    415\u001b[0m \u001b[38;5;28;01mif\u001b[39;00m datetimelike \u001b[38;5;129;01mand\u001b[39;00m mask \u001b[38;5;129;01mis\u001b[39;00m \u001b[38;5;28;01mNone\u001b[39;00m:\n\u001b[1;32m    416\u001b[0m     mask \u001b[38;5;241m=\u001b[39m isna(values)\n\u001b[0;32m--> 418\u001b[0m result \u001b[38;5;241m=\u001b[39m \u001b[43mfunc\u001b[49m\u001b[43m(\u001b[49m\u001b[43mvalues\u001b[49m\u001b[43m,\u001b[49m\u001b[43m \u001b[49m\u001b[43maxis\u001b[49m\u001b[38;5;241;43m=\u001b[39;49m\u001b[43maxis\u001b[49m\u001b[43m,\u001b[49m\u001b[43m \u001b[49m\u001b[43mskipna\u001b[49m\u001b[38;5;241;43m=\u001b[39;49m\u001b[43mskipna\u001b[49m\u001b[43m,\u001b[49m\u001b[43m \u001b[49m\u001b[43mmask\u001b[49m\u001b[38;5;241;43m=\u001b[39;49m\u001b[43mmask\u001b[49m\u001b[43m,\u001b[49m\u001b[43m \u001b[49m\u001b[38;5;241;43m*\u001b[39;49m\u001b[38;5;241;43m*\u001b[39;49m\u001b[43mkwargs\u001b[49m\u001b[43m)\u001b[49m\n\u001b[1;32m    420\u001b[0m \u001b[38;5;28;01mif\u001b[39;00m datetimelike:\n\u001b[1;32m    421\u001b[0m     result \u001b[38;5;241m=\u001b[39m _wrap_results(result, orig_values\u001b[38;5;241m.\u001b[39mdtype, fill_value\u001b[38;5;241m=\u001b[39miNaT)\n",
      "File \u001b[0;32m/opt/conda/lib/python3.10/site-packages/pandas/core/nanops.py:706\u001b[0m, in \u001b[0;36mnanmean\u001b[0;34m(values, axis, skipna, mask)\u001b[0m\n\u001b[1;32m    703\u001b[0m     dtype_count \u001b[38;5;241m=\u001b[39m dtype\n\u001b[1;32m    705\u001b[0m count \u001b[38;5;241m=\u001b[39m _get_counts(values\u001b[38;5;241m.\u001b[39mshape, mask, axis, dtype\u001b[38;5;241m=\u001b[39mdtype_count)\n\u001b[0;32m--> 706\u001b[0m the_sum \u001b[38;5;241m=\u001b[39m _ensure_numeric(\u001b[43mvalues\u001b[49m\u001b[38;5;241;43m.\u001b[39;49m\u001b[43msum\u001b[49m\u001b[43m(\u001b[49m\u001b[43maxis\u001b[49m\u001b[43m,\u001b[49m\u001b[43m \u001b[49m\u001b[43mdtype\u001b[49m\u001b[38;5;241;43m=\u001b[39;49m\u001b[43mdtype_sum\u001b[49m\u001b[43m)\u001b[49m)\n\u001b[1;32m    708\u001b[0m \u001b[38;5;28;01mif\u001b[39;00m axis \u001b[38;5;129;01mis\u001b[39;00m \u001b[38;5;129;01mnot\u001b[39;00m \u001b[38;5;28;01mNone\u001b[39;00m \u001b[38;5;129;01mand\u001b[39;00m \u001b[38;5;28mgetattr\u001b[39m(the_sum, \u001b[38;5;124m\"\u001b[39m\u001b[38;5;124mndim\u001b[39m\u001b[38;5;124m\"\u001b[39m, \u001b[38;5;28;01mFalse\u001b[39;00m):\n\u001b[1;32m    709\u001b[0m     count \u001b[38;5;241m=\u001b[39m cast(np\u001b[38;5;241m.\u001b[39mndarray, count)\n",
      "File \u001b[0;32m/opt/conda/lib/python3.10/site-packages/numpy/core/_methods.py:48\u001b[0m, in \u001b[0;36m_sum\u001b[0;34m(a, axis, dtype, out, keepdims, initial, where)\u001b[0m\n\u001b[1;32m     46\u001b[0m \u001b[38;5;28;01mdef\u001b[39;00m \u001b[38;5;21m_sum\u001b[39m(a, axis\u001b[38;5;241m=\u001b[39m\u001b[38;5;28;01mNone\u001b[39;00m, dtype\u001b[38;5;241m=\u001b[39m\u001b[38;5;28;01mNone\u001b[39;00m, out\u001b[38;5;241m=\u001b[39m\u001b[38;5;28;01mNone\u001b[39;00m, keepdims\u001b[38;5;241m=\u001b[39m\u001b[38;5;28;01mFalse\u001b[39;00m,\n\u001b[1;32m     47\u001b[0m          initial\u001b[38;5;241m=\u001b[39m_NoValue, where\u001b[38;5;241m=\u001b[39m\u001b[38;5;28;01mTrue\u001b[39;00m):\n\u001b[0;32m---> 48\u001b[0m     \u001b[38;5;28;01mreturn\u001b[39;00m \u001b[43mumr_sum\u001b[49m\u001b[43m(\u001b[49m\u001b[43ma\u001b[49m\u001b[43m,\u001b[49m\u001b[43m \u001b[49m\u001b[43maxis\u001b[49m\u001b[43m,\u001b[49m\u001b[43m \u001b[49m\u001b[43mdtype\u001b[49m\u001b[43m,\u001b[49m\u001b[43m \u001b[49m\u001b[43mout\u001b[49m\u001b[43m,\u001b[49m\u001b[43m \u001b[49m\u001b[43mkeepdims\u001b[49m\u001b[43m,\u001b[49m\u001b[43m \u001b[49m\u001b[43minitial\u001b[49m\u001b[43m,\u001b[49m\u001b[43m \u001b[49m\u001b[43mwhere\u001b[49m\u001b[43m)\u001b[49m\n",
      "\u001b[0;31mTypeError\u001b[0m: unsupported operand type(s) for +: 'float' and 'str'"
     ]
    }
   ],
   "source": [
    "df1['column_2'].mean()\n",
    "\n",
    "# its showing errors due to mathamatical operation can't be done on the string variables."
   ]
  },
  {
   "cell_type": "markdown",
   "id": "978cfddc-5226-40ad-8f41-cac0a66c1b25",
   "metadata": {},
   "source": [
    "Q6. What do you understand about the windows function in pandas and list the types of windows\n",
    "functions?"
   ]
  },
  {
   "cell_type": "markdown",
   "id": "6936c4a7-f4e6-45a4-b298-1e4632813032",
   "metadata": {},
   "source": [
    "In Pandas, a window function is used to perform calculations on a set of rows that are related to the current row. It is a way to compute metrics like moving averages or cumulative sums by sliding a window over a DataFrame.\n",
    "\n",
    "The rolling() function is used to create a rolling window object that can be used to perform calculations on a set of rows. The rolling window object is created using a specified window size, which determines the number of rows to include in each calculation.\n",
    "\n",
    "There are several types of window functions in Pandas:\n",
    "\n",
    "Rolling Window Functions: These functions work on a specified window of values and use it to calculate a new value for each position.\n",
    "\n",
    "Expanding Window Functions: These functions accumulate all the previous rows and use all the values to calculate a new value for each position.\n",
    "\n",
    "Exponentially Weighted Moving Average (EWMA): These functions calculate the moving average with exponentially decreasing weights over time.\n",
    "\n",
    "Window Aggregations: These functions aggregate a set of values within the specified window to a single value. For example, calculating the sum or mean of values in the window.\n",
    "\n",
    "Overall, window functions in Pandas are a powerful tool for calculating time-series statistics and other metrics that depend on a sliding window of data."
   ]
  },
  {
   "cell_type": "markdown",
   "id": "31af5145-6ac3-45b2-b66c-0d0a42c994a2",
   "metadata": {},
   "source": [
    "Q7. Write a code to print only the current month and year at the time of answering this question."
   ]
  },
  {
   "cell_type": "code",
   "execution_count": 49,
   "id": "a9e8f910-783b-4858-a8ab-9de547a35e14",
   "metadata": {},
   "outputs": [
    {
     "data": {
      "text/plain": [
       "'February 2023'"
      ]
     },
     "execution_count": 49,
     "metadata": {},
     "output_type": "execute_result"
    }
   ],
   "source": [
    "import datetime as dt\n",
    "\n",
    "now = dt.datetime.now()\n",
    "now.strftime(\"%B %Y\")"
   ]
  },
  {
   "cell_type": "markdown",
   "id": "35c39717-8648-4b33-8137-a4d67d2aef99",
   "metadata": {},
   "source": [
    "Q8. Write a Python program that takes in two dates as input (in the format YYYY-MM-DD) and\n",
    "calculates the difference between them in days, hours, and minutes using Pandas time delta. The\n",
    "program should prompt the user to enter the dates and display the result."
   ]
  },
  {
   "cell_type": "code",
   "execution_count": 53,
   "id": "3382679b-5d8a-4d12-8f63-fda67f6af2e1",
   "metadata": {},
   "outputs": [
    {
     "name": "stdin",
     "output_type": "stream",
     "text": [
      "Enter the first date (YYYY-MM-DD):  2023-02-28\n",
      "Enter the second date (YYYY-MM-DD):  2023-11-29\n"
     ]
    },
    {
     "name": "stdout",
     "output_type": "stream",
     "text": [
      "The time difference between 2023-02-28 and 2023-11-29 is:\n",
      "274 days, 0 hours, and 0 minutes.\n"
     ]
    }
   ],
   "source": [
    "date1 = input(\"Enter the first date (YYYY-MM-DD): \")\n",
    "date2 = input(\"Enter the second date (YYYY-MM-DD): \")\n",
    "\n",
    "# convert the input strings to Pandas datetime objects\n",
    "date1 = pd.to_datetime(date1)\n",
    "date2 = pd.to_datetime(date2)\n",
    "\n",
    "# calculate the time difference between the two dates\n",
    "time_diff = date2 - date1\n",
    "\n",
    "# extract the number of days, hours, and minutes from the time difference\n",
    "days = time_diff.days\n",
    "hours = time_diff.seconds // 3600\n",
    "minutes = (time_diff.seconds // 60) % 60\n",
    "\n",
    "# display the result\n",
    "print(\"The time difference between\", date1.date(), \"and\", date2.date(), \"is:\")\n",
    "print(days, \"days,\", hours, \"hours, and\", minutes, \"minutes.\")"
   ]
  },
  {
   "cell_type": "markdown",
   "id": "50334218-ccc2-4a2b-b9bd-b2aa54bc449c",
   "metadata": {},
   "source": [
    "Q9. Write a Python program that reads a CSV file containing categorical data and converts a specified\n",
    "column to a categorical data type. The program should prompt the user to enter the file path, column\n",
    "name, and category order, and then display the sorted data."
   ]
  },
  {
   "cell_type": "code",
   "execution_count": 54,
   "id": "21ca5acc-d945-404c-89c6-4c9c3170925f",
   "metadata": {},
   "outputs": [
    {
     "name": "stdin",
     "output_type": "stream",
     "text": [
      "Enter the file path:  services.csv\n",
      "Enter the column name:  application_process\n",
      "Enter the category order (comma-separated):  str\n"
     ]
    },
    {
     "name": "stdout",
     "output_type": "stream",
     "text": [
      "    id  location_id  program_id         accepted_payments  \\\n",
      "0    1            1         NaN                       NaN   \n",
      "1    2            2         NaN                       NaN   \n",
      "2    3            3         NaN                       NaN   \n",
      "3    4            4         NaN                       NaN   \n",
      "4    5            5         NaN                       NaN   \n",
      "5    6            6         NaN                       NaN   \n",
      "6    7            7         NaN                       NaN   \n",
      "7    8            8         NaN                       NaN   \n",
      "8    9            9         NaN                       NaN   \n",
      "9   10           10         NaN                       NaN   \n",
      "10  11           11         NaN                       NaN   \n",
      "11  12           12         NaN                       NaN   \n",
      "12  13           13         NaN                       NaN   \n",
      "13  14           14         NaN                       NaN   \n",
      "14  15           15         NaN                       NaN   \n",
      "15  16           16         NaN                       NaN   \n",
      "16  17           17         NaN                       NaN   \n",
      "17  18           18         NaN                       NaN   \n",
      "18  19           19         NaN                       NaN   \n",
      "19  20           20         NaN                       NaN   \n",
      "20  21           21         NaN                       NaN   \n",
      "21  22           22         NaN  Cash, Check, Credit Card   \n",
      "22  23           22         NaN                       NaN   \n",
      "\n",
      "           alternate_name application_process  \\\n",
      "0                     NaN                 NaN   \n",
      "1                     NaN                 NaN   \n",
      "2                     NaN                 NaN   \n",
      "3                     NaN                 NaN   \n",
      "4                     NaN                 NaN   \n",
      "5                     NaN                 NaN   \n",
      "6                     NaN                 NaN   \n",
      "7                     NaN                 NaN   \n",
      "8                     NaN                 NaN   \n",
      "9                     NaN                 NaN   \n",
      "10                    NaN                 NaN   \n",
      "11                    NaN                 NaN   \n",
      "12                    NaN                 NaN   \n",
      "13                    NaN                 NaN   \n",
      "14                    NaN                 NaN   \n",
      "15                    NaN                 NaN   \n",
      "16                    NaN                 NaN   \n",
      "17                    NaN                 NaN   \n",
      "18                    NaN                 NaN   \n",
      "19                    NaN                 NaN   \n",
      "20                    NaN                 NaN   \n",
      "21  Fotos para pasaportes                 NaN   \n",
      "22                    NaN                 NaN   \n",
      "\n",
      "                                             audience  \\\n",
      "0   Older adults age 55 or over, ethnic minorities...   \n",
      "1        Residents of San Mateo County age 55 or over   \n",
      "2   Older adults age 55 or over who can benefit fr...   \n",
      "3   Parents, children, families with problems of c...   \n",
      "4   Low-income working families with children tran...   \n",
      "5                                             Any age   \n",
      "6   Older adults who have memory or sensory loss, ...   \n",
      "7   Senior citizens age 60 or over, disabled indiv...   \n",
      "8      Ethnic minorities, especially Spanish speaking   \n",
      "9                                                 NaN   \n",
      "10                                                NaN   \n",
      "11  Adults, parents, children in 1st-12th grades i...   \n",
      "12                                                NaN   \n",
      "13  Individuals or families with low or no income ...   \n",
      "14  Adult alcoholic/drug addictive men and women w...   \n",
      "15                                                NaN   \n",
      "16                                                NaN   \n",
      "17                                                NaN   \n",
      "18                                                NaN   \n",
      "19                                                NaN   \n",
      "20                                                NaN   \n",
      "21  Profit and nonprofit businesses, the public, m...   \n",
      "22  Second service and nonprofit businesses, the p...   \n",
      "\n",
      "                                          description  \\\n",
      "0   A walk-in center for older adults that provide...   \n",
      "1   Provides training and job placement to eligibl...   \n",
      "2   Offers supportive counseling services to San M...   \n",
      "3   Provides supervised visitation services and a ...   \n",
      "4   Provides fixed 8% short term loans to eligible...   \n",
      "5   A multipurpose center offering a wide variety ...   \n",
      "6   Rosener House is a day center for older adults...   \n",
      "7   Delivers a hot meal to the home of persons age...   \n",
      "8   Provides general reading material, including b...   \n",
      "9   Provides general reading and media materials, ...   \n",
      "10  Provides general reading materials, including ...   \n",
      "11  Offers an intergenerational literacy program f...   \n",
      "12  Provides general reading materials, including ...   \n",
      "13  Provides food, clothing, bus tokens and shelte...   \n",
      "14  Provides a long-term (6-12 month) residential ...   \n",
      "15  Provides emergency assistance including food a...   \n",
      "16  Provides emergency food, clothing and furnitur...   \n",
      "17  By appointment only, Project Smile provides a ...   \n",
      "18  Provides free medical and dental care to those...   \n",
      "19              no unrequired fields for this service   \n",
      "20                                just a test service   \n",
      "21  [NOTE THIS IS NOT A REAL SERVICE--THIS IS FOR ...   \n",
      "22  [NOTE THIS IS NOT A REAL ORGANIZATION--THIS IS...   \n",
      "\n",
      "                                          eligibility                  email  \\\n",
      "0   Age 55 or over for most programs, age 60 or ov...                    NaN   \n",
      "1   Age 55 or over, county resident and willing an...                    NaN   \n",
      "2         Resident of San Mateo County age 55 or over                    NaN   \n",
      "3                                                None                    NaN   \n",
      "4   Eligibility: Low-income family with legal cust...                    NaN   \n",
      "5                                                None                    NaN   \n",
      "6                                      Age 18 or over                    NaN   \n",
      "7             Homebound person unable to cook or shop                    NaN   \n",
      "8     Resident of California to obtain a library card                    NaN   \n",
      "9             Resident of California to obtain a card                    NaN   \n",
      "10  Resident of California to obtain a library car...                    NaN   \n",
      "11  English-speaking adult reading at or below 7th...                    NaN   \n",
      "12    Resident of California to obtain a library card                    NaN   \n",
      "13  None for most services. For emergency assistan...                    NaN   \n",
      "14  Age 21-60, detoxed, physically able and willin...                    NaN   \n",
      "15                      None for emergency assistance                    NaN   \n",
      "16                                Low-income families                    NaN   \n",
      "17    Low-income person without access to health care                    NaN   \n",
      "18    Low-income person without access to health care                    NaN   \n",
      "19                                                NaN                    NaN   \n",
      "20                                                NaN                    NaN   \n",
      "21                                               None  passports@example.org   \n",
      "22                                               None                    NaN   \n",
      "\n",
      "    ...                            interpretation_services  \\\n",
      "0   ...                                                NaN   \n",
      "1   ...                                                NaN   \n",
      "2   ...                                                NaN   \n",
      "3   ...                                                NaN   \n",
      "4   ...                                                NaN   \n",
      "5   ...                                                NaN   \n",
      "6   ...                                                NaN   \n",
      "7   ...                                                NaN   \n",
      "8   ...                                                NaN   \n",
      "9   ...                                                NaN   \n",
      "10  ...                                                NaN   \n",
      "11  ...                                                NaN   \n",
      "12  ...                                                NaN   \n",
      "13  ...                                                NaN   \n",
      "14  ...                                                NaN   \n",
      "15  ...                                                NaN   \n",
      "16  ...                                                NaN   \n",
      "17  ...                                                NaN   \n",
      "18  ...                                                NaN   \n",
      "19  ...                                                NaN   \n",
      "20  ...                                                NaN   \n",
      "21  ...  We offer 3-way interpretation services over th...   \n",
      "22  ...                                                NaN   \n",
      "\n",
      "                                             keywords languages  \\\n",
      "0   ADULT PROTECTION AND CARE SERVICES, Meal Sites...       NaN   \n",
      "1   EMPLOYMENT/TRAINING SERVICES, Job Development,...       NaN   \n",
      "2   Geriatric Counseling, Older Adults, Gay, Lesbi...       NaN   \n",
      "3   INDIVIDUAL AND FAMILY DEVELOPMENT SERVICES, Gr...       NaN   \n",
      "4      COMMUNITY SERVICES, Speakers, Automobile Loans       NaN   \n",
      "5   ADULT PROTECTION AND CARE SERVICES, In-Home Su...       NaN   \n",
      "6   ADULT PROTECTION AND CARE SERVICES, Adult Day ...       NaN   \n",
      "7   ADULT PROTECTION AND CARE SERVICES, Meal Sites...       NaN   \n",
      "8   EDUCATION SERVICES, Library, Libraries, Public...       NaN   \n",
      "9   EDUCATION SERVICES, Library, Libraries, Public...       NaN   \n",
      "10  EDUCATION SERVICES, Library, Libraries, Public...       NaN   \n",
      "11  EDUCATION SERVICES, Adult, Alternative, Litera...       NaN   \n",
      "12  EDUCATION SERVICES, Library, Libraries, Public...       NaN   \n",
      "13  COMMUNITY SERVICES, Interpretation/Translation...       NaN   \n",
      "14  ALCOHOLISM SERVICES, Residential Care, DRUG AB...       NaN   \n",
      "15  COMMODITY SERVICES, Clothing/Personal Items, C...       NaN   \n",
      "16  COMMODITY SERVICES, Clothing/Personal Items, C...       NaN   \n",
      "17  HEALTH SERVICES, Outpatient Care, Community Cl...       NaN   \n",
      "18  HEALTH SERVICES, Outpatient Care, Community Cl...       NaN   \n",
      "19                                                NaN       NaN   \n",
      "20                                                NaN       NaN   \n",
      "21                                    Salud, Medicina   Spanish   \n",
      "22         Ruby on Rails/Postgres/Redis, testing, wic       NaN   \n",
      "\n",
      "                                    name  \\\n",
      "0        Fair Oaks Adult Activity Center   \n",
      "1       Second Career Employment Program   \n",
      "2                 Senior Peer Counseling   \n",
      "3               Family Visitation Center   \n",
      "4      Economic Self-Sufficiency Program   \n",
      "5   Little House Recreational Activities   \n",
      "6       Rosener House Adult Day Services   \n",
      "7         Meals on Wheels - South County   \n",
      "8                       Fair Oaks Branch   \n",
      "9                           Main Library   \n",
      "10                       Schaberg Branch   \n",
      "11                          Project Read   \n",
      "12                 Redwood Shores Branch   \n",
      "13                    Redwood City Corps   \n",
      "14           Adult Rehabilitation Center   \n",
      "15                       Sunnyvale Corps   \n",
      "16     South San Francisco Citadel Corps   \n",
      "17                         Project Smile   \n",
      "18         San Mateo Free Medical Clinic   \n",
      "19             Service with blank fields   \n",
      "20       Service for Admin Test Location   \n",
      "21                       Passport Photos   \n",
      "22                  Example Service Name   \n",
      "\n",
      "                          required_documents  \\\n",
      "0                                        NaN   \n",
      "1                                        NaN   \n",
      "2                                        NaN   \n",
      "3                                        NaN   \n",
      "4                                        NaN   \n",
      "5                                        NaN   \n",
      "6                                        NaN   \n",
      "7                                        NaN   \n",
      "8                                        NaN   \n",
      "9                                        NaN   \n",
      "10                                       NaN   \n",
      "11                                       NaN   \n",
      "12                                       NaN   \n",
      "13                                       NaN   \n",
      "14                                       NaN   \n",
      "15                                       NaN   \n",
      "16                                       NaN   \n",
      "17                                       NaN   \n",
      "18                                       NaN   \n",
      "19                                       NaN   \n",
      "20                                       NaN   \n",
      "21  Government-issued picture identification   \n",
      "22                                       NaN   \n",
      "\n",
      "                            service_areas    status  \\\n",
      "0                                   Colma    active   \n",
      "1                        San Mateo County    active   \n",
      "2                        San Mateo County    active   \n",
      "3                        San Mateo County    active   \n",
      "4                        San Mateo County    active   \n",
      "5                        San Mateo County    active   \n",
      "6     Belmont, Burlingame, East Palo Alto    active   \n",
      "7                 Belmont, East Palo Alto    active   \n",
      "8                        San Mateo County    active   \n",
      "9                        San Mateo County    active   \n",
      "10                       San Mateo County    active   \n",
      "11                              Daly City    active   \n",
      "12                       San Mateo County    active   \n",
      "13    Belmont, Burlingame, East Palo Alto    active   \n",
      "14       Alameda County, San Mateo County    active   \n",
      "15                                    NaN    active   \n",
      "16  Colma, Daly City, South San Francisco    active   \n",
      "17                         East Palo Alto    active   \n",
      "18                    Belmont, Burlingame    active   \n",
      "19                                    NaN   defunct   \n",
      "20                       San Mateo County  inactive   \n",
      "21       Alameda County, San Mateo County    active   \n",
      "22       San Mateo County, Alameda County    active   \n",
      "\n",
      "                                            wait_time                 website  \\\n",
      "0                                            No wait.                     NaN   \n",
      "1                                             Varies.                     NaN   \n",
      "2                                             Varies.                     NaN   \n",
      "3                                            No wait.                     NaN   \n",
      "4                                                 NaN                     NaN   \n",
      "5                                            No wait.                     NaN   \n",
      "6                                            No wait.                     NaN   \n",
      "7                                            No wait.                     NaN   \n",
      "8                                            No wait.                     NaN   \n",
      "9                                            No wait.                     NaN   \n",
      "10                                           No wait.                     NaN   \n",
      "11  Depends on availability of tutors for small gr...                     NaN   \n",
      "12                                           No wait.                     NaN   \n",
      "13                                  Up to 20 minutes.                     NaN   \n",
      "14  Varies according to available beds for men and...                     NaN   \n",
      "15                                           No wait.                     NaN   \n",
      "16                                                NaN                     NaN   \n",
      "17                                            Varies.                     NaN   \n",
      "18                                            Varies.                     NaN   \n",
      "19                                                NaN                     NaN   \n",
      "20                                                NaN                     NaN   \n",
      "21                                No wait to 2 weeks.  http://www.example.com   \n",
      "22                                 No wait to 2 weeks  http://www.example.com   \n",
      "\n",
      "                                taxonomy_ids  \n",
      "0                                        NaN  \n",
      "1                                        NaN  \n",
      "2                                        NaN  \n",
      "3                                        NaN  \n",
      "4                                        NaN  \n",
      "5                                        NaN  \n",
      "6                                        NaN  \n",
      "7                                        NaN  \n",
      "8                                        NaN  \n",
      "9                                        NaN  \n",
      "10                                       NaN  \n",
      "11                                       NaN  \n",
      "12                                       NaN  \n",
      "13                                       NaN  \n",
      "14                                       NaN  \n",
      "15                                       NaN  \n",
      "16                                       NaN  \n",
      "17                                       NaN  \n",
      "18                                       NaN  \n",
      "19                                       NaN  \n",
      "20                                       NaN  \n",
      "21  105, 108, 108-05, 108-05-01, 111, 111-05  \n",
      "22                                       NaN  \n",
      "\n",
      "[23 rows x 22 columns]\n"
     ]
    }
   ],
   "source": [
    "file_path = input(\"Enter the file path: \")\n",
    "col_name = input(\"Enter the column name: \")\n",
    "categories = input(\"Enter the category order (comma-separated): \").split(\",\")\n",
    "\n",
    "# read the CSV file into a Pandas DataFrame\n",
    "df = pd.read_csv(file_path)\n",
    "\n",
    "# convert the specified column to a categorical data type with the specified category order\n",
    "df[col_name] = pd.Categorical(df[col_name], categories=categories, ordered=True)\n",
    "\n",
    "# sort the DataFrame by the specified column\n",
    "df = df.sort_values(by=col_name)\n",
    "\n",
    "\n",
    "print(df)\n",
    "\n"
   ]
  },
  {
   "cell_type": "raw",
   "id": "be74714e-5d60-4e17-9d0a-6a1f460bd3e0",
   "metadata": {},
   "source": [
    "Q11. You are given a CSV file containing student data that includes the student ID and their test score. Write\n",
    "a Python program that reads the CSV file, calculates the mean, median, and mode of the test scores, and\n",
    "displays the results in a table.\n",
    "The program should do the followingM\n",
    "I Prompt the user to enter the file path of the CSV file containing the student dataR\n",
    "I Read the CSV file into a Pandas DataFrameR\n",
    "I Calculate the mean, median, and mode of the test scores using Pandas toolsR\n",
    "I Display the mean, median, and mode in a table.\n",
    "Assume the CSV file contains the following columnsM\n",
    "I Student ID: The ID of the studentR\n",
    "I Test Score: The score of the student's test.\n",
    "Example usage of the program:\n",
    "Enter the file path of the CSV file containing the student data: student_data.csv\n",
    "+-----------+--------+\n",
    "| Statistic | Value |\n",
    "+-----------+--------+\n",
    "| Mean | 79.6 |\n",
    "| Median | 82 |\n",
    "| Mode | 85, 90 |\n",
    "+-----------+--------+\n",
    "Assume that the CSV file student_data.csv contains the following data:\n",
    "Student ID,Test Score\n",
    "1,85\n",
    "2,90\n",
    "3,80\n",
    "4,75\n",
    "5,85\n",
    "6,82\n",
    "7,78\n",
    "8,85\n",
    "9,90\n",
    "10,85\n",
    "The program should calculate the mean, median, and mode of the test scores and display the results\n",
    "in a table."
   ]
  },
  {
   "cell_type": "code",
   "execution_count": 59,
   "id": "e3a85aa4-fb60-4d3c-a3ef-87009fa318ff",
   "metadata": {},
   "outputs": [
    {
     "name": "stdout",
     "output_type": "stream",
     "text": [
      "+-----------+--------+\n",
      "| Statistic | Value |\n",
      "+-----------+--------+\n",
      "| Mean      | 83.5  |\n",
      "| Median    | 85.0     |\n",
      "| Mode      | 85    |\n",
      "+-----------+--------+\n"
     ]
    }
   ],
   "source": [
    "import csv\n",
    "\n",
    "students = [\n",
    "    {\"Student ID\": 1, \"Test Score\": 85},\n",
    "    {\"Student ID\": 2, \"Test Score\": 90},\n",
    "    {\"Student ID\": 3, \"Test Score\": 80},\n",
    "    {\"Student ID\": 4, \"Test Score\": 75},\n",
    "    {\"Student ID\": 5, \"Test Score\": 85},\n",
    "    {\"Student ID\": 6, \"Test Score\": 82},\n",
    "    {\"Student ID\": 7, \"Test Score\": 78},\n",
    "    {\"Student ID\": 8, \"Test Score\": 85},\n",
    "    {\"Student ID\": 9, \"Test Score\": 90},\n",
    "    {\"Student ID\": 10, \"Test Score\": 85},\n",
    "]\n",
    "\n",
    "# write the student data to a CSV file\n",
    "with open(\"student_data.csv\", mode=\"w\", newline=\"\") as csv_file:\n",
    "    fieldnames = [\"Student ID\", \"Test Score\"]\n",
    "    writer = csv.DictWriter(csv_file, fieldnames=fieldnames)\n",
    "\n",
    "    writer.writeheader()\n",
    "    for student in students:\n",
    "        writer.writerow(student)\n",
    "        \n",
    "        \n",
    "df = pd.read_csv('student_data.csv')\n",
    "\n",
    "# calculate the mean, median, and mode of the test scores\n",
    "mean = df['Test Score'].mean()\n",
    "median = df['Test Score'].median()\n",
    "mode = df['Test Score'].mode().tolist()\n",
    "\n",
    "# display the results in a table\n",
    "print(\"+-----------+--------+\")\n",
    "print(\"| Statistic | Value |\")\n",
    "print(\"+-----------+--------+\")\n",
    "print(\"| Mean      | {:.1f}  |\".format(mean))\n",
    "print(\"| Median    | {}     |\".format(median))\n",
    "print(\"| Mode      | \", end=\"\")\n",
    "for i in range(len(mode)):\n",
    "    if i == len(mode) - 1:\n",
    "        print(mode[i], end=\" \")\n",
    "    else:\n",
    "        print(\"{}, \".format(mode[i]), end=\"\")\n",
    "print(\" \" * (7 - len(str(mode))) + \"|\")\n",
    "print(\"+-----------+--------+\")"
   ]
  },
  {
   "cell_type": "code",
   "execution_count": null,
   "id": "cd260115-70ce-4be5-b90c-3c2645449b6c",
   "metadata": {},
   "outputs": [],
   "source": []
  }
 ],
 "metadata": {
  "kernelspec": {
   "display_name": "Python 3 (ipykernel)",
   "language": "python",
   "name": "python3"
  },
  "language_info": {
   "codemirror_mode": {
    "name": "ipython",
    "version": 3
   },
   "file_extension": ".py",
   "mimetype": "text/x-python",
   "name": "python",
   "nbconvert_exporter": "python",
   "pygments_lexer": "ipython3",
   "version": "3.10.8"
  }
 },
 "nbformat": 4,
 "nbformat_minor": 5
}
