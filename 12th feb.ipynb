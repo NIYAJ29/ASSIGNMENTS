{
 "cells": [
  {
   "cell_type": "markdown",
   "id": "7b56345e-dfd9-4651-8407-f24875af9fe0",
   "metadata": {},
   "source": [
    "Q1. What is an Exception in python? Write the difference between Exceptions and syntax errors."
   ]
  },
  {
   "cell_type": "markdown",
   "id": "0ebe2cdd-8253-4704-9b20-dafa0ef4fcdd",
   "metadata": {},
   "source": [
    "In Python, an exception is an error that occurs during the execution of a program, which interrupts the normal flow of the program.\n",
    "\n",
    "Syntax errors, on the other hand, are errors that occur when the Python interpreter is unable to parse or understand the code because it violates the rules of the language. They occur when the syntax of the code is incorrect, such as missing a closing parenthesis or using an incorrect keyword.\n",
    "\n",
    "The main difference between exceptions and syntax errors is that syntax errors are detected by the Python interpreter at compile time, before the program is executed, while exceptions are detected at runtime, during the execution of the program. Additionally, syntax errors prevent the program from being executed at all, while exceptions allow the program to run until the error is encountered, at which point the program may halt or continue running depending on how the error is handled."
   ]
  },
  {
   "cell_type": "markdown",
   "id": "2c96faf5-c5b7-424e-9a46-9e602a6cbf05",
   "metadata": {},
   "source": [
    "Q2. what happens when an exception is not handled ? Explain with example."
   ]
  },
  {
   "cell_type": "markdown",
   "id": "36cbb9fc-622a-41b2-8228-f14a2fa88a90",
   "metadata": {},
   "source": [
    "When an exception is not handled in a Python program, it will cause the program to terminate and an error message will be displayed, indicating the type of exception that occurred, along with a traceback that shows the sequence of calls that led to the exception."
   ]
  },
  {
   "cell_type": "code",
   "execution_count": 4,
   "id": "3479de83-954c-4d5b-93f2-89b4b99b5b44",
   "metadata": {},
   "outputs": [
    {
     "ename": "ZeroDivisionError",
     "evalue": "division by zero",
     "output_type": "error",
     "traceback": [
      "\u001b[0;31m---------------------------------------------------------------------------\u001b[0m",
      "\u001b[0;31mZeroDivisionError\u001b[0m                         Traceback (most recent call last)",
      "Cell \u001b[0;32mIn[4], line 5\u001b[0m\n\u001b[1;32m      2\u001b[0m     x \u001b[38;5;241m=\u001b[39m \u001b[38;5;241m10\u001b[39m \u001b[38;5;241m/\u001b[39m \u001b[38;5;241m0\u001b[39m\n\u001b[1;32m      3\u001b[0m     \u001b[38;5;28mprint\u001b[39m(x)\n\u001b[0;32m----> 5\u001b[0m \u001b[43mdivide_by_zero\u001b[49m\u001b[43m(\u001b[49m\u001b[43m)\u001b[49m    \n",
      "Cell \u001b[0;32mIn[4], line 2\u001b[0m, in \u001b[0;36mdivide_by_zero\u001b[0;34m()\u001b[0m\n\u001b[1;32m      1\u001b[0m \u001b[38;5;28;01mdef\u001b[39;00m \u001b[38;5;21mdivide_by_zero\u001b[39m():\n\u001b[0;32m----> 2\u001b[0m     x \u001b[38;5;241m=\u001b[39m \u001b[38;5;241;43m10\u001b[39;49m\u001b[43m \u001b[49m\u001b[38;5;241;43m/\u001b[39;49m\u001b[43m \u001b[49m\u001b[38;5;241;43m0\u001b[39;49m\n\u001b[1;32m      3\u001b[0m     \u001b[38;5;28mprint\u001b[39m(x)\n",
      "\u001b[0;31mZeroDivisionError\u001b[0m: division by zero"
     ]
    }
   ],
   "source": [
    "def divide_by_zero():\n",
    "    x = 10 / 0\n",
    "    print(x)\n",
    "    \n",
    "divide_by_zero()    "
   ]
  },
  {
   "cell_type": "markdown",
   "id": "d9ef9064-5f10-45b0-bc14-0113ea97320c",
   "metadata": {},
   "source": [
    "Q4. Explain with an example: try and else ,finally , raise."
   ]
  },
  {
   "cell_type": "code",
   "execution_count": 6,
   "id": "1b76e2a9-89a7-4197-a3a3-b070e7666fab",
   "metadata": {},
   "outputs": [
    {
     "name": "stdout",
     "output_type": "stream",
     "text": [
      "The result of 10 divided by 2 is 5.0.\n",
      "This code is always executed, whether an exception occurred or not.\n",
      "Error: Cannot divide by zero.\n",
      "This code is always executed, whether an exception occurred or not.\n"
     ]
    },
    {
     "ename": "ZeroDivisionError",
     "evalue": "division by zero",
     "output_type": "error",
     "traceback": [
      "\u001b[0;31m---------------------------------------------------------------------------\u001b[0m",
      "\u001b[0;31mZeroDivisionError\u001b[0m                         Traceback (most recent call last)",
      "Cell \u001b[0;32mIn[6], line 13\u001b[0m\n\u001b[1;32m     10\u001b[0m         \u001b[38;5;28mprint\u001b[39m(\u001b[38;5;124m\"\u001b[39m\u001b[38;5;124mThis code is always executed, whether an exception occurred or not.\u001b[39m\u001b[38;5;124m\"\u001b[39m)\n\u001b[1;32m     12\u001b[0m divide_numbers(\u001b[38;5;241m10\u001b[39m, \u001b[38;5;241m2\u001b[39m)\n\u001b[0;32m---> 13\u001b[0m \u001b[43mdivide_numbers\u001b[49m\u001b[43m(\u001b[49m\u001b[38;5;241;43m10\u001b[39;49m\u001b[43m,\u001b[49m\u001b[43m \u001b[49m\u001b[38;5;241;43m0\u001b[39;49m\u001b[43m)\u001b[49m\n",
      "Cell \u001b[0;32mIn[6], line 3\u001b[0m, in \u001b[0;36mdivide_numbers\u001b[0;34m(x, y)\u001b[0m\n\u001b[1;32m      1\u001b[0m \u001b[38;5;28;01mdef\u001b[39;00m \u001b[38;5;21mdivide_numbers\u001b[39m(x, y):\n\u001b[1;32m      2\u001b[0m     \u001b[38;5;28;01mtry\u001b[39;00m:\n\u001b[0;32m----> 3\u001b[0m         result \u001b[38;5;241m=\u001b[39m \u001b[43mx\u001b[49m\u001b[43m \u001b[49m\u001b[38;5;241;43m/\u001b[39;49m\u001b[43m \u001b[49m\u001b[43my\u001b[49m\n\u001b[1;32m      4\u001b[0m     \u001b[38;5;28;01mexcept\u001b[39;00m \u001b[38;5;167;01mZeroDivisionError\u001b[39;00m:\n\u001b[1;32m      5\u001b[0m         \u001b[38;5;28mprint\u001b[39m(\u001b[38;5;124m\"\u001b[39m\u001b[38;5;124mError: Cannot divide by zero.\u001b[39m\u001b[38;5;124m\"\u001b[39m)\n",
      "\u001b[0;31mZeroDivisionError\u001b[0m: division by zero"
     ]
    }
   ],
   "source": [
    "def divide_numbers(x, y):\n",
    "    try:\n",
    "        result = x / y\n",
    "    except ZeroDivisionError:\n",
    "        print(\"Error: Cannot divide by zero.\")\n",
    "        raise\n",
    "    else:\n",
    "        print(f\"The result of {x} divided by {y} is {result}.\")\n",
    "    finally:\n",
    "        print(\"This code is always executed, whether an exception occurred or not.\")\n",
    "\n",
    "divide_numbers(10, 2)\n",
    "divide_numbers(10, 0)"
   ]
  },
  {
   "cell_type": "markdown",
   "id": "e6cdc8e5-efb2-4976-87d6-4170a11367a6",
   "metadata": {},
   "source": [
    "Q5. what are the custom exceptions in python ? why do we need them ? Explain with an example."
   ]
  },
  {
   "cell_type": "markdown",
   "id": "38d14bc5-089b-4328-9639-ffd798fc2e67",
   "metadata": {},
   "source": [
    "In Python, custom exceptions are user-defined exception classes that allow developers to create their own types of exceptions that can be raised in their programs.\n",
    "\n",
    "We need custom exceptions when we want to provide more specific and descriptive error messages to help with debugging and troubleshooting. They can also help to make code more readable and maintainable by separating the error handling logic from the main code."
   ]
  },
  {
   "cell_type": "code",
   "execution_count": 7,
   "id": "097188ff-5f73-40c1-b6a5-9ebbff2adf93",
   "metadata": {},
   "outputs": [
    {
     "name": "stdout",
     "output_type": "stream",
     "text": [
      "Insufficient balance.\n"
     ]
    }
   ],
   "source": [
    "class InsufficientBalanceError(Exception):\n",
    "    pass\n",
    "\n",
    "def withdraw_money(account_balance, amount):\n",
    "    if amount > account_balance:\n",
    "        raise InsufficientBalanceError(\"Insufficient balance.\")\n",
    "    else:\n",
    "        account_balance -= amount\n",
    "        print(f\"Withdrew {amount} dollars. New balance is {account_balance}.\")\n",
    "\n",
    "try:\n",
    "    withdraw_money(100, 200)\n",
    "except InsufficientBalanceError as e:\n",
    "    print(e)"
   ]
  },
  {
   "cell_type": "markdown",
   "id": "2bffa11b-8fc1-4479-8487-f9c62120fd0d",
   "metadata": {},
   "source": [
    "In this example, I have define a custom exception class InsufficientBalanceError that inherits from the built-in Exception class. We then define a function withdraw_money that takes an account balance and an amount to withdraw as arguments. If the amount to withdraw is greater than the account balance, we raise an instance of the InsufficientBalanceError exception with an error message."
   ]
  },
  {
   "cell_type": "markdown",
   "id": "18c587a5-bc76-4774-a816-71df8b86ad5e",
   "metadata": {},
   "source": [
    "Q6. Create a custom exception class & use it for exception handle."
   ]
  },
  {
   "cell_type": "code",
   "execution_count": 8,
   "id": "c9a71840-75a9-479f-8330-1aa51dcc23c4",
   "metadata": {},
   "outputs": [
    {
     "name": "stdout",
     "output_type": "stream",
     "text": [
      "Added banana to cart\n",
      "Added orange to cart\n",
      "Error: Sorry, apple is currently out of stock\n"
     ]
    }
   ],
   "source": [
    "class OutOfStockError(Exception):\n",
    "    def __init__(self, item_name):\n",
    "        self.item_name = item_name\n",
    "        super().__init__(f\"Sorry, {self.item_name} is currently out of stock\")\n",
    "\n",
    "class ShoppingCart:\n",
    "    def __init__(self):\n",
    "        self.items = []\n",
    "    \n",
    "    def add_item(self, item_name):\n",
    "        if item_name == \"apple\":\n",
    "            raise OutOfStockError(item_name)\n",
    "        else:\n",
    "            self.items.append(item_name)\n",
    "            print(f\"Added {item_name} to cart\")\n",
    "    \n",
    "try:\n",
    "    cart = ShoppingCart()\n",
    "    cart.add_item(\"banana\")\n",
    "    cart.add_item(\"orange\")\n",
    "    cart.add_item(\"apple\")\n",
    "except OutOfStockError as e:\n",
    "    print(\"Error:\", e)"
   ]
  },
  {
   "cell_type": "markdown",
   "id": "8f7a8f26-4f81-48ea-a4bd-d7f755920383",
   "metadata": {},
   "source": [
    "I have define a custom exception class called OutOfStockError that inherits from the built-in Exception class. The OutOfStockError class takes an item name as an argument and generates an error message that says the item is out of stock."
   ]
  },
  {
   "cell_type": "code",
   "execution_count": null,
   "id": "c49859e5-9df7-4eed-8493-3877a6eda71f",
   "metadata": {},
   "outputs": [],
   "source": []
  }
 ],
 "metadata": {
  "kernelspec": {
   "display_name": "Python 3 (ipykernel)",
   "language": "python",
   "name": "python3"
  },
  "language_info": {
   "codemirror_mode": {
    "name": "ipython",
    "version": 3
   },
   "file_extension": ".py",
   "mimetype": "text/x-python",
   "name": "python",
   "nbconvert_exporter": "python",
   "pygments_lexer": "ipython3",
   "version": "3.10.8"
  }
 },
 "nbformat": 4,
 "nbformat_minor": 5
}
