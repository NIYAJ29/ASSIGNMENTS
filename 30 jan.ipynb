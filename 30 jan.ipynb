{
 "cells": [
  {
   "cell_type": "code",
   "execution_count": 1,
   "id": "36832b44-51f6-46fc-b7e9-839a4b3fad62",
   "metadata": {},
   "outputs": [
    {
     "name": "stdin",
     "output_type": "stream",
     "text": [
      "please enter your percentage 75\n"
     ]
    },
    {
     "name": "stdout",
     "output_type": "stream",
     "text": [
      "C\n"
     ]
    }
   ],
   "source": [
    "# 1\n",
    "marks = int(input('please enter your percentage'))\n",
    "if marks > 90 :\n",
    "    print('A')\n",
    "elif marks <= 90 and marks >80 :\n",
    "    print('B')\n",
    "elif marks >= 60 and marks <= 80 :\n",
    "    print ('C')\n",
    "else :\n",
    "    print('D')\n",
    "\n"
   ]
  },
  {
   "cell_type": "code",
   "execution_count": 2,
   "id": "c9b63a7e-bee0-4516-bd40-a91df9e19fe2",
   "metadata": {},
   "outputs": [
    {
     "name": "stdin",
     "output_type": "stream",
     "text": [
      "cost of bike 1000500\n"
     ]
    },
    {
     "name": "stdout",
     "output_type": "stream",
     "text": [
      "applicable tax is 15%\n"
     ]
    }
   ],
   "source": [
    "# 2\n",
    "cost = int(input('cost of bike'))\n",
    "if cost > 100000 :\n",
    "    print('applicable tax is 15%')\n",
    "elif cost<= 100000 and cost > 50000 :\n",
    "    print('applicable tax is 10%')\n",
    "else :\n",
    "    print('applicable tax is 5%')"
   ]
  },
  {
   "cell_type": "code",
   "execution_count": 5,
   "id": "46ab8c55-8166-4835-a229-369baa91accb",
   "metadata": {},
   "outputs": [
    {
     "name": "stdin",
     "output_type": "stream",
     "text": [
      "please enter city name Agra\n"
     ]
    },
    {
     "name": "stdout",
     "output_type": "stream",
     "text": [
      "Taj Mahal\n"
     ]
    }
   ],
   "source": [
    "# 3\n",
    "city = input('please enter city name')\n",
    "if city == 'Delhi' :\n",
    "    print('Red Fort')\n",
    "elif city == 'Agra' :\n",
    "    print('Taj Mahal')\n",
    "elif city == 'Jaipur':\n",
    "    print ('Jal Mahal')\n",
    "    "
   ]
  },
  {
   "cell_type": "code",
   "execution_count": 1,
   "id": "3ffcb0b5-b088-4272-853d-a837f7b932b4",
   "metadata": {},
   "outputs": [
    {
     "name": "stdin",
     "output_type": "stream",
     "text": [
      "enter the number 30\n"
     ]
    },
    {
     "name": "stdout",
     "output_type": "stream",
     "text": [
      "2\n"
     ]
    }
   ],
   "source": [
    "# 4\n",
    "n = int(input('enter the number'))\n",
    "l = 0\n",
    "while n >= 10:\n",
    "    n = n/3\n",
    "    l += 1\n",
    "print(l)\n",
    "    "
   ]
  },
  {
   "cell_type": "code",
   "execution_count": 2,
   "id": "008163d3-5b22-48af-94ec-6e949c659b6d",
   "metadata": {},
   "outputs": [
    {
     "name": "stdout",
     "output_type": "stream",
     "text": [
      "1\n",
      "2\n",
      "3\n",
      "4\n",
      "5\n",
      "6\n",
      "7\n",
      "8\n",
      "9\n"
     ]
    }
   ],
   "source": [
    "# 5\n",
    "# With the while loop we can execute a set of statements as long as a condition is true.\n",
    "# If you don't have a tidy data structure to iterate through, or you don't have a generator function that drives your processing, you must use while.\n",
    "n = 1\n",
    "while n < 10:\n",
    "    print(n)\n",
    "    n += 1\n"
   ]
  },
  {
   "cell_type": "code",
   "execution_count": 1,
   "id": "a4ff2f8d-8b23-4547-a854-3e926a466b2e",
   "metadata": {},
   "outputs": [
    {
     "name": "stdin",
     "output_type": "stream",
     "text": [
      "Enter number of rows :  4\n"
     ]
    },
    {
     "name": "stdout",
     "output_type": "stream",
     "text": [
      "* \n",
      "* * \n",
      "* * * \n",
      "* * * * \n"
     ]
    }
   ],
   "source": [
    "# 6\n",
    "n = int(input('Enter number of rows : '))\n",
    "i = 1\n",
    "while i <= n :\n",
    "    j = 1\n",
    "    while j <= i:\n",
    "        print(\"*\", end = \" \")\n",
    "        j += 1\n",
    "    print()\n",
    "    i += 1"
   ]
  },
  {
   "cell_type": "code",
   "execution_count": 3,
   "id": "ce7cfef3-e648-431f-9a8d-a2713e94dd35",
   "metadata": {},
   "outputs": [
    {
     "name": "stdout",
     "output_type": "stream",
     "text": [
      "10\n",
      "9\n",
      "8\n",
      "7\n",
      "6\n",
      "5\n",
      "4\n",
      "3\n",
      "2\n",
      "1\n"
     ]
    }
   ],
   "source": [
    "# 7&8\n",
    "i = 10\n",
    "while i > 0:\n",
    "    print(i)\n",
    "    i = i - 1"
   ]
  },
  {
   "cell_type": "code",
   "execution_count": null,
   "id": "4cb665c6-429c-4a8a-9f6c-7311e0a99f9d",
   "metadata": {},
   "outputs": [],
   "source": []
  }
 ],
 "metadata": {
  "kernelspec": {
   "display_name": "Python 3 (ipykernel)",
   "language": "python",
   "name": "python3"
  },
  "language_info": {
   "codemirror_mode": {
    "name": "ipython",
    "version": 3
   },
   "file_extension": ".py",
   "mimetype": "text/x-python",
   "name": "python",
   "nbconvert_exporter": "python",
   "pygments_lexer": "ipython3",
   "version": "3.10.8"
  }
 },
 "nbformat": 4,
 "nbformat_minor": 5
}
