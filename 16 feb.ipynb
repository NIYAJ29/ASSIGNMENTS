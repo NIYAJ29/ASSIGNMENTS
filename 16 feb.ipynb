{
 "cells": [
  {
   "cell_type": "markdown",
   "id": "64e32a05-1e8e-4d87-a956-1583077666d5",
   "metadata": {},
   "source": [
    "Q1. What is a database? Differentiate between SQL and NoSQL databases."
   ]
  },
  {
   "cell_type": "markdown",
   "id": "61e4b4a7-9352-4b02-9cfa-72868248710d",
   "metadata": {},
   "source": [
    "A database is a structured collection of data that is organized and stored in a way that enables efficient retrieval and manipulation of the data. Databases are commonly used in computer software applications and web-based systems to store and manage large amounts of data.\n",
    "\n",
    "There are two main types of databases: SQL (relational) and NoSQL (non-relational).\n",
    "\n",
    "SQL databases, also known as relational databases, store data in tables that have a fixed structure. The data in the tables is organized into rows and columns, and the relationships between tables are defined by primary and foreign keys. SQL databases are based on a set of standard query language (SQL) commands that are used to manipulate and retrieve data from the database. Examples of SQL databases include MySQL, Oracle, and Microsoft SQL Server.\n",
    "\n",
    "NoSQL databases, on the other hand, store data in a more flexible format that is not based on tables with fixed columns. Instead, data is stored in document, key-value, graph, or column-family format, depending on the type of NoSQL database. NoSQL databases are designed to handle large volumes of unstructured or semi-structured data, making them a popular choice for big data and real-time web applications. Examples of NoSQL databases include MongoDB, Cassandra, and Redis.\n",
    "\n",
    "In general, SQL databases are best suited for applications that require a high degree of consistency and transactional integrity, such as financial systems or e-commerce platforms, while NoSQL databases are better suited for applications that require high scalability and performance, such as social media networks or gaming applications. However, the choice between SQL and NoSQL databases ultimately depends on the specific needs and requirements of the application being developed."
   ]
  },
  {
   "cell_type": "markdown",
   "id": "4c579067-718a-4265-abe3-155874a0ecab",
   "metadata": {},
   "source": [
    "Q2. What is DDL? Explain why CREATE, DROP, ALTER, and TRUNCATE are used with an example."
   ]
  },
  {
   "cell_type": "markdown",
   "id": "533ae6c9-f386-4032-b50c-9a5471e4df9c",
   "metadata": {},
   "source": [
    "DDL stands for Data Definition Language, and it is a subset of SQL (Structured Query Language) used to define the structure of a database, including tables, indexes, constraints, and other database objects."
   ]
  },
  {
   "cell_type": "markdown",
   "id": "4dce9a18-569c-4d02-9ac7-c0e0a194c377",
   "metadata": {},
   "source": [
    "CREATE: This command is used to create a new object in the database, such as a table or an index"
   ]
  },
  {
   "cell_type": "code",
   "execution_count": null,
   "id": "aa2186bd-e5e1-450e-88b6-883387ffdfa7",
   "metadata": {},
   "outputs": [],
   "source": [
    "CREATE TABLE customers (\n",
    "  customer_id INT PRIMARY KEY,\n",
    "  customer_name VARCHAR(50) NOT NULL,\n",
    "  customer_email VARCHAR(50) UNIQUE,\n",
    "  customer_phone VARCHAR(20)\n",
    ");\n"
   ]
  },
  {
   "cell_type": "markdown",
   "id": "49334e40-0f7c-4031-800e-0c121840ffc1",
   "metadata": {},
   "source": [
    "This SQL statement creates a new table called \"customers\" with four columns: customer_id, customer_name, customer_email, and customer_phone. The customer_id column is defined as the primary key, while the customer_email column is defined as unique."
   ]
  },
  {
   "cell_type": "markdown",
   "id": "358ed786-f3c7-4f56-80a9-e924a548907f",
   "metadata": {},
   "source": [
    "DROP: This command is used to remove an existing object from the database, such as a table or an index."
   ]
  },
  {
   "cell_type": "code",
   "execution_count": null,
   "id": "87093771-b99b-4dea-b8e0-94380a059fd6",
   "metadata": {},
   "outputs": [],
   "source": [
    "DROP TABLE customers;\n",
    "\n",
    "#This SQL statement removes the \"customers\" table from the database."
   ]
  },
  {
   "cell_type": "markdown",
   "id": "4fbf3ede-010a-4486-9463-d99d4fa04c68",
   "metadata": {},
   "source": [
    "This SQL statement removes the \"customers\" table from the database."
   ]
  },
  {
   "cell_type": "code",
   "execution_count": null,
   "id": "193005f8-61e6-453c-badd-d4dcf09068c4",
   "metadata": {},
   "outputs": [],
   "source": [
    "ALTER TABLE customers\n",
    "ADD COLUMN customer_address VARCHAR(100);\n",
    "\n",
    "#This SQL statement adds a new column called \"customer_address\" to the \"customers\" table."
   ]
  },
  {
   "cell_type": "markdown",
   "id": "787f9678-4294-4032-a3be-b3abfb4dbede",
   "metadata": {},
   "source": [
    "TRUNCATE: This command is used to remove all data from an existing table while preserving the structure of the table. "
   ]
  },
  {
   "cell_type": "code",
   "execution_count": null,
   "id": "8ef3e0d1-3d40-4daa-a93e-3bcab14cbdbe",
   "metadata": {},
   "outputs": [],
   "source": [
    "TRUNCATE TABLE customers;\n",
    "\n",
    "#This SQL statement removes all rows from the \"customers\" table but leaves the table structure intact."
   ]
  },
  {
   "cell_type": "markdown",
   "id": "e3ea2409-f664-45fe-807a-1b1052050004",
   "metadata": {},
   "source": [
    "Q3. What is DML? Explain INSERT, UPDATE, and DELETE with an example."
   ]
  },
  {
   "cell_type": "markdown",
   "id": "daed4ecb-7138-4a76-9e8a-e206eef3b5f6",
   "metadata": {},
   "source": [
    "DML stands for Data Manipulation Language, and it is a subset of SQL (Structured Query Language) used to manipulate data stored in a database. The three main DML commands are INSERT, UPDATE, and DELETE."
   ]
  },
  {
   "cell_type": "code",
   "execution_count": null,
   "id": "48108587-ad6e-4ec9-a1e5-1b2ef9e3e271",
   "metadata": {},
   "outputs": [],
   "source": [
    "INSERT INTO customers (customer_id, customer_name, customer_email, customer_phone)\n",
    "VALUES (1, 'John Doe', 'johndoe@example.com', '555-1234');"
   ]
  },
  {
   "cell_type": "markdown",
   "id": "93d1245d-8761-4e72-9f48-fcf24aab96e8",
   "metadata": {},
   "source": [
    "This SQL statement inserts a new row into the \"customers\" table with the values 1, 'John Doe', 'johndoe@example.com', and '555-1234' for the columns customer_id, customer_name, customer_email, and customer_phone, respectively."
   ]
  },
  {
   "cell_type": "markdown",
   "id": "1e0fa4ab-c5b7-4e78-b2c7-c2900bfeaf9d",
   "metadata": {},
   "source": [
    "UPDATE: This command is used to modify existing data in a table in a database."
   ]
  },
  {
   "cell_type": "code",
   "execution_count": null,
   "id": "ee4fa827-ff43-4dfa-a7f8-c6f8696b6b7f",
   "metadata": {},
   "outputs": [],
   "source": [
    "UPDATE customers\n",
    "SET customer_email = 'jdoe@example.com', customer_phone = '555-5678'\n",
    "WHERE customer_id = 1;"
   ]
  },
  {
   "cell_type": "markdown",
   "id": "6fdbb140-f31d-494f-95af-4eeb9840b453",
   "metadata": {},
   "source": [
    "This SQL statement updates the \"customers\" table by changing the values of the customer_email and customer_phone columns for the row where customer_id is equal to 1."
   ]
  },
  {
   "cell_type": "markdown",
   "id": "ded4a055-0d76-43c3-bd46-09c4f48612fa",
   "metadata": {},
   "source": [
    "DELETE: This command is used to remove data from a table in a database."
   ]
  },
  {
   "cell_type": "code",
   "execution_count": null,
   "id": "96ace697-7380-4fd2-b086-b1bf0d58274d",
   "metadata": {},
   "outputs": [],
   "source": [
    "DELETE FROM customers\n",
    "WHERE customer_id = 1;"
   ]
  },
  {
   "cell_type": "markdown",
   "id": "3d30f4bd-8e8d-4cc0-9eb1-22417d612c13",
   "metadata": {},
   "source": [
    "This SQL statement removes the row from the \"customers\" table where customer_id is equal to 1."
   ]
  },
  {
   "cell_type": "markdown",
   "id": "73284a51-bcd3-44be-929e-a48ea23c8b84",
   "metadata": {},
   "source": [
    "Q4. What is DQL? Explain SELECT with an example."
   ]
  },
  {
   "cell_type": "markdown",
   "id": "a8b5fc98-48f1-4117-b859-64611d487738",
   "metadata": {},
   "source": [
    "DQL stands for Data Query Language, and it is a subset of SQL (Structured Query Language) used to query and retrieve data from a database. The main DQL command is SELECT.\n",
    "\n",
    "SELECT is used to select one or more columns from a table in a database, and it can also filter the results based on one or more conditions. Here is an example of using SELECT to retrieve data from a table"
   ]
  },
  {
   "cell_type": "code",
   "execution_count": null,
   "id": "e8de2064-0656-48b6-bb07-54406b39870d",
   "metadata": {},
   "outputs": [],
   "source": [
    "SELECT customer_name, customer_email, customer_phone\n",
    "FROM customers\n",
    "WHERE customer_id = 1;"
   ]
  },
  {
   "cell_type": "markdown",
   "id": "3fbd896e-8216-4ff6-82c4-f8ff00486a5c",
   "metadata": {},
   "source": [
    "This SQL statement selects the columns customer_name, customer_email, and customer_phone from the \"customers\" table where the value of the customer_id column is equal to 1."
   ]
  },
  {
   "cell_type": "markdown",
   "id": "4fa973a4-f05e-40bb-a5eb-4db62bfac2e2",
   "metadata": {},
   "source": [
    "This SQL statement selects the columns customer_name, customer_email, and customer_phone from the \"customers\" table where the value of the customer_id column is equal to 1."
   ]
  },
  {
   "cell_type": "code",
   "execution_count": null,
   "id": "edd272e0-289e-48c6-bf5e-623987dba304",
   "metadata": {},
   "outputs": [],
   "source": [
    "SELECT *\n",
    "FROM customers;\n",
    "\n",
    "#This SQL statement returns the number of rows in the \"customers\" table."
   ]
  },
  {
   "cell_type": "markdown",
   "id": "df327d2a-7e81-4f5c-a724-8a4b6ba09590",
   "metadata": {},
   "source": [
    "SELECT can also be used to perform aggregate functions on columns, such as counting, summing, or averaging"
   ]
  },
  {
   "cell_type": "code",
   "execution_count": null,
   "id": "59e41908-d20d-4130-9f59-131001e2f71d",
   "metadata": {},
   "outputs": [],
   "source": [
    "SELECT COUNT(*)\n",
    "FROM customers;\n",
    "\n",
    "#This SQL statement returns the number of rows in the \"customers\" table."
   ]
  },
  {
   "cell_type": "markdown",
   "id": "102f6941-da55-4b0e-844c-c8184f87b6d2",
   "metadata": {},
   "source": [
    "Q5. Explain Primary Key and Foreign Key."
   ]
  },
  {
   "cell_type": "markdown",
   "id": "dec1f50a-993e-4a6e-aa90-5af42c7ac181",
   "metadata": {},
   "source": [
    "In database management systems, a primary key is a unique identifier for a table or relation. It is a column or group of columns that uniquely identifies each row in a table, and it is used to enforce data integrity, help maintain database consistency, and facilitate relationships between tables.\n",
    "\n",
    "A primary key can be a single column or a combination of columns, and it cannot contain NULL values. By default, most relational database management systems automatically create a unique index on the primary key column or columns to improve query performance.\n",
    "\n",
    "For example, in a table of customer data, a primary key might be the customer ID column. Each row in the table would have a unique value in the customer ID column, allowing the system to easily identify and retrieve specific customer records.\n",
    "\n",
    "On the other hand, a foreign key is a column or set of columns in one table that refers to the primary key of another table. It is used to establish relationships between tables and ensure referential integrity, which means that values in the foreign key column must correspond to values in the primary key column of the related table.\n",
    "\n",
    "For example, in a customer order database, the \"orders\" table might have a foreign key column \"customer_id\" that references the primary key \"customer_id\" column in the \"customers\" table. This would allow the system to link each order to the customer who placed it."
   ]
  },
  {
   "cell_type": "markdown",
   "id": "a06cc7a2-96c4-4528-a56f-4309840692c5",
   "metadata": {},
   "source": [
    "Q6. Write a python code to connect MySQL to python. Explain the cursor() and execute() method."
   ]
  },
  {
   "cell_type": "code",
   "execution_count": null,
   "id": "cefbffd5-d4f4-46d0-bb2e-ed7c5927f5a7",
   "metadata": {},
   "outputs": [],
   "source": [
    "import mysql.connector\n",
    "\n",
    "# Establish a connection to the database\n",
    "cnx = mysql.connector.connect(user='your_username', password='your_password',\n",
    "                              host='your_host', database='your_database')\n",
    "\n",
    "# Create a cursor object to execute SQL queries\n",
    "cursor = cnx.cursor()\n",
    "\n",
    "# Execute an SQL query\n",
    "query = \"SELECT * FROM your_table\"\n",
    "cursor.execute(query)\n",
    "\n",
    "# Fetch the results of the query\n",
    "results = cursor.fetchall()\n",
    "\n",
    "# Print the results\n",
    "for row in results:\n",
    "    print(row)\n",
    "\n",
    "# Close the cursor and connection\n",
    "cursor.close()\n",
    "cnx.close()"
   ]
  },
  {
   "cell_type": "markdown",
   "id": "60027c1d-2e86-4a5e-88cc-85010e1c6793",
   "metadata": {},
   "source": [
    "The cursor() method is used to create a cursor object, which allows you to execute SQL queries and fetch the results. The execute() method is used to execute an SQL query on the database. The query can be passed to the execute() method as a string."
   ]
  },
  {
   "cell_type": "markdown",
   "id": "daa8ba67-82bc-496a-94a3-2e2e7c08a760",
   "metadata": {},
   "source": [
    "Q7. Give the order of execution of SQL clauses in an SQL query."
   ]
  },
  {
   "cell_type": "markdown",
   "id": "12f91fc0-94c1-4c9a-8af4-59d08e765607",
   "metadata": {},
   "source": [
    "The order of execution of SQL clauses in an SQL query is as follows:\n",
    "\n",
    "1. FROM clause: This clause specifies the table or tables from which the data will be selected.\n",
    "\n",
    "2. WHERE clause: This clause specifies the conditions that the data must meet in order to be selected. Only rows that satisfy the conditions in the WHERE clause will be selected.\n",
    "\n",
    "3. GROUP BY clause: This clause groups the selected rows based on one or more columns, and allows you to perform aggregate functions (like COUNT, SUM, AVG, etc.) on the groups.\n",
    "\n",
    "4. HAVING clause: This clause allows you to filter the groups created by the GROUP BY clause based on a condition. Only groups that satisfy the condition in the HAVING clause will be returned.\n",
    "\n",
    "5. SELECT clause: This clause specifies the columns that should be selected from the table or tables.\n",
    "\n",
    "6. ORDER BY clause: This clause orders the selected rows based on one or more columns, either in ascending or descending order.\n",
    "\n",
    "7. LIMIT clause: This clause limits the number of rows that are returned by the query.\n",
    "\n",
    "It's important to note that not all of these clauses are required in every SQL query. The SELECT clause is the only required clause, and the other clauses are used to further refine and customize the results of the query."
   ]
  },
  {
   "cell_type": "code",
   "execution_count": null,
   "id": "8e3e19ad-f424-4b70-ade3-720aecdbbeb3",
   "metadata": {},
   "outputs": [],
   "source": []
  }
 ],
 "metadata": {
  "kernelspec": {
   "display_name": "Python 3 (ipykernel)",
   "language": "python",
   "name": "python3"
  },
  "language_info": {
   "codemirror_mode": {
    "name": "ipython",
    "version": 3
   },
   "file_extension": ".py",
   "mimetype": "text/x-python",
   "name": "python",
   "nbconvert_exporter": "python",
   "pygments_lexer": "ipython3",
   "version": "3.10.8"
  }
 },
 "nbformat": 4,
 "nbformat_minor": 5
}
