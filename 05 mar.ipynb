{
 "cells": [
  {
   "cell_type": "markdown",
   "id": "be4af6ab-702a-440e-a8fa-578fd925257a",
   "metadata": {},
   "source": [
    "Q1. How can you create a Bokeh plot using Python code?"
   ]
  },
  {
   "cell_type": "markdown",
   "id": "b2afa468-e320-4b25-b971-272d8c8138ec",
   "metadata": {},
   "source": [
    "To create a Bokeh plot using Python code, you can follow these general steps:\n",
    "\n",
    "Import the necessary modules: You'll need to import the bokeh.plotting module, which provides the figure function for creating a new plot, and optionally other modules for data manipulation, such as numpy or pandas.\n",
    "\n",
    "Create a new plot: Use the figure function to create a new plot object, specifying the size, title, and other visual properties.\n",
    "\n",
    "Add data to the plot: Use the various glyphs functions provided by Bokeh (such as circle, line, rect, etc.) to add visual elements to the plot, such as points, lines, and rectangles.\n",
    "\n",
    "Customize the plot: Use various methods provided by the plot object to customize the plot, such as setting axis labels, legends, and tooltips.\n",
    "\n",
    "Show or save the plot: Finally, use the show function to display the plot in a web browser or use the save function to save the plot to a file."
   ]
  },
  {
   "cell_type": "code",
   "execution_count": 6,
   "id": "1bd14eb3-de4f-44a0-908e-6aeba7c55764",
   "metadata": {},
   "outputs": [],
   "source": [
    "import numpy as np\n",
    "from bokeh.plotting import figure, show\n",
    "\n",
    "x = np.linspace(0,10,20)\n",
    "y = np.sin(x)\n",
    "\n",
    "p = figure(title = 'sin wave', x_axis_label = 'X', y_axis_label = 'Y')\n",
    "\n",
    "p.circle(x,y, size = 15, color = 'navy', alpha = 0.5)\n",
    "show(p)"
   ]
  },
  {
   "cell_type": "markdown",
   "id": "2b44803c-ef14-460c-b484-a20c8ff928d7",
   "metadata": {},
   "source": [
    "Q2. What are glyphs in Bokeh, and how can you add them to a Bokeh plot? Explain with an example."
   ]
  },
  {
   "cell_type": "markdown",
   "id": "ee9ab4a5-8b26-485f-8b35-a82023a8b0a3",
   "metadata": {},
   "source": [
    "In Bokeh, glyphs are the visual elements that make up the plot. Glyphs can represent various types of data, such as points, lines, bars, and patches. Bokeh provides several different types of glyphs that you can add to a plot, including circle, line, rect, patch, and many others. Each glyph type has a set of properties that you can customize to control its appearance, such as its size, color, and transparency.\n",
    "\n",
    "To add a glyph to a Bokeh plot, you first need to create a figure object using the bokeh.plotting module. Then, you can call one of the glyph functions (such as circle, line, rect, etc.) on the figure object, passing in the data and any additional properties that you want to customize. Finally, you can display the plot using the show function.\n",
    "\n",
    "consider above example as a circle glyphs."
   ]
  },
  {
   "cell_type": "markdown",
   "id": "c36ff106-d1ce-4807-a0ee-4dcbae002f4a",
   "metadata": {},
   "source": [
    "Q3. How can you customize the appearance of a Bokeh plot, including the axes, title, and legend?"
   ]
  },
  {
   "cell_type": "markdown",
   "id": "7c074aef-1677-4fb6-b9c8-f65547bb052d",
   "metadata": {},
   "source": [
    "Customizing the Axes:\n",
    "To customize the axis labels, use the xaxis and yaxis attributes of the figure object and set the axis_label property to the desired label text. For example, to set the label for the x-axis:"
   ]
  },
  {
   "cell_type": "code",
   "execution_count": null,
   "id": "e32a3269-2b14-46e4-833c-865713e01e90",
   "metadata": {},
   "outputs": [],
   "source": [
    "plot.xaxis.axis_label = \"X-axis Label\""
   ]
  },
  {
   "cell_type": "markdown",
   "id": "70a8232f-43e0-4193-9396-768b80f6c1f6",
   "metadata": {},
   "source": [
    "To customize the tick marks on an axis, use the ticker property of the Axis class. This allows you to control the placement, formatting, and other properties of the tick marks. For example, to set the number of ticks on the x-axis:"
   ]
  },
  {
   "cell_type": "code",
   "execution_count": null,
   "id": "364c49ac-388b-42cc-add8-8011347d6fb2",
   "metadata": {},
   "outputs": [],
   "source": [
    "plot.xaxis.ticker = SingleIntervalTicker(interval=1)"
   ]
  },
  {
   "cell_type": "markdown",
   "id": "ec1c2aa7-3bf9-4952-8199-048ed2ad5a4a",
   "metadata": {},
   "source": [
    "Customizing the Title:\n",
    "To set the title of a plot, use the title attribute of the Figure class. For example:"
   ]
  },
  {
   "cell_type": "code",
   "execution_count": null,
   "id": "248d4f32-19c7-4791-98c2-54ed6bbf0a2b",
   "metadata": {},
   "outputs": [],
   "source": [
    "plot.title.text = \"My Plot Title\""
   ]
  },
  {
   "cell_type": "markdown",
   "id": "9481f845-5186-4385-8b88-9d3e66578ffc",
   "metadata": {},
   "source": [
    "To customize the font size, font family, and other properties of the title, use the title property of the Text class. For example:"
   ]
  },
  {
   "cell_type": "code",
   "execution_count": null,
   "id": "1cb64c73-ea4d-45ca-8e6a-7f28cf37d5d6",
   "metadata": {},
   "outputs": [],
   "source": [
    "plot.title.text_font_size = \"16pt\"\n",
    "plot.title.text_font_style = \"bold\""
   ]
  },
  {
   "cell_type": "markdown",
   "id": "9dca22ca-9e17-4887-92ad-4ad35d152001",
   "metadata": {},
   "source": [
    "Customizing the Legend:\n",
    "To add a legend to a plot, create a Legend object and add it to the figure using the add_layout() method. For example:"
   ]
  },
  {
   "cell_type": "code",
   "execution_count": null,
   "id": "aa130ccd-4bf4-4935-895d-9fb75d3955c7",
   "metadata": {},
   "outputs": [],
   "source": [
    "from bokeh.models import Legend\n",
    "\n",
    "legend = Legend(items=[(\"Line 1\", [line1]), (\"Line 2\", [line2])])\n",
    "plot.add_layout(legend, 'right')"
   ]
  },
  {
   "cell_type": "code",
   "execution_count": null,
   "id": "2434cde6-8a6c-46d2-8060-c3c5af734c03",
   "metadata": {},
   "outputs": [],
   "source": []
  },
  {
   "cell_type": "code",
   "execution_count": null,
   "id": "4a47db2a-0bd3-4849-9b07-973ea1976a5f",
   "metadata": {},
   "outputs": [],
   "source": []
  },
  {
   "cell_type": "markdown",
   "id": "d08f7aa6-d615-465f-be78-428a066a8cf8",
   "metadata": {},
   "source": [
    "Q4. What is a Bokeh server, and how can you use it to create interactive plots that can be updated in\n",
    "real time?"
   ]
  },
  {
   "cell_type": "markdown",
   "id": "65f8e040-2e52-4033-9160-0250bfd19e82",
   "metadata": {},
   "source": [
    "Bokeh is a Python library for creating interactive visualizations for web browsers. Bokeh provides a server component that allows you to create and deploy web applications with interactive visualizations.\n",
    "\n",
    "The Bokeh server is a Python process that can create and update Bokeh plots in real-time. It provides a way to create and publish interactive visualizations on the web, without the need for writing HTML, CSS, or JavaScript code.\n",
    "\n",
    "To use the Bokeh server, you need to define a Python script that creates a Bokeh plot and runs a Bokeh server application. The script can define a function that updates the plot based on user input or other data sources.\n",
    "\n",
    "Here is an example script that creates a simple Bokeh plot and a Bokeh server application that updates the plot based on a slider widget:"
   ]
  },
  {
   "cell_type": "code",
   "execution_count": 2,
   "id": "633a6f30-649e-4282-8e7d-d491da94196c",
   "metadata": {},
   "outputs": [],
   "source": [
    "from bokeh.io import curdoc\n",
    "from bokeh.layouts import column\n",
    "from bokeh.models import Slider\n",
    "from bokeh.plotting import figure\n",
    "\n",
    "# create a figure with a line plot\n",
    "fig = figure(title=\"Interactive Plot\")\n",
    "x = [1, 2, 3, 4, 5]\n",
    "y = [6, 7, 2, 4, 5]\n",
    "line = fig.line(x, y)\n",
    "\n",
    "# define a function that updates the plot\n",
    "def update_plot(attr, old, new):\n",
    "    # get the current value of the slider\n",
    "    n = slider.value\n",
    "    # update the y-values of the line plot\n",
    "    line.data_source.data['y'] = [i**n for i in x]\n",
    "\n",
    "# create a slider widget\n",
    "slider = Slider(title=\"Power\", start=0, end=5, step=0.1, value=1)\n",
    "slider.on_change('value', update_plot)\n",
    "\n",
    "# create a layout with the slider and the figure\n",
    "layout = column(slider, fig)\n",
    "\n",
    "# add the layout to the current document\n",
    "curdoc().add_root(layout)"
   ]
  },
  {
   "cell_type": "markdown",
   "id": "c6d36837-042a-49d6-8d6c-0b3f3ad40e51",
   "metadata": {},
   "source": [
    "Q5. How can you embed a Bokeh plot into a web page or dashboard using Flask or Django?"
   ]
  },
  {
   "cell_type": "markdown",
   "id": "1ed9b357-92ff-481a-bea9-ea1db81c3957",
   "metadata": {},
   "source": [
    "Bokeh provides multiple options for embedding plots into web pages or dashboards using Flask or Django. Here are some steps you can follow to embed a Bokeh plot into a web page or dashboard using these frameworks:\n",
    "\n",
    "Flask\n",
    "Import the necessary libraries, including Flask, Bokeh plotting tools, and your data source."
   ]
  },
  {
   "cell_type": "code",
   "execution_count": null,
   "id": "c45ca0b5-2ea9-46e6-8730-c160dc89c8ae",
   "metadata": {},
   "outputs": [],
   "source": [
    "from flask import Flask, render_template\n",
    "from bokeh.plotting import figure, output_file, show\n",
    "from bokeh.embed import components"
   ]
  },
  {
   "cell_type": "code",
   "execution_count": null,
   "id": "c9c1996d-01b7-4bc0-bbf4-fe7f6cf053af",
   "metadata": {},
   "outputs": [],
   "source": [
    "#Create a Flask application and define a route for your web page.\n",
    "app = Flask(__name__)\n",
    "\n",
    "@app.route('/')\n",
    "def index():\n",
    "    return render_template('index.html')\n",
    "\n",
    "#create a Bokeh plot and convert it into JavaScript and HTML components using the components function.\n",
    "plot = figure()\n",
    "plot.line('x', 'y', source=source)\n",
    "script, div = components(plot)\n",
    "\n",
    "#Create a Jinja2 template for your web page and insert the JavaScript and HTML components using the safe filter.\n",
    "if __name__ == '__main__':\n",
    "    app.run(debug=True)\n",
    "    \n",
    "#This will start your Flask application and embed the Bokeh plot into the index.html template."
   ]
  },
  {
   "cell_type": "markdown",
   "id": "c221cff6-a5ba-4ee5-99f5-134dcfb34f77",
   "metadata": {},
   "source": [
    "Django\n",
    "Import the necessary libraries, including Django, Bokeh plotting tools, and your data source.\n"
   ]
  },
  {
   "cell_type": "code",
   "execution_count": null,
   "id": "c49fcd57-c5ea-4c45-9a5c-0155cb0d872c",
   "metadata": {},
   "outputs": [],
   "source": [
    "from django.shortcuts import render\n",
    "from bokeh.plotting import figure, output_file, show\n",
    "from bokeh.embed import components\n",
    "\n",
    "#Define a view function for your web page and render a template.\n",
    "def index(request):\n",
    "    return render(request, 'index.html')\n",
    "\n",
    "#Create a Bokeh plot and convert it into JavaScript and HTML components using the components function.\n",
    "plot = figure()\n",
    "plot.line('x', 'y', source=source)\n",
    "script, div = components(plot)\n",
    "\n",
    "#Create a Django template for your web page and insert the JavaScript and HTML components using the safe filter\n",
    "<html>\n",
    "  <head>\n",
    "    <title>Bokeh Plot</title>\n",
    "    {{ script|safe }}\n",
    "  </head>\n",
    "  <body>\n",
    "    {{ div|safe }}\n",
    "  </body>\n",
    "</html>\n",
    "\n",
    "#Define a URL pattern for your view function in the urls.py file.\n",
    "from django.urls import path\n",
    "from .views import index\n",
    "\n",
    "urlpatterns = [\n",
    "    path('', index, name='index'),\n",
    "]\n",
    "\n",
    "\n",
    "#Run your Django application using the runserver command.\n",
    "python manage.py runserver\n",
    "\n"
   ]
  }
 ],
 "metadata": {
  "kernelspec": {
   "display_name": "Python 3 (ipykernel)",
   "language": "python",
   "name": "python3"
  },
  "language_info": {
   "codemirror_mode": {
    "name": "ipython",
    "version": 3
   },
   "file_extension": ".py",
   "mimetype": "text/x-python",
   "name": "python",
   "nbconvert_exporter": "python",
   "pygments_lexer": "ipython3",
   "version": "3.10.8"
  }
 },
 "nbformat": 4,
 "nbformat_minor": 5
}
