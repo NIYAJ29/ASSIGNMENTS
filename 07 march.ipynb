{
 "cells": [
  {
   "cell_type": "markdown",
   "id": "b9d9bd78-d6ba-42d2-89a7-5813d7d1d49d",
   "metadata": {},
   "source": [
    "Q1. What are the three measures of central tendency?"
   ]
  },
  {
   "cell_type": "markdown",
   "id": "e51af670-add4-41fb-a79a-8d966aaa7b7e",
   "metadata": {},
   "source": [
    "Mean ,Meadian and mode are the three measure of central tendency."
   ]
  },
  {
   "cell_type": "markdown",
   "id": "573b104f-514d-4ceb-b08e-380fc63629d3",
   "metadata": {},
   "source": [
    "Q2. What is the difference between the mean, median, and mode? How are they used to measure the\n",
    "central tendency of a dataset?"
   ]
  },
  {
   "cell_type": "markdown",
   "id": "b2dd51fc-aace-4105-a7e0-22288c9a8bb0",
   "metadata": {},
   "source": [
    "Mean: The mean is the average of a dataset. It is calculated by summing all the values in the dataset and dividing by the number of values. The mean is sensitive to extreme values or outliers that can skew the distribution of the dataset.\n",
    "\n",
    "Median: The median is the middle value in a dataset when the values are arranged in order. If there are an even number of values, the median is the average of the two middle values. The median is less sensitive to extreme values than the mean and is a better measure of central tendency for datasets with outliers.\n",
    "\n",
    "Mode: The mode is the value in a dataset that occurs most frequently. A dataset can have more than one mode, or no mode at all. The mode is useful when trying to identify the most common value in a dataset.\n",
    "\n",
    "The choice of which measure of central tendency to use depends on the nature of the data and the purpose of the analysis. For normally distributed data without outliers, the mean is usually the most appropriate measure of central tendency. If the data is skewed or has outliers, the median may be a better choice. The mode is useful for identifying the most common value in a dataset. In some cases, all three measures may be reported to provide a complete picture of the central tendency of the dataset."
   ]
  },
  {
   "cell_type": "markdown",
   "id": "f50b64d0-a614-4682-9e58-bc50216a8c36",
   "metadata": {},
   "source": [
    "Q3. Measure the three measures of central tendency for the given height data:\n",
    "[178,177,176,177,178.2,178,175,179,180,175,178.9,176.2,177,172.5,178,176.5]"
   ]
  },
  {
   "cell_type": "code",
   "execution_count": 3,
   "id": "de74d471-7f97-46d6-a9a0-6dc1461bca59",
   "metadata": {},
   "outputs": [
    {
     "data": {
      "text/plain": [
       "177.01875"
      ]
     },
     "execution_count": 3,
     "metadata": {},
     "output_type": "execute_result"
    }
   ],
   "source": [
    "data = [178,177,176,177,178.2,178,175,179,180,175,178.9,176.2,177,172.5,178,176.5]\n",
    "import numpy as np\n",
    "\n",
    "np.mean(data)"
   ]
  },
  {
   "cell_type": "code",
   "execution_count": 4,
   "id": "80bcd160-09e9-430c-8dd0-76ceeaffd041",
   "metadata": {},
   "outputs": [
    {
     "data": {
      "text/plain": [
       "177.0"
      ]
     },
     "execution_count": 4,
     "metadata": {},
     "output_type": "execute_result"
    }
   ],
   "source": [
    "np.median(data)"
   ]
  },
  {
   "cell_type": "code",
   "execution_count": 6,
   "id": "12c3a012-fadd-46f8-a289-1d49b4473070",
   "metadata": {},
   "outputs": [
    {
     "name": "stderr",
     "output_type": "stream",
     "text": [
      "/tmp/ipykernel_70/320392506.py:2: FutureWarning: Unlike other reduction functions (e.g. `skew`, `kurtosis`), the default behavior of `mode` typically preserves the axis it acts along. In SciPy 1.11.0, this behavior will change: the default value of `keepdims` will become False, the `axis` over which the statistic is taken will be eliminated, and the value None will no longer be accepted. Set `keepdims` to True or False to avoid this warning.\n",
      "  stats.mode(data)\n"
     ]
    },
    {
     "data": {
      "text/plain": [
       "ModeResult(mode=array([177.]), count=array([3]))"
      ]
     },
     "execution_count": 6,
     "metadata": {},
     "output_type": "execute_result"
    }
   ],
   "source": [
    "from scipy import stats\n",
    "stats.mode(data)\n"
   ]
  },
  {
   "cell_type": "markdown",
   "id": "996a2306-7ff8-448a-baec-4f8aa10d0f2f",
   "metadata": {},
   "source": [
    "Q4. Find the standard deviation for the given data:\n",
    "[178,177,176,177,178.2,178,175,179,180,175,178.9,176.2,177,172.5,178,176.5]"
   ]
  },
  {
   "cell_type": "code",
   "execution_count": 7,
   "id": "0ac76dfc-277b-43cb-9677-ece49ca5378b",
   "metadata": {},
   "outputs": [
    {
     "data": {
      "text/plain": [
       "1.7885814036548633"
      ]
     },
     "execution_count": 7,
     "metadata": {},
     "output_type": "execute_result"
    }
   ],
   "source": [
    "data = [178,177,176,177,178.2,178,175,179,180,175,178.9,176.2,177,172.5,178,176.5]\n",
    "\n",
    "np.std(data)"
   ]
  },
  {
   "cell_type": "markdown",
   "id": "488586fb-fa15-4888-86bc-80a060d57544",
   "metadata": {},
   "source": [
    "Q5. How are measures of dispersion such as range, variance, and standard deviation used to describe\n",
    "the spread of a dataset? Provide an example."
   ]
  },
  {
   "cell_type": "markdown",
   "id": "73e41ff0-74cb-41d5-88e1-5c9f61bb020b",
   "metadata": {},
   "source": [
    "Measures of dispersion such as range, variance, and standard deviation are used to describe the variability or spread of a dataset. They indicate how much the data points differ from the central tendency, such as the mean or median.\n",
    "\n",
    "Range: The range of a dataset is the difference between the highest and the lowest values in the dataset. It provides a simple way to understand the spread of the data, but it is sensitive to outliers. For example, the range of the following dataset {2, 4, 6, 8, 10} is 10-2=8.\n",
    "\n",
    "Variance: The variance of a dataset measures how far each value in the dataset is from the mean of the dataset. It is calculated by taking the average of the squared differences between each value and the mean. A high variance indicates a wide spread of data points, while a low variance indicates a narrow spread of data points. For example, the variance of the following dataset {2, 4, 6, 8, 10} is ((2-6)^2 + (4-6)^2 + (6-6)^2 + (8-6)^2 + (10-6)^2)/5 = 8.\n",
    "\n",
    "Standard deviation: The standard deviation of a dataset is the square root of its variance. It measures the spread of the data points around the mean and is expressed in the same units as the original data. A high standard deviation indicates a wide spread of data points, while a low standard deviation indicates a narrow spread of data points. For example, the standard deviation of the following dataset {2, 4, 6, 8, 10} is the square root of the variance, which is 2.83.\n",
    "\n",
    "For example, consider the heights of students in a class: {160 cm, 165 cm, 170 cm, 175 cm, 180 cm}. The range of heights is 20 cm (180-160), which indicates a wide spread of heights. The variance of heights is ((160-170)^2 + (165-170)^2 + (170-170)^2 + (175-170)^2 + (180-170)^2)/5 = 75, which indicates a wide spread of heights. The standard deviation of heights is the square root of the variance, which is approximately 8.66 cm, indicating a wide spread of heights around the mean height of 170 cm."
   ]
  },
  {
   "cell_type": "markdown",
   "id": "b911de1b-fc9c-4249-905b-5edf04b5a9ab",
   "metadata": {},
   "source": [
    "Q6. What is a Venn diagram?"
   ]
  },
  {
   "cell_type": "markdown",
   "id": "d18ee493-bb4c-4a81-b3fc-d482ed47e0cf",
   "metadata": {},
   "source": [
    "A Venn diagram is a graphical representation of sets or collections of objects or concepts. It is named after John Venn, a British logician, and philosopher. The diagram consists of overlapping circles or other closed shapes, where each circle represents a set and the overlap represents the intersection of the sets.\n",
    "\n",
    "Venn diagrams are commonly used to illustrate relationships between different groups or sets of items. They can be used to visually represent the similarities and differences between groups, as well as to help organize and classify information. For example, a Venn diagram can be used to compare and contrast the characteristics of two or more products, or to illustrate the relationships between different fields of study.\n",
    "\n",
    "The size of each circle in a Venn diagram can represent the relative size of the sets, while the degree of overlap between the circles can represent the degree of similarity or overlap between the sets. Venn diagrams can also be used to show complements, unions, and subsets of sets.\n",
    "\n",
    "Overall, Venn diagrams are a useful tool for visually representing complex relationships between different groups or sets of data in a clear and concise manner."
   ]
  },
  {
   "cell_type": "markdown",
   "id": "a3c6f74d-6d6b-4279-9dac-0bdb14e0949d",
   "metadata": {},
   "source": [
    "Q7. For the two given sets A = (2,3,4,5,6,7) & B = (0,2,6,8,10). Find:\n",
    "(i) A intesection B\n",
    "(ii) A ⋃ B"
   ]
  },
  {
   "cell_type": "markdown",
   "id": "78c4102b-1421-482f-ac97-eb3ab330481c",
   "metadata": {},
   "source": [
    "A intersection b = (2,6)\n",
    "A ⋃ B = (0,2,3,4,5,6,7,8,10)"
   ]
  },
  {
   "cell_type": "markdown",
   "id": "4bc05de7-c91c-4108-b524-22559373ef24",
   "metadata": {},
   "source": [
    "Q8. What do you understand about skewness in data?"
   ]
  },
  {
   "cell_type": "markdown",
   "id": "92703b06-d06a-4396-b371-56032604c9b2",
   "metadata": {},
   "source": [
    "Skewness is a measure of the asymmetry of a probability distribution, or in other words, it measures the degree to which the data is not evenly distributed around the mean. A distribution is said to be skewed if it is not symmetric around its mean.\n",
    "\n",
    "Skewness can be classified into three types:\n",
    "\n",
    "Positive skewness: A distribution is said to be positively skewed if it has a long tail to the right of the peak. In a positively skewed distribution, the majority of the data values are clustered around the lower end of the range, and there are a few extremely high values that pull the mean to the right.\n",
    "\n",
    "Negative skewness: A distribution is said to be negatively skewed if it has a long tail to the left of the peak. In a negatively skewed distribution, the majority of the data values are clustered around the higher end of the range, and there are a few extremely low values that pull the mean to the left.\n",
    "\n",
    "Zero skewness: A distribution is said to have zero skewness if it is perfectly symmetric around its mean, with equal numbers of data points on both sides of the mean.\n",
    "\n",
    "Skewness is important to consider because it can affect the interpretation of statistical analyses. For example, in a positively skewed distribution, the median may be a more appropriate measure of central tendency than the mean, as the mean is influenced by the extreme values. Similarly, in a negatively skewed distribution, the mean may be lower than the median, which can affect the interpretation of the data.\n",
    "\n",
    "Overall, understanding the skewness of a distribution can help in selecting appropriate statistical methods, making accurate predictions, and drawing meaningful conclusions from the data."
   ]
  },
  {
   "cell_type": "markdown",
   "id": "ffe27779-0627-45e5-ad56-6d777f50077e",
   "metadata": {},
   "source": [
    "Q9. If a data is right skewed then what will be the position of median with respect to mean?"
   ]
  },
  {
   "cell_type": "markdown",
   "id": "9f35a034-dbfd-4d5a-b768-20555361e6db",
   "metadata": {},
   "source": [
    "If the data is right skewed then medain will be on the left side of mean.If a dataset is right-skewed, the median will typically be less than the mean. This is because in a right-skewed distribution, the mean is pulled to the right by the long tail of high values, while the median is less affected by extreme values and tends to be closer to the center of the distribution."
   ]
  },
  {
   "cell_type": "markdown",
   "id": "71043d28-d937-4971-b3d0-b5e926dc1d00",
   "metadata": {},
   "source": [
    "Q10. Explain the difference between covariance and correlation. How are these measures used in\n",
    "statistical analysis?"
   ]
  },
  {
   "cell_type": "markdown",
   "id": "c5c13085-f6cd-4a02-b447-a669f9142153",
   "metadata": {},
   "source": [
    "Covariance is a measure of how two variables change together, where it measures the degree to which the values of one variable co-vary with the values of the other variable. A positive covariance indicates that the variables tend to move together in the same direction, while a negative covariance indicates that they tend to move in opposite directions. However, covariance by itself does not provide any information about the strength or direction of the relationship between the variables.\n",
    "\n",
    "Correlation, on the other hand, is a standardized measure of the relationship between two variables that takes values between -1 and 1. Correlation measures both the strength and direction of the linear relationship between the variables. A correlation of +1 indicates a perfect positive relationship, a correlation of 0 indicates no linear relationship, and a correlation of -1 indicates a perfect negative relationship.\n",
    "\n",
    "The main difference between covariance and correlation is that covariance is affected by the scale of the variables, while correlation is not. In other words, covariance is influenced by the units of measurement of the variables, while correlation is not. Therefore, correlation is a more useful measure of the strength and direction of the relationship between two variables, as it is not affected by the scale of the variables.\n",
    "\n",
    "Both covariance and correlation are important measures in statistical analysis, as they provide information about the relationship between two variables. Covariance can be used to identify the direction of the relationship between two variables, while correlation provides a more standardized measure of the strength of the relationship. Both measures can be used to assess the association between variables, and to determine whether this association is statistically significant. They are commonly used in fields such as finance, economics, and social sciences to identify trends and relationships in data."
   ]
  },
  {
   "cell_type": "markdown",
   "id": "ba71c146-dfab-41a9-b595-a8a12f0e4c6a",
   "metadata": {},
   "source": [
    "Q11. What is the formula for calculating the sample mean? Provide an example calculation for a\n",
    "dataset."
   ]
  },
  {
   "cell_type": "markdown",
   "id": "685c29ed-3f74-448f-9a1e-9ab1d2ddf844",
   "metadata": {},
   "source": [
    "$\\bar{x} = \\frac{1}{n}\\sum_{i=1}^{n} x_i$"
   ]
  },
  {
   "cell_type": "markdown",
   "id": "faab182d-cb83-497e-958b-edd55c632db6",
   "metadata": {},
   "source": [
    "Suppose we have the following dataset of 10 observations:\n",
    "\n",
    "5, 8, 12, 7, 6, 10, 9, 11, 4, 3\n",
    "\n",
    "To find the sample mean, we first sum up all the observations:\n",
    "\n",
    "$5 + 8 + 12 + 7 + 6 + 10 + 9 + 11 + 4 + 3 = 75$\n",
    "\n",
    "Next, we divide by the number of observations, which in this case is 10:\n",
    "\n",
    "$\\bar{x} = \\frac{75}{10} = 7.5$\n",
    "\n",
    "Therefore, the sample mean of this dataset is 7.5."
   ]
  },
  {
   "cell_type": "markdown",
   "id": "51afee91-04aa-49ce-9069-3c7e228b9e26",
   "metadata": {},
   "source": [
    "Q12. For a normal distribution data what is the relationship between its measure of central tendency?"
   ]
  },
  {
   "cell_type": "markdown",
   "id": "4c878b74-387b-4797-ac23-7871242519d3",
   "metadata": {},
   "source": [
    "For a normal distribution, the measures of central tendency, which are the mean, median, and mode, are all equal. This is because a normal distribution is symmetric around its mean, with half the observations falling on each side of the mean."
   ]
  },
  {
   "cell_type": "markdown",
   "id": "c1e56434-2379-46e2-bae1-12d8cbb6d9a4",
   "metadata": {},
   "source": [
    "Q13. How is covariance different from correlation?"
   ]
  },
  {
   "cell_type": "markdown",
   "id": "dafb2963-4dc8-4cc7-a487-cf04c369742e",
   "metadata": {},
   "source": [
    "Covariance and correlation are both measures of the relationship between two variables in a dataset, but they differ in several important ways:\n",
    "\n",
    "Range of values: Covariance can take on any value between negative infinity and positive infinity, while correlation ranges from -1 to +1.\n",
    "\n",
    "Units of measurement: Covariance is affected by the scale of the variables, while correlation is not. Therefore, correlation is a more useful measure of the strength and direction of the relationship between two variables.\n",
    "\n",
    "Interpretation: Covariance measures the direction of the relationship between two variables, while correlation measures the strength and direction of the relationship between two variables. In other words, covariance indicates whether the variables tend to move in the same direction or in opposite directions, while correlation tells us how closely the variables are related.\n",
    "\n",
    "Standardization: Correlation is a standardized version of covariance, where the covariance is divided by the product of the standard deviations of the two variables. This standardization makes it easier to compare the strength of the relationship between variables on different scales."
   ]
  },
  {
   "cell_type": "markdown",
   "id": "8f030e18-a0cf-491d-8331-bd314486d0b0",
   "metadata": {},
   "source": [
    "Q14. How do outliers affect measures of central tendency and dispersion? Provide an example."
   ]
  },
  {
   "cell_type": "markdown",
   "id": "19bc9a56-d1ca-4e72-b16a-d4df5dccb53d",
   "metadata": {},
   "source": [
    "Outliers are extreme values in a dataset that are significantly different from other observations. Outliers can have a significant impact on measures of central tendency and dispersion, such as the mean, median, mode, variance, and standard deviation.\n",
    "\n",
    "In terms of central tendency, outliers can have a large influence on the mean, as they can pull the mean towards their extreme values. For example, consider the following dataset:\n",
    "\n",
    "10, 12, 14, 16, 18, 20, 22, 24, 26, 100\n",
    "\n",
    "The mean of this dataset is 24.8. However, the outlier value of 100 is significantly higher than the other values, and it pulls the mean upwards. In this case, the mean is not a good measure of central tendency because it does not represent the typical value in the dataset. The median or mode might be more appropriate measures of central tendency in this case.\n",
    "\n",
    "In terms of dispersion, outliers can significantly affect the range, variance, and standard deviation of a dataset. The range, which is the difference between the maximum and minimum values in a dataset, can be skewed by outliers that are far from the other observations. The variance and standard deviation can also be influenced by outliers, as these measures are based on the distance of each observation from the mean. Outliers that are far from the mean can increase the variance and standard deviation, making the dataset appear more spread out than it actually is.\n",
    "\n",
    "For example, consider the following dataset:\n",
    "\n",
    "1, 2, 3, 4, 5, 6, 7, 8, 9, 100\n",
    "\n",
    "The range of this dataset is 99, which is dominated by the outlier value of 100. The variance and standard deviation are also much larger than they would be without the outlier, because the distance of each observation from the mean is increased by the outlier.\n",
    "\n",
    "In summary, outliers can have a significant impact on measures of central tendency and dispersion, and it is important to identify and address outliers when analyzing a dataset."
   ]
  },
  {
   "cell_type": "code",
   "execution_count": null,
   "id": "858a5c85-ac83-45f3-8b79-de04c292ee2d",
   "metadata": {},
   "outputs": [],
   "source": []
  }
 ],
 "metadata": {
  "kernelspec": {
   "display_name": "Python 3 (ipykernel)",
   "language": "python",
   "name": "python3"
  },
  "language_info": {
   "codemirror_mode": {
    "name": "ipython",
    "version": 3
   },
   "file_extension": ".py",
   "mimetype": "text/x-python",
   "name": "python",
   "nbconvert_exporter": "python",
   "pygments_lexer": "ipython3",
   "version": "3.10.8"
  }
 },
 "nbformat": 4,
 "nbformat_minor": 5
}
