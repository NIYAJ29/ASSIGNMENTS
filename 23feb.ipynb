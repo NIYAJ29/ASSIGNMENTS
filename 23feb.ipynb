{
 "cells": [
  {
   "cell_type": "markdown",
   "id": "b87bc2a6-7134-425b-baf2-ff123699d4b1",
   "metadata": {},
   "source": [
    "Q1. Create a Pandas Series that contains the following data: 4, 8, 15, 16, 23, and 42. Then, print the series."
   ]
  },
  {
   "cell_type": "code",
   "execution_count": 13,
   "id": "6d377f7f-7a83-4180-a3df-2b979cce83ed",
   "metadata": {},
   "outputs": [
    {
     "name": "stdout",
     "output_type": "stream",
     "text": [
      "int    [4, 8, 15, 16, 23, 42]\n",
      "dtype: object\n"
     ]
    }
   ],
   "source": [
    "import pandas as pd\n",
    "\n",
    "data = {'int' :[4, 8, 15, 16, 23, 42 ]}\n",
    "df = pd.Series(data)\n",
    "print(df)"
   ]
  },
  {
   "cell_type": "markdown",
   "id": "d1323160-8346-4b3f-8940-9c4cb7e6ebc5",
   "metadata": {},
   "source": [
    "Q2. Create a variable of list type containing 10 elements in it, and apply pandas.Series function on the\n",
    "variable print it."
   ]
  },
  {
   "cell_type": "code",
   "execution_count": 15,
   "id": "37e825a6-98d2-4811-a013-e4e2ae24d00b",
   "metadata": {},
   "outputs": [
    {
     "name": "stdout",
     "output_type": "stream",
     "text": [
      "0    1\n",
      "1    2\n",
      "2    3\n",
      "3    5\n",
      "4    6\n",
      "5    9\n",
      "6    8\n",
      "7    7\n",
      "8    1\n",
      "9    5\n",
      "dtype: int64\n"
     ]
    }
   ],
   "source": [
    "n_list = [1,2,3,5,6,9,8,7,1,5]\n",
    "\n",
    "nl = pd.Series(n_list)\n",
    "print(nl)"
   ]
  },
  {
   "cell_type": "markdown",
   "id": "6ba0f5bd-ab5b-4d2e-9fb2-629f09328c6c",
   "metadata": {},
   "source": [
    "Q3. Create a Pandas DataFrame that contains the following data:\n",
    "\n",
    "Then, print the DataFrame."
   ]
  },
  {
   "cell_type": "code",
   "execution_count": 17,
   "id": "b6f4df9a-20e4-43f5-9e83-8a5560f5c11f",
   "metadata": {},
   "outputs": [
    {
     "name": "stdout",
     "output_type": "stream",
     "text": [
      "     name  age     Sex\n",
      "0   Alice   25  female\n",
      "1     Bob   30    male\n",
      "2  Claire   27  female\n"
     ]
    }
   ],
   "source": [
    "data1 = {'name': ['Alice', 'Bob', 'Claire'], 'age': [25, 30, 27], 'Sex' : ['female', 'male', 'female']}\n",
    "\n",
    "lf = pd.DataFrame(data1)\n",
    "\n",
    "print(lf)"
   ]
  },
  {
   "cell_type": "markdown",
   "id": "ef0e0124-9253-4d4b-ab5f-e616b9f6dcda",
   "metadata": {},
   "source": [
    "Q4. What is ‘DataFrame’ in pandas and how is it different from pandas.series? Explain with an example."
   ]
  },
  {
   "cell_type": "markdown",
   "id": "bf20cdf3-f7d5-425d-9b97-8aeb84d43232",
   "metadata": {},
   "source": [
    "In pandas, a DataFrame is a two-dimensional tabular data structure that consists of rows and columns, similar to a spreadsheet or a SQL table. It is a primary data structure in Pandas and is used extensively for data analysis and manipulation tasks.\n",
    "\n",
    "A Pandas Series, on the other hand, is a one-dimensional labeled array capable of holding data of any type. It is essentially a single column of data, with an index that can be used to access individual elements."
   ]
  },
  {
   "cell_type": "code",
   "execution_count": 19,
   "id": "ae3d646e-4f41-461a-8378-9f86624f4adb",
   "metadata": {},
   "outputs": [
    {
     "name": "stdout",
     "output_type": "stream",
     "text": [
      "DataFrame:\n",
      "      name  age           city\n",
      "0   niyaj   25       New York\n",
      "1  muskan   20  San Francisco\n",
      "2   rayan    5        Seattle\n",
      "\n",
      "Age Series:\n",
      " 0    25\n",
      "1    20\n",
      "2     5\n",
      "Name: age, dtype: int64\n"
     ]
    }
   ],
   "source": [
    "import pandas as pd\n",
    "\n",
    "# create a list of dictionaries to represent data for a small dataset\n",
    "data = [{'name': 'niyaj', 'age': 25, 'city': 'New York'},\n",
    "        {'name': 'muskan', 'age': 20, 'city': 'San Francisco'},\n",
    "        {'name': 'rayan', 'age': 5, 'city': 'Seattle'}]\n",
    "\n",
    "# create a DataFrame from the list of dictionaries\n",
    "df = pd.DataFrame(data)\n",
    "\n",
    "# create a Series from the 'age' column of the DataFrame\n",
    "age_series = df['age']\n",
    "\n",
    "# print the DataFrame and the Series\n",
    "print('DataFrame:\\n', df)\n",
    "print('\\nAge Series:\\n', age_series)"
   ]
  },
  {
   "cell_type": "markdown",
   "id": "5ce87516-d94e-49c6-85b3-0a1723ff9442",
   "metadata": {},
   "source": [
    "Q5. What are some common functions you can use to manipulate data in a Pandas DataFrame? Can\n",
    "you give an example of when you might use one of these functions?"
   ]
  },
  {
   "cell_type": "markdown",
   "id": "0524b881-c3cc-42b5-ac2e-1ca36382af99",
   "metadata": {},
   "source": [
    "Pandas provides a wide range of functions that you can use to manipulate data in a DataFrame. Here are some common functions:\n",
    "\n",
    "1. head() and tail(): These functions are used to view the first or last few rows of a DataFrame. For example, df.head(10) will display the first 10 rows of the DataFrame df.\n",
    "\n",
    "2. describe(): This function is used to generate summary statistics for the numerical columns in a DataFrame. For example, df.describe() will display statistics such as mean, standard deviation, minimum, and maximum values for all numerical columns in the DataFrame df.\n",
    "\n",
    "3. drop(): This function is used to remove one or more columns or rows from a DataFrame. For example, df.drop(['column1', 'column2'], axis=1) will drop columns named 'column1' and 'column2' from the DataFrame df.\n",
    "\n",
    "4. fillna(): This function is used to fill missing values in a DataFrame with a specified value or method. For example, df.fillna(0) will replace all missing values in the DataFrame df with 0.\n",
    "\n",
    "5. groupby(): This function is used to group rows in a DataFrame based on one or more columns and perform aggregate functions on the resulting groups. For example, df.groupby('column1').mean() will group the rows in the DataFrame df by the values in 'column1' and calculate the mean of all numerical columns for each group.\n",
    "\n",
    "6. sort_values(): This function is used to sort the rows of a DataFrame based on one or more columns. For example, df.sort_values('column1', ascending=False) will sort the rows of the DataFrame df in descending order based on the values in 'column1'.\n",
    "\n",
    "you might use one of these functions is :\n",
    "1. when you are working with a large dataset and want to quickly view the first few rows using head(), or when you want to generate summary statistics for the numerical columns in the DataFrame using describe().\n",
    "2. you have missing values in a DataFrame and want to replace them using fillna(). You might also use groupby() to group rows by a certain column and perform calculations on the resulting groups, or sort_values() to sort the rows of a DataFrame based on a particular column to better understand trends or patterns in the data.\n"
   ]
  },
  {
   "cell_type": "markdown",
   "id": "e62f7bc4-47ec-4922-8c99-2df876160f92",
   "metadata": {},
   "source": [
    "Q6. Which of the following is mutable in nature Series, DataFrame, Panel?\n"
   ]
  },
  {
   "cell_type": "markdown",
   "id": "f9d02fc6-9b4f-4a01-b821-fed2bf0ca06e",
   "metadata": {},
   "source": [
    "A Series and a DataFrame are mutable in nature in Pandas, which means that their values can be changed after they have been created.\n",
    "\n",
    "A Series is a one-dimensional labeled array that can hold any data type, and it can be modified using its index labels. For example, you can modify the value of a specific element in a Series using the square bracket notation like my_series['label'] = new_value.\n",
    "\n",
    "A DataFrame is a two-dimensional tabular data structure that consists of rows and columns. You can modify the values in a DataFrame by accessing the elements using their column and row labels, and then assigning new values to them. For example, you can modify a specific element in a DataFrame using the square bracket notation like my_dataframe.loc[row_label, column_label] = new_value.\n",
    "\n",
    "A Panel, on the other hand, is a three-dimensional data structure in Pandas that is similar to a DataFrame, but with an additional axis. It has been deprecated in recent versions of Pandas in favor of using MultiIndex DataFrame objects."
   ]
  },
  {
   "cell_type": "markdown",
   "id": "24ab689d-5dd0-42b0-9db7-bac0ad15f73e",
   "metadata": {},
   "source": [
    "Q7. Create a DataFrame using multiple Series. Explain with an example."
   ]
  },
  {
   "cell_type": "code",
   "execution_count": 22,
   "id": "207820c6-899c-4869-9fdb-7dc1c48451c9",
   "metadata": {},
   "outputs": [
    {
     "name": "stdout",
     "output_type": "stream",
     "text": [
      "     Name  Age Country\n",
      "0   Niyaj   25     USA\n",
      "1   Rayan    5  Canada\n",
      "2   Ashad   10  Mexico\n",
      "3  muskan   21   India\n"
     ]
    }
   ],
   "source": [
    "import pandas as pd\n",
    "\n",
    "# Create three series representing different columns of the dataframe\n",
    "names = pd.Series(['Niyaj', 'Rayan', 'Ashad', 'muskan'])\n",
    "ages = pd.Series([25, 5, 10, 21])\n",
    "countries = pd.Series(['USA', 'Canada', 'Mexico', 'India'])\n",
    "\n",
    "# Combine the series to create a DataFrame\n",
    "df = pd.DataFrame({'Name': names, 'Age': ages, 'Country': countries})\n",
    "\n",
    "# Print the resulting DataFrame\n",
    "print(df)"
   ]
  },
  {
   "cell_type": "code",
   "execution_count": null,
   "id": "20170b1c-a1c9-4fe0-a9d0-3326e9fa44fe",
   "metadata": {},
   "outputs": [],
   "source": []
  }
 ],
 "metadata": {
  "kernelspec": {
   "display_name": "Python 3 (ipykernel)",
   "language": "python",
   "name": "python3"
  },
  "language_info": {
   "codemirror_mode": {
    "name": "ipython",
    "version": 3
   },
   "file_extension": ".py",
   "mimetype": "text/x-python",
   "name": "python",
   "nbconvert_exporter": "python",
   "pygments_lexer": "ipython3",
   "version": "3.10.8"
  }
 },
 "nbformat": 4,
 "nbformat_minor": 5
}
