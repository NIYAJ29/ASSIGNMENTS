{
 "cells": [
  {
   "cell_type": "markdown",
   "id": "48cc127c-8ef3-4652-bab3-fa8194aebd88",
   "metadata": {},
   "source": [
    "Q1. Calculate the 95% confidence interval for a sample of data with a mean of 50 and a standard deviation\n",
    "of 5 using Python. Interpret the results."
   ]
  },
  {
   "cell_type": "code",
   "execution_count": 3,
   "id": "cedbcfe5-68e3-4ffa-8e82-6aa99ed42ba2",
   "metadata": {},
   "outputs": [
    {
     "name": "stdout",
     "output_type": "stream",
     "text": [
      "confidence intreval for 95% is : from 48.614096175650324 to 50.97998199227003\n"
     ]
    }
   ],
   "source": [
    "import scipy.stats as stat\n",
    "import numpy as np\n",
    "\n",
    "sample_mean = 50\n",
    "sample_std = 5\n",
    "\n",
    "# lets take sample size 100\n",
    "sample_size = 100\n",
    "# z for 95% confidence level\n",
    "z = stat.norm.ppf(0.975)\n",
    "\n",
    "lower_bound = sample_mean - z * (sample_std/np.sqrt(sample_mean))\n",
    "upper_bound = sample_mean + z * (sample_std/np.sqrt(sample_size))\n",
    "\n",
    "\n",
    "print(f'confidence intreval for 95% is : from {lower_bound} to {upper_bound}')\n"
   ]
  },
  {
   "cell_type": "markdown",
   "id": "290c378d-d7d9-4eb1-bb21-86d9af04be0c",
   "metadata": {},
   "source": [
    "Q2. Conduct a chi-square goodness of fit test to determine if the distribution of colors of M&Ms in a bag\n",
    "matches the expected distribution of 20% blue, 20% orange, 20% green, 10% yellow, 10% red, and 20%\n",
    "brown. Use Python to perform the test with a significance level of 0.05."
   ]
  },
  {
   "cell_type": "code",
   "execution_count": 13,
   "id": "1ea659ba-17dd-458b-9f26-7d2879f8526d",
   "metadata": {},
   "outputs": [
    {
     "name": "stdout",
     "output_type": "stream",
     "text": [
      "fail to reject null hypothesis : observerd distribition is match with excepeted distribution\n"
     ]
    }
   ],
   "source": [
    "\n",
    "# bule,orange,green,yellow,red,brown\n",
    "observed = [30, 20, 25, 15, 10, 20] \n",
    "expected = [0.2,0.2,0.2,0.1,0.1,0.2]\n",
    "\n",
    "n = np.sum(observed)\n",
    "significance_value = 0.05\n",
    "dof = len(expected_freq) - 1\n",
    "\n",
    "expected_freq = [prop * n for prop in expected]\n",
    "\n",
    "chi_square_statistics, p_value = stat.chisquare(observed, expected_freq)\n",
    "\n",
    "critical_value = stat.chi2.ppf(1 - significance_value, dof)\n",
    "\n",
    "if chi_square_statistics > critical_value :\n",
    "    print('null hypothesis is rejected : observed distribution doesn,t match expected distribution')\n",
    "    \n",
    "else:\n",
    "    print('fail to reject null hypothesis : observerd distribition is match with excepeted distribution')"
   ]
  },
  {
   "cell_type": "raw",
   "id": "fa46cf75-5aba-4ba5-957d-29f338486eef",
   "metadata": {},
   "source": [
    "Q3. Use Python to calculate the chi-square statistic and p-value for a contingency table with the following\n",
    "data:\n",
    "                groupA      groupB\n",
    "             \n",
    "Outcome 1         20          15\n",
    "\n",
    "Outcome 2         10          25\n",
    "\n",
    "Outcome 3         15          20\n",
    "\n",
    "Interpret the results of the test."
   ]
  },
  {
   "cell_type": "code",
   "execution_count": 15,
   "id": "476480fb-4122-45dc-9bab-05af0f5170bd",
   "metadata": {},
   "outputs": [
    {
     "name": "stdout",
     "output_type": "stream",
     "text": [
      "chi_sq_statistics is  :5.833333333333334 and p_value is : 0.05411376622282158 \n"
     ]
    }
   ],
   "source": [
    "observed = [[20,15],[10,25],[15,20]]\n",
    "\n",
    "chi_sq_statistics, p_value, dof, excepted = stat.chi2_contingency(observed)\n",
    "\n",
    "print(f'chi_sq_statistics is  :{chi_sq_statistics} and p_value is : {p_value} ')\n"
   ]
  },
  {
   "cell_type": "markdown",
   "id": "cfd0b726-1942-4f51-a8f3-cf2cf8fe5ab6",
   "metadata": {},
   "source": [
    "Q4. A study of the prevalence of smoking in a population of 500 individuals found that 60 individuals\n",
    "smoked. Use Python to calculate the 95% confidence interval for the true proportion of individuals in the\n",
    "population who smoke."
   ]
  },
  {
   "cell_type": "code",
   "execution_count": 16,
   "id": "b44206f0-2d5f-4ace-a48b-81d63507a782",
   "metadata": {},
   "outputs": [
    {
     "name": "stdout",
     "output_type": "stream",
     "text": [
      " For 95% confidence interval :  (-0.5588699613838124, 0.7988699613838124)\n"
     ]
    }
   ],
   "source": [
    "\n",
    "sample_size = 500\n",
    "sample_prop = 60/ sample_size\n",
    "    \n",
    "z_critical = stat.norm.ppf(0.975) ## for 95% confidence level\n",
    "    \n",
    "margin_error = z_critical * np.sqrt(sample_prop * (1-sample_prop/sample_size))\n",
    "confidence_interval = (sample_prop - margin_error, sample_prop + margin_error)\n",
    "\n",
    "print(f' For 95% confidence interval :  {confidence_interval}')"
   ]
  },
  {
   "cell_type": "markdown",
   "id": "80e93913-e8ce-41bf-945d-fe300f98a3b5",
   "metadata": {},
   "source": [
    "Q5. Calculate the 90% confidence interval for a sample of data with a mean of 75 and a standard deviation\n",
    "of 12 using Python. Interpret the results."
   ]
  },
  {
   "cell_type": "code",
   "execution_count": 21,
   "id": "d155ea90-c500-41be-986e-50aca6537ed4",
   "metadata": {},
   "outputs": [
    {
     "name": "stdout",
     "output_type": "stream",
     "text": [
      " 90 % confidence interval :  (63.0, 87.0)\n"
     ]
    }
   ],
   "source": [
    "sample_mean = 75\n",
    "sample_std = 12\n",
    "sample_size = 1 # as only one sample mean is given\n",
    "\n",
    "dof = sample_size -1\n",
    "\n",
    "t_critical = stat.t.ppf(0.95,dof) # 90 % confidence interval fo one tail test\n",
    "\n",
    "margin_error = (sample_std/ np.sqrt(sample_size))\n",
    "\n",
    "confidence_interval = (sample_mean - margin_error, sample_mean + margin_error)\n",
    "\n",
    "print(f' 90 % confidence interval :  {confidence_interval}')\n"
   ]
  },
  {
   "cell_type": "markdown",
   "id": "21cb0fdc-8010-4c9b-8f86-5056672c74ff",
   "metadata": {},
   "source": [
    "Q6. Use Python to plot the chi-square distribution with 10 degrees of freedom. Label the axes and shade the\n",
    "area corresponding to a chi-square statistic of 15."
   ]
  },
  {
   "cell_type": "code",
   "execution_count": 22,
   "id": "deb6e653-1994-44e4-beb4-17adf23ca7e7",
   "metadata": {},
   "outputs": [
    {
     "data": {
      "text/plain": [
       "Text(0.5, 1.0, 'chi square distribution for 10 degree of freedom')"
      ]
     },
     "execution_count": 22,
     "metadata": {},
     "output_type": "execute_result"
    },
    {
     "data": {
      "image/png": "[encoded data removed]",
      "text/plain": [
       "<Figure size 640x480 with 1 Axes>"
      ]
     },
     "metadata": {},
     "output_type": "display_data"
    }
   ],
   "source": [
    "import matplotlib.pyplot as plt\n",
    "\n",
    "dof = 10\n",
    "x = np.linspace(0,30,1000)\n",
    "y = stat.chi2.pdf(x,dof)\n",
    "plt.plot(x,y)\n",
    "\n",
    "x_shaded = np.linspace(15,30,1000)\n",
    "y_shaded = stat.chi2.pdf(x_shaded,dof)\n",
    "plt.fill_between(x_shaded, y_shaded, 0 , alpha = 0.5)\n",
    "\n",
    "plt.xlabel('chi_sqr_statistic')\n",
    "plt.ylabel('probability density')\n",
    "plt.title('chi square distribution for 10 degree of freedom')\n"
   ]
  },
  {
   "cell_type": "markdown",
   "id": "245fd454-52e0-4e06-bb82-be495b190538",
   "metadata": {},
   "source": [
    "Q7. A random sample of 1000 people was asked if they preferred Coke or Pepsi. Of the sample, 520\n",
    "preferred Coke. Calculate a 99% confidence interval for the true proportion of people in the population who\n",
    "prefer Coke."
   ]
  },
  {
   "cell_type": "code",
   "execution_count": 46,
   "id": "b00c2e3b-7ec5-46c0-80fd-4d2e65523614",
   "metadata": {},
   "outputs": [
    {
     "name": "stdout",
     "output_type": "stream",
     "text": [
      " 99 % confidence interval is : (0.4793051576779699, 0.5606948423220302)\n"
     ]
    }
   ],
   "source": [
    "n = 1000\n",
    "samp_prop = 520/n\n",
    "\n",
    "z_critical = stat.norm.ppf(0.995) ## for 99% confidence interval\n",
    "\n",
    "margin_error = z_critical*np.sqrt(samp_prop*(1-samp_prop)/n)\n",
    "confidence_interval = (samp_prop-margin_error, samp_prop + margin_error)\n",
    "\n",
    "print(f' 99 % confidence interval is : {confidence_interval}')"
   ]
  },
  {
   "cell_type": "markdown",
   "id": "04a69802-c2d5-45a4-9693-fcc21443aa3a",
   "metadata": {},
   "source": [
    "Q8. A researcher hypothesizes that a coin is biased towards tails. They flip the coin 100 times and observe\n",
    "45 tails. Conduct a chi-square goodness of fit test to determine if the observed frequencies match the\n",
    "expected frequencies of a fair coin. Use a significance level of 0.05."
   ]
  },
  {
   "cell_type": "markdown",
   "id": "c9f8d4e9-dc80-4616-9ca5-b3b393346876",
   "metadata": {},
   "source": [
    "Null hypothesis: The observed frequencies match the expected frequencies of a fair coin.\n",
    "Alternative hypothesis: The observed frequencies do not match the expected frequencies of a fair coin.\n",
    "Set the significance level: We are given a significance level of 0.05.\n",
    "\n",
    "Determine the expected frequencies: For a fair coin, the expected frequency of tails is 0.5 and the expected frequency of heads is 0.5. Since the sample size is 100, the expected frequency of tails is 0.5 * 100 = 50 and the expected frequency of heads is 0.5 * 100 = 50.\n",
    "\n",
    "Calculate the test statistic: We can use the chi-square goodness of fit test statistic, which is given by the formula:\n",
    "\n",
    "χ² = Σ (Oᵢ - Eᵢ)² / Eᵢ\n",
    "\n",
    "χ² = ((45 - 50)² / 50) + ((55 - 50)² / 50) = 1\n",
    "\n",
    "Find the critical value: We need to find the critical value from the chi-square distribution with one degree of freedom and a significance level of 0.05. Using a chi-square distribution table or calculator, we find that the critical value is 3.84.\n",
    "\n",
    "Make a decision and interpret the results: Since the test statistic (χ² = 1) is less than the critical value (3.84), we fail to reject the null hypothesis. Therefore, we conclude that there is not enough evidence to suggest that the observed frequencies do not match the expected frequencies of a fair coin at a significance level of 0.05."
   ]
  },
  {
   "cell_type": "raw",
   "id": "1c83a53e-b37e-4669-b6d0-5ed028511289",
   "metadata": {},
   "source": [
    "Q9. A study was conducted to determine if there is an association between smoking status (smoker or\n",
    "non-smoker) and lung cancer diagnosis (yes or no). The results are shown in the contingency table below.\n",
    "Conduct a chi-square test for independence to determine if there is a significant association between\n",
    "smoking status and lung cancer diagnosis.\n",
    "\n",
    "              Lung Cancer: Yes                     Lung Cancer: No\n",
    "\n",
    "Smoker               60                                   140\n",
    "Non-smoker           30                                   170\n",
    "\n",
    "Use a significance level of 0.05."
   ]
  },
  {
   "cell_type": "markdown",
   "id": "3b6a2804-d0ab-428e-bbbd-5b0ee92c46f3",
   "metadata": {},
   "source": [
    "Null hypothesis: There is no association between smoking status and lung cancer diagnosis.\n",
    "\n",
    "Alternative hypothesis: There is an association between smoking status and lung cancer diagnosis."
   ]
  },
  {
   "cell_type": "code",
   "execution_count": 47,
   "id": "2045e085-eb50-4448-87f5-147842392e44",
   "metadata": {},
   "outputs": [
    {
     "name": "stdout",
     "output_type": "stream",
     "text": [
      "Test statistic: 12.057347670250895\n",
      "p-value: 0.0005158863863703744\n"
     ]
    }
   ],
   "source": [
    "# create contingency table\n",
    "observed = np.array([[60, 140], [30, 170]])\n",
    "\n",
    "# perform chi-square test for independence\n",
    "test_statistic, p_value, dof, expected = stat.chi2_contingency(observed)\n",
    "\n",
    "# print results\n",
    "print('Test statistic:', test_statistic)\n",
    "print('p-value:', p_value)"
   ]
  },
  {
   "cell_type": "markdown",
   "id": "94dd5f41-1236-4b08-8443-8a68b43a1778",
   "metadata": {},
   "source": [
    "Since the p-value is less than the significance level of 0.05, we reject the null hypothesis."
   ]
  },
  {
   "cell_type": "markdown",
   "id": "9061aa30-694f-4964-b579-41b29f073e90",
   "metadata": {},
   "source": [
    "Q10. A study was conducted to determine if the proportion of people who prefer milk chocolate, dark\n",
    "chocolate, or white chocolate is different in the U.S. versus the U.K. A random sample of 500 people from\n",
    "the U.S. and a random sample of 500 people from the U.K. were surveyed. The results are shown in the\n",
    "contingency table below. Conduct a chi-square test for independence to determine if there is a significant\n",
    "association between chocolate preference and country of origin.\n",
    "\n",
    "Use a significance level of 0.01."
   ]
  },
  {
   "cell_type": "raw",
   "id": "d44840f8-6cdf-40e4-9a2b-725060558740",
   "metadata": {},
   "source": [
    "                    Milk Chocolate                       dark chocolate                        white chocolate\n",
    "\n",
    "U.S. (n=500)             200                                 150                                    150\n",
    "U.K. (n=500)             225                                 175                                    100"
   ]
  },
  {
   "cell_type": "markdown",
   "id": "b2666eee-5ba2-4103-ae4e-3463ea86e948",
   "metadata": {},
   "source": [
    "Null hypothesis: There is no association between chocolate preference and country of origin.\n",
    "\n",
    "Alternative hypothesis: There is an association between chocolate preference and country of origin."
   ]
  },
  {
   "cell_type": "code",
   "execution_count": 48,
   "id": "82c724c2-a793-4000-b326-c4a7d573a765",
   "metadata": {},
   "outputs": [
    {
     "name": "stdout",
     "output_type": "stream",
     "text": [
      "Test statistic: 13.393665158371041\n",
      "p-value: 0.0012348168997745918\n"
     ]
    }
   ],
   "source": [
    "# create contingency table\n",
    "observed = np.array([[200, 225], [150, 175], [150,100]])\n",
    "\n",
    "# perform chi-square test for independence\n",
    "test_statistic, p_value, dof, expected = stat.chi2_contingency(observed)\n",
    "\n",
    "# print results\n",
    "print('Test statistic:', test_statistic)\n",
    "print('p-value:', p_value)"
   ]
  },
  {
   "cell_type": "markdown",
   "id": "55a90fa4-90d6-4a0a-8240-58e4cc7d04a1",
   "metadata": {},
   "source": [
    "Since the p-value is less than the significance level of 0.01, we reject the null hypothesis. so there There is an association between chocolate preference and country of origin."
   ]
  },
  {
   "cell_type": "code",
   "execution_count": null,
   "id": "e65eb738-1fe0-4c20-bbf2-33f65d1cc4d9",
   "metadata": {},
   "outputs": [],
   "source": []
  },
  {
   "cell_type": "markdown",
   "id": "ec28f4ae-c2c0-486f-ac28-be2cfcd9d8a4",
   "metadata": {},
   "source": [
    "Q11. A random sample of 30 people was selected from a population with an unknown mean and standard\n",
    "deviation. The sample mean was found to be 72 and the sample standard deviation was found to be 10.\n",
    "Conduct a hypothesis test to determine if the population mean is significantly different from 70. Use a\n",
    "significance level of 0.05."
   ]
  },
  {
   "cell_type": "markdown",
   "id": "256ca970-ca36-4f82-932c-02b9044c03c2",
   "metadata": {},
   "source": [
    "Null Hypothesis (H0): The population mean is equal to 70.\n",
    "Alternative Hypothesis (Ha): The population mean is significantly different from 70.\n",
    "\n",
    "We can use a two-tailed t-test to test this hypothesis, since we don't have any prior knowledge about the direction of the difference.\n",
    "\n",
    "The test statistic can be calculated as:\n",
    "\n",
    "t = (x̄ - μ) / (s / √n)\n",
    "\n",
    "t = (72 - 70) / (10 / √30)\n",
    "t = 1.732\n",
    "\n",
    "Using a t-table with degrees of freedom (df) = n-1 = 30-1 = 29 and a significance level of 0.05, the critical t-value is ±2.045.\n",
    "\n",
    "Since the calculated t-value (1.732) falls within the range of -2.045 to 2.045, we fail to reject the null hypothesis. Therefore, we do not have sufficient evidence to conclude that the population mean is significantly different from 70 at a significance level of 0.05."
   ]
  },
  {
   "cell_type": "code",
   "execution_count": null,
   "id": "c8f2ec59-3ac0-4daf-a933-ef645b4544d0",
   "metadata": {},
   "outputs": [],
   "source": []
  }
 ],
 "metadata": {
  "kernelspec": {
   "display_name": "Python 3 (ipykernel)",
   "language": "python",
   "name": "python3"
  },
  "language_info": {
   "codemirror_mode": {
    "name": "ipython",
    "version": 3
   },
   "file_extension": ".py",
   "mimetype": "text/x-python",
   "name": "python",
   "nbconvert_exporter": "python",
   "pygments_lexer": "ipython3",
   "version": "3.10.8"
  }
 },
 "nbformat": 4,
 "nbformat_minor": 5
}
