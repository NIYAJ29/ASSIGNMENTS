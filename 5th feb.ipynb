{
 "cells": [
  {
   "cell_type": "code",
   "execution_count": 5,
   "id": "baf40cc6-ba0c-4e19-8211-dfe3bbc807c5",
   "metadata": {},
   "outputs": [],
   "source": [
    "# 1\n",
    "# In object-oriented programming, a class is a blueprint or template for creating objects (instances of the class).It defines the\n",
    "# characteristics and behaviors that an object of the class possesses.\n",
    "\n",
    "# An object is an instance of a class and represents a real-world entity with its properties (data) and methods (functions). An object \n",
    "# can access and manipulate the data stored in its properties and interact with the world by invoking its methods.\n",
    "\n",
    "# For example, consider a \"Person\" class. It could have properties like name, age, address, etc. and methods like speak(), walk(), etc.\n",
    "# Each person in the real world is an instance of the Person class, with their own unique set of data.\n",
    "\n",
    "class Person:\n",
    "    def __init__(self, name, age, address):\n",
    "        self.name = name\n",
    "        self.age = age\n",
    "        self.address = address\n",
    "\n",
    "    def speak(self):\n",
    "        print(f\"Hello, my name is {self.name}\")\n",
    "\n",
    "    def walk(self):\n",
    "        print(f\"{self.name} is walking\")\n",
    "\n",
    "person1 = Person(\"niyaj\", 25, \"123 Main St.\")\n",
    "person2 = Person(\"muskaan\", 21, \"456 Market St.\")"
   ]
  },
  {
   "cell_type": "code",
   "execution_count": 6,
   "id": "3590febe-734e-4c95-9438-492c6d148c29",
   "metadata": {},
   "outputs": [
    {
     "name": "stdout",
     "output_type": "stream",
     "text": [
      "Hello, my name is niyaj\n",
      "muskaan is walking\n"
     ]
    }
   ],
   "source": [
    "person1.speak()\n",
    "person2.walk()"
   ]
  },
  {
   "cell_type": "code",
   "execution_count": null,
   "id": "e02760d8-25ff-4b1a-af31-09c08f54a326",
   "metadata": {},
   "outputs": [],
   "source": [
    "# 2\n",
    "# abstraction, encapsulation, inheritance, polymorphism\n"
   ]
  },
  {
   "cell_type": "code",
   "execution_count": 7,
   "id": "55400164-8cf3-4861-97bf-fd171df67113",
   "metadata": {},
   "outputs": [],
   "source": [
    "# 3\n",
    "# The __init__ function is a special method in Python that is automatically called when an object of a class is created. It is also known\n",
    "# as a constructor. The purpose of the __init__ function is to initialize the object's attributes or properties, either with default values\n",
    "# or with values passed as arguments.\n",
    "\n",
    "class Person:\n",
    "    def __init__(self, name, age):\n",
    "        self.name = name\n",
    "        self.age = age\n",
    "\n",
    "person = Person('niyajudin', 25)\n",
    "\n",
    "# In this example, the __init__ method is used to initialize the name and age attributes of the Person class. When a Person object is \n",
    "# created with the line person = Person('niyajudin', 25), the __init__ method is automatically called and sets the name to \"John\" and the age\n",
    "# to 30 for that specific instance of the Person class.\n",
    "\n",
    "# Note that the __init__ function is not mandatory, but it is commonly used in OOP to provide a convenient way to initialize objects with specific properties and values when they are created.\n"
   ]
  },
  {
   "cell_type": "code",
   "execution_count": null,
   "id": "6a124b4f-ada7-443c-ab27-aae101185008",
   "metadata": {},
   "outputs": [],
   "source": [
    "# 4 \n",
    "# In object-oriented programming, the self keyword is used to refer to the instance of the object being manipulated within a method.\n",
    "# It is a reference to the object that the method is being invoked on and allows you to access its attributes and methods.\n",
    "\n",
    "# The self keyword is used to distinguish the instance-specific data from other variables and methods within the class. When you define a\n",
    "# method within a class, you need to include the self parameter as the first parameter of the method. This allows the method to access the\n",
    "# instance-specific data and manipulate it as needed."
   ]
  },
  {
   "cell_type": "code",
   "execution_count": 8,
   "id": "d7ed0abe-57a6-4443-b4db-95070807a710",
   "metadata": {},
   "outputs": [
    {
     "name": "stdout",
     "output_type": "stream",
     "text": [
      "Bark\n"
     ]
    }
   ],
   "source": [
    "# 5\n",
    "# Inheritance is a concept in object-oriented programming that allows you to define a new class based on an existing class. The new class\n",
    "# inherits all the attributes and behaviors of the existing class and can also add new attributes and behaviors of its own. Inheritance\n",
    "# allows you to reuse, extend, or modify the functionality of existing classes and create a hierarchy of classes that share a common \n",
    "# structure.\n",
    "\n",
    "# There are several types of inheritance in OOP, including:\n",
    "\n",
    "#Single Inheritance: In this type of inheritance, a single subclass inherits from a single superclass. For example:\n",
    "class Animal:\n",
    "    def __init__(self, species, legs):\n",
    "        self.species = species\n",
    "        self.legs = legs\n",
    "\n",
    "    def make_sound(self):\n",
    "        print(\"Animal sound\")\n",
    "\n",
    "class Dog(Animal):\n",
    "    def __init__(self, breed):\n",
    "        Animal.__init__(self, \"Dog\", 4)\n",
    "        self.breed = breed\n",
    "\n",
    "    def make_sound(self):\n",
    "        print(\"Bark\")\n",
    "\n",
    "dog = Dog(\"Labrador\")\n",
    "dog.make_sound()\n",
    "\n",
    "# In this example, the Dog class inherits from the Animalclass and adds a new attribute breed. The Dog class also overrides \n",
    "# the make_sound method to define its own behavior."
   ]
  },
  {
   "cell_type": "code",
   "execution_count": 9,
   "id": "426dbbc7-6607-406c-8751-219ed6c3a3b3",
   "metadata": {},
   "outputs": [],
   "source": [
    "# Multi-level Inheritance: In this type of inheritance, a subclass inherits from a superclass, which in turn inherits from another superclass.\n",
    "# For example:\n",
    "\n",
    "class Animal:\n",
    "    def __init__(self, species, legs):\n",
    "        self.species = species\n",
    "        self.legs = legs\n",
    "\n",
    "class Mammal(Animal):\n",
    "    def __init__(self, breed):\n",
    "        Animal.__init__(self, \"Mammal\", 4)\n",
    "        self.breed = breed\n",
    "\n",
    "class Dog(Mammal):\n",
    "    def __init__(self, name):\n",
    "        Mammal.__init__(self, \"Dog\")\n",
    "        self.name = name\n",
    "\n",
    "dog = Dog(\"Max\")\n",
    "\n",
    "# In this example, the Dog class inherits from the Mammal class, which in turn inherits from the Animal class. This creates a hierarchy \n",
    "# of classes where the Dog class has access to all the attributes and behaviors of both the Mammal and Animal classes."
   ]
  },
  {
   "cell_type": "code",
   "execution_count": 10,
   "id": "981f2186-4674-4b13-8905-de0f8c45b84a",
   "metadata": {},
   "outputs": [
    {
     "name": "stdout",
     "output_type": "stream",
     "text": [
      "Animal sound\n"
     ]
    }
   ],
   "source": [
    "# Multiple Inheritance: In this type of inheritance, a subclass inherits from multiple superclasses. For example:\n",
    "class Animal:\n",
    "    def __init__(self, species, legs):\n",
    "        self.species = species\n",
    "        self.legs = legs\n",
    "\n",
    "class Sound:\n",
    "    def make_sound(self):\n",
    "        print(\"Animal sound\")\n",
    "\n",
    "class Dog(Animal, Sound):\n",
    "    def __init__(self, breed):\n",
    "        Animal.__init__(self, \"Dog\", 4)\n",
    "        self.breed = breed\n",
    "\n",
    "dog = Dog(\"Labrador\")\n",
    "dog.make_sound()\n",
    "\n",
    "#In this example, the Dog class inherits from both the Animal and Sound classes, allowing it to access the attributes and behaviors of both\n",
    "# classes. Note that in case of conflicting attributes or behaviors, the first class listed in the inheritance statement takes precedence."
   ]
  },
  {
   "cell_type": "code",
   "execution_count": null,
   "id": "3da32de1-322a-43b5-b993-282ff4c557fc",
   "metadata": {},
   "outputs": [],
   "source": []
  }
 ],
 "metadata": {
  "kernelspec": {
   "display_name": "Python 3 (ipykernel)",
   "language": "python",
   "name": "python3"
  },
  "language_info": {
   "codemirror_mode": {
    "name": "ipython",
    "version": 3
   },
   "file_extension": ".py",
   "mimetype": "text/x-python",
   "name": "python",
   "nbconvert_exporter": "python",
   "pygments_lexer": "ipython3",
   "version": "3.10.8"
  }
 },
 "nbformat": 4,
 "nbformat_minor": 5
}
