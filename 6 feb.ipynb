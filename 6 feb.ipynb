{
 "cells": [
  {
   "cell_type": "code",
   "execution_count": 6,
   "id": "1ba3f862-7b84-4b4d-bad0-9572905cd56e",
   "metadata": {},
   "outputs": [],
   "source": [
    "# 1\n",
    "list1 = [1,2,3,4, [44,55,66, True], False, (34,56,78,89,34), {1,2,3,3,2,1}, {1:34, \"key2\": [55, 67, 78, 89], 4: (45,\n",
    "22, 61, 34)}, [56, 'data science'], 'Machine Learning']\n",
    "\n",
    "def product(lst):\n",
    "    flat_list = []\n",
    "    for i in lst :\n",
    "        if type(i) == int or type(i) == float :\n",
    "            flat_list.append(i)\n",
    "        elif type(i) == tuple:\n",
    "            for j in i:\n",
    "                if type(j) == int or type(j) == float:\n",
    "                    flat_list.append(j)   \n",
    "        elif type(i) == list:\n",
    "            for j in i:\n",
    "                flat_list.extend(product([j]))\n",
    "        elif type(i) == dict:\n",
    "            for key, value in i.items():\n",
    "                if type(key) == int or type(key) == float:\n",
    "                    flat_list.append(key)\n",
    "                if type(value) == int or type(value) == float:\n",
    "                    flat_list.append(value)\n",
    "                elif type(value) == list:\n",
    "                    flat_list.extend(product(value))\n",
    "                elif type(value) == tuple:\n",
    "                    for k in value:\n",
    "                        if type(k) == int or type(k) == float:\n",
    "                            flat_list.append(k)\n",
    "                elif type(value) == dict:\n",
    "                    flat_list.extend(product([value]))\n",
    "    product1 = 1\n",
    "    for i in flat_list:\n",
    "        product1 *= i\n",
    "    return product1                    \n",
    "                    "
   ]
  },
  {
   "cell_type": "code",
   "execution_count": 8,
   "id": "57d019d1-0761-4a5e-85f6-f6c5f9938580",
   "metadata": {},
   "outputs": [
    {
     "name": "stdout",
     "output_type": "stream",
     "text": [
      "h$vzms$sn$adbnld$z$czsz$rbhdmshrs.\n"
     ]
    }
   ],
   "source": [
    "# 2\n",
    "def encrypt_message(message):\n",
    "    encrypted_message = \"\"\n",
    "    for char in message:\n",
    "        if char.isalpha():\n",
    "            if char == 'a':\n",
    "                encrypted_message += 'z'\n",
    "            elif char == 'A':\n",
    "                encrypted_message += 'Z'\n",
    "            else:\n",
    "                encrypted_message += chr(ord(char) - 1)\n",
    "        elif char.isspace():\n",
    "            encrypted_message += '$'\n",
    "        else:\n",
    "            encrypted_message += char\n",
    "    return encrypted_message.lower()\n",
    "\n",
    "message = \"I want to become a Data Scientist.\"\n",
    "print(encrypt_message(message))\n"
   ]
  },
  {
   "cell_type": "code",
   "execution_count": null,
   "id": "39bc3848-965c-4e09-9c46-341ad6da7521",
   "metadata": {},
   "outputs": [],
   "source": []
  }
 ],
 "metadata": {
  "kernelspec": {
   "display_name": "Python 3 (ipykernel)",
   "language": "python",
   "name": "python3"
  },
  "language_info": {
   "codemirror_mode": {
    "name": "ipython",
    "version": 3
   },
   "file_extension": ".py",
   "mimetype": "text/x-python",
   "name": "python",
   "nbconvert_exporter": "python",
   "pygments_lexer": "ipython3",
   "version": "3.10.8"
  }
 },
 "nbformat": 4,
 "nbformat_minor": 5
}
