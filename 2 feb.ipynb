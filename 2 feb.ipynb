{
 "cells": [
  {
   "cell_type": "code",
   "execution_count": 2,
   "id": "dd0c113c-9ba4-4ebc-b945-424d5f8f9b6b",
   "metadata": {},
   "outputs": [
    {
     "name": "stdout",
     "output_type": "stream",
     "text": [
      "spinach\n",
      "chilli\n",
      "tomato\n",
      "onion\n"
     ]
    }
   ],
   "source": [
    "# 1\n",
    "# A for loop is used when you want to iterate over a sequence (such as a list, tuple, or string) and execute a set of statements a\n",
    "# specific number of times. For example, you can use a for loop to print the elements of a list:\n",
    "\n",
    "v = ['spinach', 'chilli', 'tomato', 'onion']\n",
    "for v in v :\n",
    "    print(v)"
   ]
  },
  {
   "cell_type": "code",
   "execution_count": 2,
   "id": "5190b1ad-46d7-4654-bab4-dc61785328d1",
   "metadata": {},
   "outputs": [
    {
     "name": "stdin",
     "output_type": "stream",
     "text": [
      "Enter a positive number:  -5\n"
     ]
    },
    {
     "name": "stdout",
     "output_type": "stream",
     "text": [
      "Invalid input. Try again.\n"
     ]
    },
    {
     "name": "stdin",
     "output_type": "stream",
     "text": [
      "Enter a positive number:  4\n"
     ]
    }
   ],
   "source": [
    "# A while loop, on the other hand, is used when you want to keep executing a set of statements as long as a certain condition is met.\n",
    "# For example, you can use a while loop to repeatedly ask the user for input until they provide a valid response:\n",
    "\n",
    "while True:\n",
    "    user_input = input(\"Enter a positive number: \")\n",
    "    if user_input.isdigit() and int(user_input) > 0:\n",
    "        break\n",
    "    print(\"Invalid input. Try again.\")"
   ]
  },
  {
   "cell_type": "code",
   "execution_count": 3,
   "id": "4837cad7-1e75-495d-80e0-f7d34f5b9b70",
   "metadata": {},
   "outputs": [
    {
     "name": "stdout",
     "output_type": "stream",
     "text": [
      "Sum of the first 10 natural numbers: 55\n",
      "Product of the first 10 natural numbers: 3628800\n"
     ]
    }
   ],
   "source": [
    "# 2 part 1\n",
    "sum = 0\n",
    "product = 1\n",
    "for i in range(1, 11):\n",
    "    sum += i\n",
    "    product *= i\n",
    "\n",
    "print(\"Sum of the first 10 natural numbers:\", sum)\n",
    "print(\"Product of the first 10 natural numbers:\", product)"
   ]
  },
  {
   "cell_type": "code",
   "execution_count": 4,
   "id": "44f291e1-8084-415c-ad76-0816ae53a391",
   "metadata": {},
   "outputs": [
    {
     "name": "stdout",
     "output_type": "stream",
     "text": [
      "Sum of the first 10 natural numbers: 55\n",
      "Product of the first 10 natural numbers: 3628800\n"
     ]
    }
   ],
   "source": [
    "# 2 part 2\n",
    "sum = 0\n",
    "product = 1\n",
    "i = 1\n",
    "while i <= 10:\n",
    "    sum += i\n",
    "    product *= i\n",
    "    i += 1\n",
    "\n",
    "print(\"Sum of the first 10 natural numbers:\", sum)\n",
    "print(\"Product of the first 10 natural numbers:\", product)"
   ]
  },
  {
   "cell_type": "code",
   "execution_count": 7,
   "id": "8805e84e-d324-4c7f-8326-79fe40c4b928",
   "metadata": {},
   "outputs": [
    {
     "name": "stdin",
     "output_type": "stream",
     "text": [
      "please enter units consumed  310\n"
     ]
    },
    {
     "name": "stdout",
     "output_type": "stream",
     "text": [
      "the electricity bill is : Rs  2250.0\n"
     ]
    }
   ],
   "source": [
    "# 3\n",
    "units = int(input('please enter units consumed '))\n",
    "if units <= 100 :\n",
    "    bill = units*4.5\n",
    "elif units <= 200:\n",
    "    bill = (100*4.5) + (6*(units - 100))\n",
    "elif units <= 300:\n",
    "    bill = (100*4.5) + (6*100) + (10*(units - 200))\n",
    "else:\n",
    "    bill = (100*4.5) + (6*100) + (10*100) + (20*(units -300))\n",
    "    \n",
    "print( \"the electricity bill is : Rs \", bill)"
   ]
  },
  {
   "cell_type": "code",
   "execution_count": 8,
   "id": "513cecdb-dd45-4f05-84b5-c8a34cffaf26",
   "metadata": {},
   "outputs": [
    {
     "name": "stdout",
     "output_type": "stream",
     "text": [
      "Numbers whose cube is divisible by 4 or 5: [2, 4, 5, 6, 8, 10, 12, 14, 15, 16, 18, 20, 22, 24, 25, 26, 28, 30, 32, 34, 35, 36, 38, 40, 42, 44, 45, 46, 48, 50, 52, 54, 55, 56, 58, 60, 62, 64, 65, 66, 68, 70, 72, 74, 75, 76, 78, 80, 82, 84, 85, 86, 88, 90, 92, 94, 95, 96, 98, 100]\n"
     ]
    }
   ],
   "source": [
    "# 4 part 1\n",
    "numbers = []\n",
    "for i in range(1, 101):\n",
    "    cube = i**3\n",
    "    if cube % 4 == 0 or cube % 5 == 0:\n",
    "        numbers.append(i)\n",
    "\n",
    "print(\"Numbers whose cube is divisible by 4 or 5:\", numbers)"
   ]
  },
  {
   "cell_type": "code",
   "execution_count": 9,
   "id": "71becbe7-667b-49fe-bb49-ec02226a862f",
   "metadata": {},
   "outputs": [
    {
     "name": "stdout",
     "output_type": "stream",
     "text": [
      "Numbers whose cube is divisible by 4 or 5: [2, 4, 5, 6, 8, 10, 12, 14, 15, 16, 18, 20, 22, 24, 25, 26, 28, 30, 32, 34, 35, 36, 38, 40, 42, 44, 45, 46, 48, 50, 52, 54, 55, 56, 58, 60, 62, 64, 65, 66, 68, 70, 72, 74, 75, 76, 78, 80, 82, 84, 85, 86, 88, 90, 92, 94, 95, 96, 98, 100]\n"
     ]
    }
   ],
   "source": [
    "# 4 part 2\n",
    "numbers = []\n",
    "i = 1\n",
    "while i <= 100:\n",
    "    cube = i**3\n",
    "    if cube % 4 == 0 or cube % 5 == 0:\n",
    "        numbers.append(i)\n",
    "    i += 1\n",
    "\n",
    "print(\"Numbers whose cube is divisible by 4 or 5:\", numbers)"
   ]
  },
  {
   "cell_type": "code",
   "execution_count": 10,
   "id": "7e11e99a-3ecf-482b-aae0-1d8694869156",
   "metadata": {},
   "outputs": [
    {
     "name": "stdout",
     "output_type": "stream",
     "text": [
      "Number of vowels in the string: 12\n"
     ]
    }
   ],
   "source": [
    "# 5\n",
    "string = \"I want to become a data scientist\"\n",
    "vowels = \"aeiouAEIOU\"\n",
    "vowel_count = 0\n",
    "\n",
    "for char in string:\n",
    "    if char in vowels:\n",
    "        vowel_count += 1\n",
    "\n",
    "print(\"Number of vowels in the string:\", vowel_count)"
   ]
  },
  {
   "cell_type": "code",
   "execution_count": null,
   "id": "136f3496-bb23-47b5-b881-44cd34877306",
   "metadata": {},
   "outputs": [],
   "source": []
  }
 ],
 "metadata": {
  "kernelspec": {
   "display_name": "Python 3 (ipykernel)",
   "language": "python",
   "name": "python3"
  },
  "language_info": {
   "codemirror_mode": {
    "name": "ipython",
    "version": 3
   },
   "file_extension": ".py",
   "mimetype": "text/x-python",
   "name": "python",
   "nbconvert_exporter": "python",
   "pygments_lexer": "ipython3",
   "version": "3.10.8"
  }
 },
 "nbformat": 4,
 "nbformat_minor": 5
}
