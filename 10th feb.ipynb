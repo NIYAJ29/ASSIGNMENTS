{
 "cells": [
  {
   "cell_type": "markdown",
   "id": "4926b4ac-bb24-4a84-8212-6d0798f4de99",
   "metadata": {},
   "source": [
    "Q1. Which function is used to open a file? What are the different modes of opening a file? Explain each mode\n",
    "of file opening."
   ]
  },
  {
   "cell_type": "markdown",
   "id": "5cd4dd3b-0372-4c06-bbb0-c4b965e7a8e7",
   "metadata": {},
   "source": [
    "In Python, the 'open()' function is used to open a file. The function takes two arguments: the first argument is the name of the file, and the second argument is the mode in which the file should be opened.\n",
    "\n",
    "The different modes of opening a file in Python are:\n",
    "\n",
    "'r' (Read Only): This is the default mode. It opens the file for reading, and you can only read the contents of the file.\n",
    "\n",
    "'w' (Write Only): This mode opens the file for writing, and any existing data in the file will be overwritten. If the file doesn't exist, a new file with the same name will be created.\n",
    "\n",
    "'a' (Append Only): This mode opens the file for writing, but instead of overwriting the existing data, new data is appended to the end of the file. If the file doesn't exist, a new file with the same name will be created.\n",
    "\n",
    "'x' (Exclusive Creation): This mode is used to create a new file for writing, but only if the file does not already exist. If the file already exists, an error will be raised.\n",
    "\n",
    "'b' (Binary Mode): This mode is used to open a binary file, such as an image or audio file. It is often used in conjunction with one of the above modes, like 'rb' (Read Binary), 'wb' (Write Binary), etc.\n",
    "\n",
    "'t' (Text Mode): This mode is used to open a text file, and it is also the default mode when opening a file in Python. It is often used in conjunction with one of the above modes, like 'rt' (Read Text), 'wt' (Write Text), etc."
   ]
  },
  {
   "cell_type": "code",
   "execution_count": null,
   "id": "04903519-0e14-44f9-91d6-e5a5fbb348b5",
   "metadata": {},
   "outputs": [],
   "source": [
    "# Open a file in read-only mode\n",
    "f = open(\"file.txt\", \"r\")\n",
    "\n",
    "# Open a file in write mode\n",
    "f = open(\"file.txt\", \"w\")\n",
    "\n",
    "# Open a file in append mode\n",
    "f = open(\"file.txt\", \"a\")\n",
    "\n",
    "# Open a file in binary mode\n",
    "f = open(\"image.jpg\", \"rb\")"
   ]
  },
  {
   "cell_type": "markdown",
   "id": "c2993888-f717-4bcb-8694-1d947d2aa681",
   "metadata": {},
   "source": [
    "Q2. Why close() function is used? Why is it important to close a file?"
   ]
  },
  {
   "cell_type": "markdown",
   "id": "879d493e-d300-4821-bb35-ee504f9673cb",
   "metadata": {},
   "source": [
    "The close() function is used to close a file that was previously opened using the open() function. Closing a file is important because it ensures that any changes made to the file are saved and that the resources used by the file are freed up.\n",
    "\n",
    "When you open a file, the operating system allocates resources, such as memory and disk space, to the file. These resources are not automatically released when you finish reading or writing the file, and if you don't close the file, these resources will remain occupied until your program terminates.\n",
    "\n",
    "In a large program that opens and manipulates many files, not closing the files can lead to resource exhaustion and other issues, such as data corruption. On the other hand, if you close a file immediately after you have finished using it, the resources used by the file will be freed up and can be used by other parts of your program.\n",
    "\n",
    "Therefore, it is a best practice to close a file as soon as you are finished using it, to avoid resource leaks and other issues. In Python, you can use the close() function to close a file."
   ]
  },
  {
   "cell_type": "markdown",
   "id": "042e7e78-55b4-4174-b98c-584c4e48dddf",
   "metadata": {},
   "source": [
    "Q3. Write a python program to create a text file. Write ‘I want to become a Data Scientist’ in that file. Then\n",
    "close the file. Open this file and read the content of the file."
   ]
  },
  {
   "cell_type": "code",
   "execution_count": 2,
   "id": "3f89b69f-571e-4843-a4c3-b5e1f74d5680",
   "metadata": {},
   "outputs": [],
   "source": [
    "n = open('niyaj.txt', 'w')"
   ]
  },
  {
   "cell_type": "code",
   "execution_count": 3,
   "id": "0ef8a6e6-10cb-4dfe-a3c9-59c265d73372",
   "metadata": {},
   "outputs": [
    {
     "data": {
      "text/plain": [
       "31"
      ]
     },
     "execution_count": 3,
     "metadata": {},
     "output_type": "execute_result"
    }
   ],
   "source": [
    "n.write('this is a file to store my name')"
   ]
  },
  {
   "cell_type": "code",
   "execution_count": 5,
   "id": "3a0e1286-1021-471c-91fc-0a854b0338c1",
   "metadata": {},
   "outputs": [],
   "source": [
    "n.close()"
   ]
  },
  {
   "cell_type": "code",
   "execution_count": 8,
   "id": "4c80582d-e999-4c19-a0ab-0825de7597f3",
   "metadata": {},
   "outputs": [],
   "source": [
    "n = open('niyaj.txt', 'r')"
   ]
  },
  {
   "cell_type": "code",
   "execution_count": 9,
   "id": "26da5106-e9dd-4ac5-baed-b5b34580a286",
   "metadata": {},
   "outputs": [
    {
     "data": {
      "text/plain": [
       "'this is a file to store my name'"
      ]
     },
     "execution_count": 9,
     "metadata": {},
     "output_type": "execute_result"
    }
   ],
   "source": [
    "n.read()"
   ]
  },
  {
   "cell_type": "markdown",
   "id": "5097085f-757a-4b00-bf0f-010e31bc5fcb",
   "metadata": {},
   "source": [
    "Q4. Explain the following with python code: read(), readline() and readlines()."
   ]
  },
  {
   "cell_type": "markdown",
   "id": "1ab9e427-910d-40a5-90b8-ecb538572dfc",
   "metadata": {},
   "source": [
    "read(): The read() method is used to read the entire contents of a file as a string. It takes an optional argument, which is the number of characters to read. If the argument is not provided, the read() method will read the entire contents of the file."
   ]
  },
  {
   "cell_type": "code",
   "execution_count": 11,
   "id": "b4f7fcf4-d0dd-4cf2-9153-4bdfc6b4aa16",
   "metadata": {},
   "outputs": [
    {
     "data": {
      "text/plain": [
       "'this is a file to store my name'"
      ]
     },
     "execution_count": 11,
     "metadata": {},
     "output_type": "execute_result"
    }
   ],
   "source": [
    "n = open('niyaj.txt', 'r')\n",
    "n.read()\n"
   ]
  },
  {
   "cell_type": "code",
   "execution_count": 16,
   "id": "337d9b19-d677-4ac3-bec0-05fca411d3ff",
   "metadata": {},
   "outputs": [],
   "source": [
    "n.close()"
   ]
  },
  {
   "cell_type": "markdown",
   "id": "4c365dc1-a22a-4282-b152-2018054e174d",
   "metadata": {},
   "source": [
    "readline(): The readline() method is used to read a single line of a file at a time. Each call to readline() reads the next line in the file. This method is useful when you are working with large files and you don't want to load the entire contents of the file into memory at once."
   ]
  },
  {
   "cell_type": "code",
   "execution_count": 19,
   "id": "b9b070ee-e5ca-4f15-8f25-acbefa06ed76",
   "metadata": {},
   "outputs": [
    {
     "data": {
      "text/plain": [
       "178"
      ]
     },
     "execution_count": 19,
     "metadata": {},
     "output_type": "execute_result"
    }
   ],
   "source": [
    "n = open('niyaj.txt', 'a')\n",
    "n.write('Technology is the application of scientific knowledge to the practical aims of human life or, as it is sometimes phrased, to the change and manipulation of the human environment.')\n"
   ]
  },
  {
   "cell_type": "code",
   "execution_count": 20,
   "id": "15a9e28e-0f1d-4ee8-854a-91c2f35293c4",
   "metadata": {},
   "outputs": [],
   "source": [
    "n.close()"
   ]
  },
  {
   "cell_type": "code",
   "execution_count": 21,
   "id": "67b7f865-4548-47e3-a7e5-9f937b106a3c",
   "metadata": {},
   "outputs": [],
   "source": [
    "D = open('niyaj.txt', 'r')"
   ]
  },
  {
   "cell_type": "code",
   "execution_count": 23,
   "id": "dc402a5e-86b6-4d05-995b-4d927cf092ff",
   "metadata": {},
   "outputs": [
    {
     "data": {
      "text/plain": [
       "'this is a file to store my nameTechnology is the application of scientific knowledge to the practical aims of human life or, as it is sometimes phrased, to the change and manipulation of the human environment.Technology is the application of scientific knowledge to the practical aims of human life or, as it is sometimes phrased, to the change and manipulation of the human environment.Technology is the application of scientific knowledge to the practical aims of human life or, as it is sometimes phrased, to the change and manipulation of the human environment.Technology is the application of scientific knowledge to the practical aims of human life or, as it is sometimes phrased, to the change and manipulation of the human environment.Technology is the application of scientific knowledge to the practical aims of human life or, as it is sometimes phrased, to the change and manipulation of the human environment.Technology is the application of scientific knowledge to the practical aims of human life or, as it is sometimes phrased, to the change and manipulation of the human environment.'"
      ]
     },
     "execution_count": 23,
     "metadata": {},
     "output_type": "execute_result"
    }
   ],
   "source": [
    "D.read()"
   ]
  },
  {
   "cell_type": "code",
   "execution_count": 26,
   "id": "f94742bd-1d34-4d28-b909-1d9d94b90569",
   "metadata": {},
   "outputs": [
    {
     "data": {
      "text/plain": [
       "0"
      ]
     },
     "execution_count": 26,
     "metadata": {},
     "output_type": "execute_result"
    }
   ],
   "source": [
    "D.seek(0)"
   ]
  },
  {
   "cell_type": "code",
   "execution_count": 27,
   "id": "eb948d0e-70bc-4b25-a793-67f44b459039",
   "metadata": {},
   "outputs": [
    {
     "data": {
      "text/plain": [
       "'this is a file to store my nameTechnology is the application of scientific knowledge to the practical aims of human life or, as it is sometimes phrased, to the change and manipulation of the human environment.Technology is the application of scientific knowledge to the practical aims of human life or, as it is sometimes phrased, to the change and manipulation of the human environment.Technology is the application of scientific knowledge to the practical aims of human life or, as it is sometimes phrased, to the change and manipulation of the human environment.Technology is the application of scientific knowledge to the practical aims of human life or, as it is sometimes phrased, to the change and manipulation of the human environment.Technology is the application of scientific knowledge to the practical aims of human life or, as it is sometimes phrased, to the change and manipulation of the human environment.Technology is the application of scientific knowledge to the practical aims of human life or, as it is sometimes phrased, to the change and manipulation of the human environment.'"
      ]
     },
     "execution_count": 27,
     "metadata": {},
     "output_type": "execute_result"
    }
   ],
   "source": [
    "D.readline()"
   ]
  },
  {
   "cell_type": "markdown",
   "id": "5222cdb5-cc8b-4686-9dad-0b0b7d1af72a",
   "metadata": {},
   "source": [
    "readlines(): The readlines() method is used to read the entire contents of a file as a list of strings, where each string is a line from the file."
   ]
  },
  {
   "cell_type": "code",
   "execution_count": 29,
   "id": "1be27cf2-991e-4b91-8f68-ee97cfff982b",
   "metadata": {},
   "outputs": [
    {
     "data": {
      "text/plain": [
       "0"
      ]
     },
     "execution_count": 29,
     "metadata": {},
     "output_type": "execute_result"
    }
   ],
   "source": [
    "D.seek(0)"
   ]
  },
  {
   "cell_type": "code",
   "execution_count": 30,
   "id": "8b613726-7576-4ed0-97b8-46ba1c0fad0a",
   "metadata": {},
   "outputs": [
    {
     "data": {
      "text/plain": [
       "['this is a file to store my nameTechnology is the application of scientific knowledge to the practical aims of human life or, as it is sometimes phrased, to the change and manipulation of the human environment.Technology is the application of scientific knowledge to the practical aims of human life or, as it is sometimes phrased, to the change and manipulation of the human environment.Technology is the application of scientific knowledge to the practical aims of human life or, as it is sometimes phrased, to the change and manipulation of the human environment.Technology is the application of scientific knowledge to the practical aims of human life or, as it is sometimes phrased, to the change and manipulation of the human environment.Technology is the application of scientific knowledge to the practical aims of human life or, as it is sometimes phrased, to the change and manipulation of the human environment.Technology is the application of scientific knowledge to the practical aims of human life or, as it is sometimes phrased, to the change and manipulation of the human environment.']"
      ]
     },
     "execution_count": 30,
     "metadata": {},
     "output_type": "execute_result"
    }
   ],
   "source": [
    "D.readlines()"
   ]
  },
  {
   "cell_type": "markdown",
   "id": "ac087bf5-fb4e-4d5a-ac52-1290edd600e4",
   "metadata": {},
   "source": [
    "Q5. Explain why with statement is used with open(). What is the advantage of using with statement and\n",
    "open() together?"
   ]
  },
  {
   "cell_type": "markdown",
   "id": "a0936c75-9545-4b41-b736-9d8213f93d23",
   "metadata": {},
   "source": [
    "The with statement is used in combination with the open() function to automatically close a file when you are finished using it. The with statement provides a convenient way to handle files and other resources that need to be cleaned up after you are finished using them.\n",
    "\n",
    "The advantage of using the with statement and open() together is that you don't need to explicitly call the close() method to close the file. When you use the with statement, the file will be automatically closed for you, even if an exception is raised during the execution of the block of code."
   ]
  },
  {
   "cell_type": "code",
   "execution_count": 32,
   "id": "b98334ed-0e82-42b5-9e46-0f31882442b3",
   "metadata": {},
   "outputs": [
    {
     "name": "stdout",
     "output_type": "stream",
     "text": [
      "this is a file to store my nameTechnology is the application of scientific knowledge to the practical aims of human life or, as it is sometimes phrased, to the change and manipulation of the human environment.Technology is the application of scientific knowledge to the practical aims of human life or, as it is sometimes phrased, to the change and manipulation of the human environment.Technology is the application of scientific knowledge to the practical aims of human life or, as it is sometimes phrased, to the change and manipulation of the human environment.Technology is the application of scientific knowledge to the practical aims of human life or, as it is sometimes phrased, to the change and manipulation of the human environment.Technology is the application of scientific knowledge to the practical aims of human life or, as it is sometimes phrased, to the change and manipulation of the human environment.Technology is the application of scientific knowledge to the practical aims of human life or, as it is sometimes phrased, to the change and manipulation of the human environment.\n"
     ]
    }
   ],
   "source": [
    "# Open a file in read-only mode\n",
    "with open(\"niyaj.txt\", \"r\") as f:\n",
    "    # Read the entire contents of the file\n",
    "    contents = f.read()\n",
    "    # Do something with the contents of the file\n",
    "    print(contents)\n",
    "\n",
    "# The file is automatically closed when the block of code is finished"
   ]
  },
  {
   "cell_type": "markdown",
   "id": "8769feac-5147-44e0-bf4e-e65cb8af6b3e",
   "metadata": {},
   "source": [
    "In this example, the file is automatically closed when the block of code inside the with statement is finished, even if an exception is raised during the execution of the code. This is because the with statement uses a context manager to manage the file. The context manager takes care of closing the file for you, even if an error occurs.\n",
    "\n",
    "Using the with statement with the open() function is a recommended way to handle files in Python, because it eliminates the need to manually close the file and helps prevent resource leaks and other issues."
   ]
  },
  {
   "cell_type": "markdown",
   "id": "5696f6c6-bf3e-4caf-a214-a54eabea2a4d",
   "metadata": {},
   "source": [
    "Q6. Explain the write() and writelines() functions. Give a suitable example."
   ]
  },
  {
   "cell_type": "markdown",
   "id": "d2f9b579-2cc6-4b3a-9f1a-48a617c097e2",
   "metadata": {},
   "source": [
    "The write() method is used to write a string to a file. You can use the write() method to add new content to a file or to overwrite existing content in a file.\n",
    "\n",
    "Here's an example that demonstrates how to use the write() method:"
   ]
  },
  {
   "cell_type": "code",
   "execution_count": 33,
   "id": "85e9a535-5404-4d3a-824a-c81068af1b85",
   "metadata": {},
   "outputs": [],
   "source": [
    "# Open a file in write mode\n",
    "with open(\"file.txt\", \"w\") as f:\n",
    "    # Write a string to the file\n",
    "    f.write(\"Hello, world!\")"
   ]
  },
  {
   "cell_type": "markdown",
   "id": "2867e22b-1910-4ed9-81d0-4907fd335fa3",
   "metadata": {},
   "source": [
    "In this example, the write() method is used to write the string \"Hello, world!\" to the file. If the file does not exist, the write() method will create a new file. If the file already exists, the write() method will overwrite the existing content in the file.\n",
    "\n",
    "writelines(): The writelines() method is used to write a list of strings to a file. Each string in the list is written to a separate line in the file.\n",
    "\n",
    "Here's an example that demonstrates how to use the writelines() method:"
   ]
  },
  {
   "cell_type": "code",
   "execution_count": 34,
   "id": "04f90c12-9ba2-4727-98e9-53d24db7b20e",
   "metadata": {},
   "outputs": [],
   "source": [
    "# Create a list of strings\n",
    "lines = [\"Hello, world!\", \"This is a test.\", \"Goodbye.\"]\n",
    "\n",
    "# Open a file in write mode\n",
    "with open(\"file.txt\", \"w\") as f:\n",
    "    # Write the list of strings to the file\n",
    "    f.writelines(lines)"
   ]
  },
  {
   "cell_type": "code",
   "execution_count": null,
   "id": "41631862-624e-40ad-884c-78e4054ffb26",
   "metadata": {},
   "outputs": [],
   "source": []
  },
  {
   "cell_type": "code",
   "execution_count": null,
   "id": "6d514876-60d8-496c-95e7-61694cc645cf",
   "metadata": {},
   "outputs": [],
   "source": []
  }
 ],
 "metadata": {
  "kernelspec": {
   "display_name": "Python 3 (ipykernel)",
   "language": "python",
   "name": "python3"
  },
  "language_info": {
   "codemirror_mode": {
    "name": "ipython",
    "version": 3
   },
   "file_extension": ".py",
   "mimetype": "text/x-python",
   "name": "python",
   "nbconvert_exporter": "python",
   "pygments_lexer": "ipython3",
   "version": "3.10.8"
  }
 },
 "nbformat": 4,
 "nbformat_minor": 5
}
