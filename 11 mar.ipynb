{
 "cells": [
  {
   "cell_type": "markdown",
   "id": "a374ffe2-3d32-4ea0-bce6-08b6f28261b1",
   "metadata": {},
   "source": [
    "Q1: What is the difference between a t-test and a z-test? Provide an example scenario where you would\n",
    "use each type of test."
   ]
  },
  {
   "cell_type": "markdown",
   "id": "94538e78-472a-48c1-bd5a-10b0dfcf512e",
   "metadata": {},
   "source": [
    "A t-test and a z-test are both statistical tests used to determine the probability of observing a certain result, given a sample of data. However, there are some differences between the two tests that make them appropriate for different scenarios.\n",
    "\n",
    "The main difference between a t-test and a z-test is that a t-test is used when the sample size is small or the population standard deviation is unknown, while a z-test is used when the sample size is large or the population standard deviation is known.\n",
    "\n",
    "A t-test is appropriate when you want to compare the means of two groups of data. For example, suppose you want to test whether the mean weight of apples in one orchard is different from the mean weight of apples in another orchard. In this scenario, a t-test would be appropriate because you likely do not know the population standard deviation of apple weights.\n",
    "\n",
    "A z-test, on the other hand, is appropriate when you want to test whether the mean of a sample is significantly different from a known population mean. For example, suppose you want to test whether the average height of men in a city is different from the average height of men in the country. In this scenario, a z-test would be appropriate because you may know the population standard deviation of men's heights."
   ]
  },
  {
   "cell_type": "markdown",
   "id": "ca462316-8337-44b2-b450-172609648bc1",
   "metadata": {},
   "source": [
    "Q2: Differentiate between one-tailed and two-tailed tests."
   ]
  },
  {
   "cell_type": "markdown",
   "id": "aeb31326-a6cc-44f7-9d2b-9069d6491372",
   "metadata": {},
   "source": [
    "A one-tailed test, also known as a directional test, is a hypothesis test in which the null hypothesis is tested against an alternative hypothesis that specifies a direction. In other words, the one-tailed test is used to determine whether the sample data is significantly greater than or less than a particular value, rather than simply different from it. For example, if you want to test whether a new treatment is more effective than an existing treatment, you would use a one-tailed test with the alternative hypothesis stating that the new treatment is greater than the existing treatment.\n",
    "\n",
    "A two-tailed test, also known as a non-directional test, is a hypothesis test in which the null hypothesis is tested against an alternative hypothesis that specifies that the sample data is simply different from a particular value, without specifying a direction. In other words, the two-tailed test is used to determine whether the sample data is significantly different from a particular value, regardless of whether it is greater than or less than that value. For example, if you want to test whether a coin is biased towards heads or tails, you would use a two-tailed test with the alternative hypothesis stating that the coin is simply different from a fair coin."
   ]
  },
  {
   "cell_type": "markdown",
   "id": "2dbc22b2-f85d-45f6-9bee-9e3449cd9e6d",
   "metadata": {},
   "source": [
    "Q3: Explain the concept of Type 1 and Type 2 errors in hypothesis testing. Provide an example scenario for\n",
    "each type of error."
   ]
  },
  {
   "cell_type": "markdown",
   "id": "9ef1777b-ea08-4edc-b901-8e3f541e7349",
   "metadata": {},
   "source": [
    "Type 1 and Type 2 errors are two types of errors that can occur in hypothesis testing.\n",
    "\n",
    "Type 1 error occurs when the null hypothesis is rejected even though it is true. In other words, it is a false positive error. The probability of making a Type 1 error is denoted by alpha (α) and is also known as the significance level. A lower significance level decreases the probability of making a Type 1 error, but it also increases the probability of making a Type 2 error.\n",
    "\n",
    "An example scenario for Type 1 error is a medical test for a disease. Suppose a new medical test is developed to diagnose a disease with a 5% Type 1 error rate. This means that 5% of the time, the test will falsely diagnose someone with the disease even though they do not have it. This can lead to unnecessary treatment and anxiety for the patient.\n",
    "\n",
    "Type 2 error occurs when the null hypothesis is not rejected even though it is false. In other words, it is a false negative error. The probability of making a Type 2 error is denoted by beta (β) and depends on the sample size, the variability in the data, and the difference between the null hypothesis and the true value of the population parameter being tested.\n",
    "\n",
    "An example scenario for Type 2 error is a clinical trial for a new drug. Suppose a new drug is tested with a clinical trial with a 20% Type 2 error rate. This means that 20% of the time, the drug will be ineffective in treating the disease even though it actually is effective. This can lead to the drug being rejected when it could have been beneficial to patients."
   ]
  },
  {
   "cell_type": "markdown",
   "id": "fc03fe91-b603-4e95-86bf-1c65c8663a58",
   "metadata": {},
   "source": [
    "Q4: Explain Bayes's theorem with an example.\n"
   ]
  },
  {
   "cell_type": "markdown",
   "id": "123b5661-6d0b-454b-907c-3410689b375c",
   "metadata": {},
   "source": [
    "Bayes's theorem is a mathematical formula that describes the probability of an event based on prior knowledge or beliefs about related events. The formula is named after the Reverend Thomas Bayes, an 18th-century English statistician and Presbyterian minister.\n",
    "\n",
    "The theorem states that the probability of an event A, given the occurrence of an event B, is equal to the probability of B given A, multiplied by the prior probability of A, divided by the prior probability of B. In mathematical notation, this can be written as:\n",
    "\n",
    "P(A|B) = P(B|A) * P(A) / P(B)\n",
    "\n",
    "To illustrate this, consider an example scenario where a company sells two types of laptops, brand A and brand B. It is known that brand A has a defect rate of 2%, while brand B has a defect rate of 5%. Suppose a customer purchases a laptop from the company and discovers that it is defective.\n",
    "\n",
    "Bayes's theorem can be used to determine the probability that the laptop is brand A, given that it is defective. Let A be the event that the laptop is brand A, and B be the event that the laptop is defective. Then, we can apply Bayes's theorem as follows:\n",
    "\n",
    "P(A|B) = P(B|A) * P(A) / P(B)\n",
    "\n",
    "P(B|A) is the probability of the laptop being defective given that it is brand A, which is 0.02.\n",
    "\n",
    "P(A) is the prior probability of the laptop being brand A, which is 0.5 because the company sells two brands of laptops.\n",
    "\n",
    "P(B) is the prior probability of the laptop being defective, which is the sum of the probability of a brand A laptop being defective and the probability of a brand B laptop being defective, or 0.02 * 0.5 + 0.05 * 0.5 = 0.035.\n",
    "\n",
    "Substituting these values into the formula, we get:\n",
    "\n",
    "P(A|B) = 0.02 * 0.5 / 0.035 = 0.286\n",
    "\n",
    "Therefore, the probability that the laptop is brand A is 0.286"
   ]
  },
  {
   "cell_type": "markdown",
   "id": "a5e5c43a-71a2-4633-8f5e-c609812f7fa3",
   "metadata": {},
   "source": [
    "Q5: What is a confidence interval? How to calculate the confidence interval, explain with an example."
   ]
  },
  {
   "cell_type": "markdown",
   "id": "0e5beb46-bbcf-4b1a-8452-02a7589ac71b",
   "metadata": {},
   "source": [
    "A confidence interval is a range of values that is likely to contain the true value of a population parameter, such as a mean or a proportion, with a certain level of confidence. In other words, it is an estimate of the range in which the population parameter is expected to lie, based on a sample from the population.\n",
    "\n",
    "The confidence level is the probability that the interval contains the true population parameter. It is typically expressed as a percentage, such as 95%, which means that if the sampling and estimation process were repeated many times, the true population parameter would be expected to fall within the 95% confidence interval in 95% of the samples.\n",
    "\n",
    "The formula for calculating the confidence interval for a sample mean, assuming a normal distribution and known population standard deviation, is:\n",
    "\n",
    "Confidence interval = sample mean +/- (z-score x standard error)\n",
    "\n",
    "where:\n",
    "\n",
    "Sample mean is the mean of the sample\n",
    "Z-score is the critical value of the standard normal distribution for the desired confidence level (e.g., 1.96 for a 95% confidence level)\n",
    "Standard error is the standard deviation of the sampling distribution, which is equal to the population standard deviation divided by the square root of the sample size.\n",
    "Here is an example to illustrate how to calculate a confidence interval:\n",
    "\n",
    "Suppose a random sample of 50 students is selected from a population of students, and their heights are measured. The sample mean height is 65 inches, and the population standard deviation is 2.5 inches. Calculate a 95% confidence interval for the population mean height.\n",
    "\n",
    "First, we need to calculate the standard error of the sampling distribution:\n",
    "\n",
    "Standard error = 2.5 / sqrt(50) = 0.354\n",
    "\n",
    "Next, we need to find the z-score for a 95% confidence level, which is 1.96. Using the formula above, we can calculate the confidence interval as follows:\n",
    "\n",
    "Confidence interval = 65 +/- (1.96 x 0.354)\n",
    "= (64.31, 65.69)\n",
    "\n",
    "Therefore, we can say with 95% confidence that the true population mean height falls between 64.31 and 65.69 inches."
   ]
  },
  {
   "cell_type": "markdown",
   "id": "1d270349-e0e9-424b-8234-425cac2183e2",
   "metadata": {},
   "source": [
    "Q6. Use Bayes' Theorem to calculate the probability of an event occurring given prior knowledge of the\n",
    "event's probability and new evidence. Provide a sample problem and solution."
   ]
  },
  {
   "cell_type": "markdown",
   "id": "f36c4c96-7f08-447e-8082-968fff0f1b05",
   "metadata": {},
   "source": [
    "Suppose a certain rare disease affects 0.1% of the population. A test has been developed to detect the disease, but it is not perfect. The test correctly identifies a person with the disease 95% of the time and correctly identifies a person without the disease 98% of the time. If a person tests positive for the disease, what is the probability that they actually have the disease?\n",
    "\n",
    "Solution:\n",
    "\n",
    "Let A denote the event that a person has the disease, and let B denote the event that a person tests positive for the disease. We want to find P(A|B), the probability that a person has the disease given that they test positive.\n",
    "\n",
    "Using Bayes' Theorem, we have:\n",
    "\n",
    "P(A|B) = P(B|A) * P(A) / P(B)\n",
    "\n",
    "where:\n",
    "\n",
    "P(B|A) is the probability of testing positive given that a person has the disease, which is 0.95.\n",
    "\n",
    "P(A) is the prior probability of a person having the disease, which is 0.001.\n",
    "\n",
    "P(B) is the total probability of testing positive, which can be calculated using the law of total probability:\n",
    "    \n",
    "P(B) = P(B|A) * P(A) + P(B|not A) * P(not A)\n",
    "\n",
    "= 0.95 * 0.001 + 0.02 * 0.999\n",
    "= 0.02093\n",
    "\n",
    "where:\n",
    "\n",
    "P(B|not A) is the probability of testing positive given that a person does not have the disease, which is 0.02.\n",
    "Substituting the values into the formula, we have:\n",
    "\n",
    "P(A|B) = 0.95 * 0.001 / 0.02093\n",
    "= 0.0453\n",
    "\n",
    "Therefore, the probability that a person actually has the disease given that they test positive is approximately 4.53%."
   ]
  },
  {
   "cell_type": "markdown",
   "id": "361cd580-6540-4915-8e9d-db7e795318da",
   "metadata": {},
   "source": [
    "Q7. Calculate the 95% confidence interval for a sample of data with a mean of 50 and a standard deviation\n",
    "of 5. Interpret the results."
   ]
  },
  {
   "cell_type": "markdown",
   "id": "c5dd1b50-1c92-49d2-90e7-ab8e19530595",
   "metadata": {},
   "source": [
    "To calculate the 95% confidence interval for a sample with a mean of 50 and a standard deviation of 5, we will use the formula:\n",
    "\n",
    "Confidence interval = sample mean +/- (z-score * (standard deviation / sqrt(sample size)))\n",
    "\n",
    "where the z-score for a 95% confidence level is 1.96.\n",
    "\n",
    "Confidence interval = 50 +/- (1.96 * (5 / sqrt(sample size)))\n",
    "\n",
    "We don't know the sample size, so we cannot calculate the confidence interval exactly. However, we can interpret the results for different sample sizes.\n",
    "\n",
    "For example, if the sample size is 100, then:\n",
    "\n",
    "Confidence interval = 50 +/- (1.96 * (5 / sqrt(100)))\n",
    "= 50 +/- 0.98\n",
    "= (49.02, 50.98)\n",
    "\n",
    "This means that if we take many samples of size 100 from the same population, we can expect the true population mean to fall within the range of 49.02 to 50.98 in 95% of the samples."
   ]
  },
  {
   "cell_type": "markdown",
   "id": "5bf45565-2f16-4102-b4c8-ddb8fbacc277",
   "metadata": {},
   "source": [
    "Q8. What is the margin of error in a confidence interval? How does sample size affect the margin of error?\n",
    "Provide an example of a scenario where a larger sample size would result in a smaller margin of error."
   ]
  },
  {
   "cell_type": "markdown",
   "id": "4f090361-c231-4a9f-82fd-b6f23331f2cf",
   "metadata": {},
   "source": [
    "The margin of error in a confidence interval is the range of values above and below the point estimate that is likely to contain the true population parameter at a certain level of confidence. It represents the uncertainty or variability in the estimate due to sampling error.\n",
    "\n",
    "The margin of error is affected by several factors, including the size of the sample, the level of confidence desired, and the variability of the population. As the sample size increases, the margin of error decreases because larger sample sizes reduce the impact of sampling error and increase the precision of the estimate.\n",
    "\n",
    "For example, suppose we want to estimate the average height of students at a university with 95% confidence, and we take two samples: one of size 50 and one of size 500. If the standard deviation of height in the population is 3 inches, we can calculate the margin of error for each sample size using the formula:\n",
    "\n",
    "Margin of error = z-score * (standard deviation / sqrt(sample size))\n",
    "\n",
    "where the z-score for a 95% confidence level is 1.96.\n",
    "\n",
    "For the sample of size 50, we have:\n",
    "\n",
    "Margin of error = 1.96 * (3 / sqrt(50))\n",
    "= 0.84 inches\n",
    "\n",
    "For the sample of size 500, we have:\n",
    "\n",
    "Margin of error = 1.96 * (3 / sqrt(500))\n",
    "= 0.27 inches\n",
    "\n",
    "As we can see, the margin of error for the sample of size 500 is much smaller than the margin of error for the sample of size 50. This means that we can be more confident in the estimate based on the larger sample size."
   ]
  },
  {
   "cell_type": "markdown",
   "id": "722c4448-7f5b-44dd-8186-0cd6d4240a8a",
   "metadata": {},
   "source": [
    "Q9. Calculate the z-score for a data point with a value of 75, a population mean of 70, and a population\n",
    "standard deviation of 5. Interpret the results."
   ]
  },
  {
   "cell_type": "markdown",
   "id": "63ab0e69-66a2-46cf-87ac-931a2a275d9f",
   "metadata": {},
   "source": [
    "To calculate the z-score for a data point with a value of 75, a population mean of 70, and a population standard deviation of 5, we will use the formula:\n",
    "\n",
    "z = (x - μ) / σ\n",
    "\n",
    "where x is the data point, μ is the population mean, and σ is the population standard deviation.\n",
    "\n",
    "Substituting the given values, we have:\n",
    "\n",
    "z = (75 - 70) / 5\n",
    "= 1\n",
    "\n",
    "This means that the data point of 75 is one standard deviation above the population mean of 70. A z-score of 1 indicates that the data point is above average, but not extremely so."
   ]
  },
  {
   "cell_type": "markdown",
   "id": "0792d7c9-f46e-498b-9a21-5c16f7788aac",
   "metadata": {},
   "source": [
    "Q10. In a study of the effectiveness of a new weight loss drug, a sample of 50 participants lost an average\n",
    "of 6 pounds with a standard deviation of 2.5 pounds. Conduct a hypothesis test to determine if the drug is\n",
    "significantly effective at a 95% confidence level using a t-test."
   ]
  },
  {
   "cell_type": "markdown",
   "id": "62cd8163-4a66-4897-bfa3-5e7497944295",
   "metadata": {},
   "source": [
    "To conduct a hypothesis test to determine if the weight loss drug is significantly effective at a 95% confidence level using a t-test, we need to set up the null and alternative hypotheses, choose the appropriate test statistic, calculate the p-value, and make a decision based on the results.\n",
    "\n",
    "Null hypothesis: The weight loss drug is not significantly effective, and the true mean weight loss in the population is 0 pounds.\n",
    "\n",
    "Alternative hypothesis: The weight loss drug is significantly effective, and the true mean weight loss in the population is greater than 0 pounds.\n",
    "\n",
    "We will use a one-sample t-test to test this hypothesis, since we are comparing the mean weight loss in the sample to a known population value. The test statistic for a one-sample t-test is:\n",
    "\n",
    "t = (x̄ - μ) / (s / sqrt(n))\n",
    "\n",
    "where x̄ is the sample mean, μ is the population mean (which we assume to be 0 in this case), s is the sample standard deviation, and n is the sample size.\n",
    "\n",
    "Substituting the given values, we have:\n",
    "\n",
    "t = (6 - 0) / (2.5 / sqrt(50))\n",
    "= 13.42\n",
    "\n",
    "Using a t-table with 49 degrees of freedom (df = n - 1), we find that the critical t-value for a one-tailed test with a 95% confidence level is 1.676.\n",
    "\n",
    "The p-value for this test is the probability of obtaining a t-value of 13.42 or higher, assuming the null hypothesis is true. Using a t-distribution calculator or software, we find that the p-value is less than 0.001, which is much smaller than the significance level of 0.05. This means that there is strong evidence to reject the null hypothesis and conclude that the weight loss drug is significantly effective."
   ]
  },
  {
   "cell_type": "markdown",
   "id": "aba58a10-7845-473d-ba33-482e7942405e",
   "metadata": {},
   "source": [
    "Q11. In a survey of 500 people, 65% reported being satisfied with their current job. Calculate the 95%\n",
    "confidence interval for the true proportion of people who are satisfied with their job."
   ]
  },
  {
   "cell_type": "markdown",
   "id": "07f55758-525d-4f89-9e18-1bd366fb4b8e",
   "metadata": {},
   "source": [
    "CI = p ± zsqrt(p(1-p)/n)\n",
    "\n",
    "where:\n",
    "\n",
    "p = the sample proportion\n",
    "n = the sample size\n",
    "z = the z-score associated with the desired confidence level (95% in this case)\n",
    "\n",
    "Substituting the given values, we get:\n",
    "\n",
    "p = 0.65\n",
    "n = 500\n",
    "z = 1.96 (from a standard normal table for a 95% confidence level)\n",
    "\n",
    "CI = 0.65 ± 1.96sqrt(0.65(1-0.65)/500) = 0.65 ± 0.045\n",
    "\n",
    "Therefore, the 95% confidence interval for the true proportion of people who are satisfied with their job is [0.605, 0.695]. We can be 95% confident that the true proportion of people who are satisfied with their job falls within this range."
   ]
  },
  {
   "cell_type": "markdown",
   "id": "3c9493a3-d7d7-4eaf-b6ea-21ea10d73abd",
   "metadata": {},
   "source": [
    "Q12. A researcher is testing the effectiveness of two different teaching methods on student performance.\n",
    "Sample A has a mean score of 85 with a standard deviation of 6, while sample B has a mean score of 82\n",
    "with a standard deviation of 5. Conduct a hypothesis test to determine if the two teaching methods have a\n",
    "significant difference in student performance using a t-test with a significance level of 0.01."
   ]
  },
  {
   "cell_type": "markdown",
   "id": "09c89098-c971-4222-8382-e45c591b8b1c",
   "metadata": {},
   "source": [
    "\n",
    "Null hypothesis (H0): There is no significant difference between the mean scores of the two teaching methods.\n",
    "Alternative hypothesis (Ha): There is a significant difference between the mean scores of the two teaching methods.\n",
    "\n",
    "We can use a two-sample t-test to test this hypothesis, with a significance level of 0.01. The formula for the t-test statistic is:\n",
    "\n",
    "t = (x̄1 - x̄2) / (s1²/n1 + s2²/n2)^(1/2)\n",
    "\n",
    "where:\n",
    "x̄1 and x̄2 are the sample means,\n",
    "\n",
    "s1 and s2 are the sample standard deviations,\n",
    "\n",
    "n1 and n2 are the sample sizes.\n",
    "\n",
    "Substituting the given values, we get:\n",
    "\n",
    "t = (85 - 82) / ((6²/ n1) + (5²/ n2))^(1/2)\n",
    "\n",
    "We don't know the sample sizes, so we can't calculate the exact t-value. However, we can assume that the sample sizes are large enough to use the t-distribution and estimate the degrees of freedom as df = n1 + n2 - 2 = N - 2, where N is the total number of observations.\n",
    "\n",
    "Using a t-distribution table or calculator with df = N - 2, a significance level of 0.01 and a two-tailed test, we find the critical t-value to be ±2.602.\n",
    "\n",
    "If the calculated t-value is outside the range of ±2.602, we can reject the null hypothesis and conclude that there is a significant difference between the mean scores of the two teaching methods."
   ]
  },
  {
   "cell_type": "markdown",
   "id": "b703021c-7087-40f9-aff5-b3c9ace62015",
   "metadata": {},
   "source": [
    "Q13. A population has a mean of 60 and a standard deviation of 8. A sample of 50 observations has a mean\n",
    "of 65. Calculate the 90% confidence interval for the true population mean."
   ]
  },
  {
   "cell_type": "markdown",
   "id": "c4e2e455-a2f3-40fa-af61-b2f3828ac1d6",
   "metadata": {},
   "source": [
    "CI = x̄ ± z*(s/√n)\n",
    "\n",
    "x̄ = 65\n",
    "\n",
    "s = 8\n",
    "\n",
    "n = 50\n",
    "\n",
    "z = 1.645 (from a standard normal table for a 90% confidence level)\n",
    "\n",
    "CI = 65 ± 1.645*(8/√50) = 65 ± 2.322\n",
    "\n",
    "Therefore, the 90% confidence interval for the true population mean is [62.678, 67.322]. We can be 90% confident that the true population mean falls within this range."
   ]
  },
  {
   "cell_type": "markdown",
   "id": "bf099b45-b769-4eb4-9299-1aa705617276",
   "metadata": {},
   "source": [
    "Q14. In a study of the effects of caffeine on reaction time, a sample of 30 participants had an average\n",
    "reaction time of 0.25 seconds with a standard deviation of 0.05 seconds. Conduct a hypothesis test to\n",
    "determine if the caffeine has a significant effect on reaction time at a 90% confidence level using a t-test."
   ]
  },
  {
   "cell_type": "markdown",
   "id": "c772c693-0b6a-4840-a7a7-ee59e6e63423",
   "metadata": {},
   "source": [
    "Null hypothesis (H0): Caffeine has no significant effect on reaction time.\n",
    "Alternative hypothesis (Ha): Caffeine has a significant effect on reaction time.\n",
    "\n",
    "We can use a one-sample t-test to test this hypothesis, with a significance level of 0.10 (90% confidence level). The formula for the t-test statistic is:\n",
    "\n",
    "t = (x̄ - μ) / (s/√n)\n",
    "\n",
    "t = (0.25 - 0) / (0.05/√30) ≈ 7.746\n",
    "\n",
    "Using a t-distribution table or calculator with df = n - 1 = 29 and a significance level of 0.10 (two-tailed test), we find the critical t-value to be ±1.699.\n",
    "\n",
    "Since the calculated t-value of 7.746 is outside the range of ±1.699, we can reject the null hypothesis and conclude that caffeine has a significant effect on reaction time at a 90% confidence level.\n",
    "\n",
    "Therefore, we can conclude that caffeine has a significant effect on reaction time based on the given sample data. However, it's important to note that this conclusion is based on the assumption that the sample is representative of the population and that the sample size is sufficiently large. Further studies may be needed to confirm this result."
   ]
  }
 ],
 "metadata": {
  "kernelspec": {
   "display_name": "Python 3 (ipykernel)",
   "language": "python",
   "name": "python3"
  },
  "language_info": {
   "codemirror_mode": {
    "name": "ipython",
    "version": 3
   },
   "file_extension": ".py",
   "mimetype": "text/x-python",
   "name": "python",
   "nbconvert_exporter": "python",
   "pygments_lexer": "ipython3",
   "version": "3.10.8"
  }
 },
 "nbformat": 4,
 "nbformat_minor": 5
}
