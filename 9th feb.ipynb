{
 "cells": [
  {
   "cell_type": "markdown",
   "id": "ba44c5b4-1732-4164-95de-ab406084e736",
   "metadata": {},
   "source": [
    "Q1 Create a vehicle class with an init method having instance variables as name_of_vehicle, max_speed\n",
    "and average_of_vehicle."
   ]
  },
  {
   "cell_type": "code",
   "execution_count": 8,
   "id": "305a23bf-f32d-4840-9f69-eb2b4118db4c",
   "metadata": {},
   "outputs": [],
   "source": [
    "class vehicle :\n",
    "    def __init__(self , name_of_vehicle, max_speed, average_of_vehicle):\n",
    "        self.name_of_vehicle = name_of_vehicle\n",
    "        self.max_speed = max_speed\n",
    "        self.average_of_vehicle = average_of_vehicle\n",
    "        "
   ]
  },
  {
   "cell_type": "code",
   "execution_count": 7,
   "id": "88319f0a-c010-4002-8802-db8fe7c43027",
   "metadata": {},
   "outputs": [
    {
     "name": "stdout",
     "output_type": "stream",
     "text": [
      "sedan\n",
      "180\n",
      "13\n"
     ]
    }
   ],
   "source": [
    "my_car = vehicle('sedan', 180, 13)\n",
    "\n",
    "print(my_car.name_of_vehicle)\n",
    "print(my_car.max_speed)\n",
    "print(my_car.average_of_vehicle)"
   ]
  },
  {
   "cell_type": "markdown",
   "id": "4aae950c-34cc-4a91-a69f-dec003567e62",
   "metadata": {},
   "source": [
    "Q2 Create a child class car from the vehicle class created in Que 1, which will inherit the vehicle class.Create a method named seating_capacity which takes capacity as an argument and returns the name ofthe vehicle and its seating capacity."
   ]
  },
  {
   "cell_type": "code",
   "execution_count": 28,
   "id": "71f2b368-a696-4023-9906-eb664dfeb2c6",
   "metadata": {},
   "outputs": [],
   "source": [
    "        \n",
    "class car(vehicle):\n",
    "    def seating_capacity(self, capacity):\n",
    "        return f\"{self.name_of_vehicle} has a seating capacity of {capacity}.\"\n",
    "        "
   ]
  },
  {
   "cell_type": "code",
   "execution_count": 30,
   "id": "4e2f80f5-5a5c-4414-ac59-a825db5a3407",
   "metadata": {},
   "outputs": [
    {
     "name": "stdout",
     "output_type": "stream",
     "text": [
      "Sedan has a seating capacity of 5.\n"
     ]
    }
   ],
   "source": [
    "my_car = car(\"Sedan\", 180, 12)\n",
    "print(my_car.seating_capacity(5)) "
   ]
  },
  {
   "cell_type": "markdown",
   "id": "636c3294-7e58-493a-8e79-9fe1084ef169",
   "metadata": {},
   "source": [
    "Q3 What is multiple inheritance? Write a python code to demonstrate multiple inheritance."
   ]
  },
  {
   "cell_type": "markdown",
   "id": "cccd6c3f-71b2-4352-9cc6-971cab31dd22",
   "metadata": {},
   "source": [
    "Multiple inheritance is a feature of object-oriented programming languages where a class can inherit attributes and methods from multiple parent classes. This allows a child class to inherit the characteristics of multiple parent classes and reuse their code"
   ]
  },
  {
   "cell_type": "code",
   "execution_count": 22,
   "id": "fc21332c-5ef9-418d-8be2-3dac720397a3",
   "metadata": {},
   "outputs": [
    {
     "name": "stdout",
     "output_type": "stream",
     "text": [
      "Method 1 of Parent 1\n",
      "Method 2 of Parent 2\n"
     ]
    }
   ],
   "source": [
    "class Parent1:\n",
    "    def method1(self):\n",
    "        print(\"Method 1 of Parent 1\")\n",
    "\n",
    "class Parent2:\n",
    "    def method2(self):\n",
    "        print(\"Method 2 of Parent 2\")\n",
    "\n",
    "class Child(Parent1, Parent2):\n",
    "    pass\n",
    "\n",
    "c = Child()\n",
    "c.method1()  # outputs: Method 1 of Parent 1\n",
    "c.method2()  # outputs: Method 2 of Parent 2\n"
   ]
  },
  {
   "cell_type": "markdown",
   "id": "b807ac2b-b4a5-405c-8af2-38f89663e84a",
   "metadata": {},
   "source": [
    "Q4 What are getter and setter in python? Create a class and create a getter and a setter method in this class."
   ]
  },
  {
   "cell_type": "markdown",
   "id": "21c25a96-ccd0-4aef-9150-ecf96960b459",
   "metadata": {},
   "source": [
    "In object-oriented programming, getter and setter methods provide a way to access or set the values of an object's attributes. Getters are used to retrieve the value of an object's attribute, while setters are used to change the value of an object's attribute. Getters and setters are often used to enforce encapsulation, where the internal state of an object is hidden from external code, and can only be accessed or modified through these methods."
   ]
  },
  {
   "cell_type": "code",
   "execution_count": 23,
   "id": "b0730b5f-46e2-4636-ab28-788f10957cea",
   "metadata": {},
   "outputs": [
    {
     "name": "stdout",
     "output_type": "stream",
     "text": [
      "niyaj\n",
      "muskan\n"
     ]
    }
   ],
   "source": [
    "class Person:\n",
    "    def __init__(self, name):\n",
    "        self._name = name\n",
    "        \n",
    "    def get_name(self):\n",
    "        return self._name\n",
    "    \n",
    "    def set_name(self, name):\n",
    "        self._name = name\n",
    "        \n",
    "    name = property(get_name, set_name)\n",
    "\n",
    "p = Person(\"niyaj\")\n",
    "print(p.name) \n",
    "p.name = \"muskan\"\n",
    "print(p.name)  "
   ]
  },
  {
   "cell_type": "markdown",
   "id": "70c55aeb-3df7-4403-9cab-1b64f1d75bc5",
   "metadata": {},
   "source": [
    "Q5.What is method overriding in python? Write a python code to demonstrate method overriding."
   ]
  },
  {
   "cell_type": "markdown",
   "id": "f3bc4186-64c1-46eb-a942-dce591bffd3b",
   "metadata": {},
   "source": [
    "Method overriding is a feature of object-oriented programming where a subclass can provide a new implementation for a method that is already defined in its parent class. This allows the subclass to customize the behavior of the method in a way that is appropriate for its specific use case, while still inheriting the behavior of the parent class for other methods."
   ]
  },
  {
   "cell_type": "code",
   "execution_count": 27,
   "id": "989758fb-1b1c-45fc-8a1d-ffeb7af688f9",
   "metadata": {},
   "outputs": [
    {
     "name": "stdout",
     "output_type": "stream",
     "text": [
      "308.0\n",
      "606.6794000000001\n"
     ]
    }
   ],
   "source": [
    "class Shape:\n",
    "    def area(self):\n",
    "        pass\n",
    "\n",
    "class Rectangle(Shape):\n",
    "    def __init__(self, width, height):\n",
    "        self.width = width\n",
    "        self.height = height\n",
    "        \n",
    "    def area(self):\n",
    "        return self.width * self.height\n",
    "\n",
    "class Circle(Shape):\n",
    "    def __init__(self, radius):\n",
    "        self.radius = radius\n",
    "        \n",
    "    def area(self):\n",
    "        return 3.14 * (self.radius**2)\n",
    "\n",
    "r = Rectangle(15.4, 20)\n",
    "print(r.area()) \n",
    "\n",
    "c = Circle(13.9)\n",
    "print(c.area()) "
   ]
  },
  {
   "cell_type": "code",
   "execution_count": null,
   "id": "93fded0e-f7b1-499d-a526-a42c42215169",
   "metadata": {},
   "outputs": [],
   "source": []
  }
 ],
 "metadata": {
  "kernelspec": {
   "display_name": "Python 3 (ipykernel)",
   "language": "python",
   "name": "python3"
  },
  "language_info": {
   "codemirror_mode": {
    "name": "ipython",
    "version": 3
   },
   "file_extension": ".py",
   "mimetype": "text/x-python",
   "name": "python",
   "nbconvert_exporter": "python",
   "pygments_lexer": "ipython3",
   "version": "3.10.8"
  }
 },
 "nbformat": 4,
 "nbformat_minor": 5
}
